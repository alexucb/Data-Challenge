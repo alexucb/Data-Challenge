{
 "cells": [
  {
   "cell_type": "markdown",
   "metadata": {},
   "source": [
    "# 1-Setup"
   ]
  },
  {
   "cell_type": "markdown",
   "metadata": {},
   "source": [
    "First, let's make sure this notebook works well in both python 2 and 3, import a few common modules, ensure MatplotLib plots figures inline and prepare a function to save the figures:"
   ]
  },
  {
   "cell_type": "code",
   "execution_count": 1,
   "metadata": {
    "collapsed": true
   },
   "outputs": [],
   "source": [
    "# To support both python 2 and python 3\n",
    "from __future__ import division, print_function, unicode_literals\n",
    "\n",
    "# Common imports\n",
    "import numpy as np\n",
    "import pandas as pd\n",
    "import os\n",
    "\n",
    "# to make this notebook's output stable across runs\n",
    "np.random.seed(42)\n",
    "\n",
    "# To plot pretty figures\n",
    "%matplotlib inline\n",
    "import matplotlib\n",
    "import matplotlib.pyplot as plt\n",
    "import seaborn as sns\n",
    "plt.rcParams['axes.labelsize'] = 14\n",
    "plt.rcParams['xtick.labelsize'] = 12\n",
    "plt.rcParams['ytick.labelsize'] = 12\n",
    "\n",
    "# Where to save the figures\n",
    "PROJECT_ROOT_DIR = \".\"\n",
    "CHAPTER_ID = \"end_to_end_project\"\n",
    "\n",
    "def save_fig(fig_id, tight_layout=True):\n",
    "    path = os.path.join(PROJECT_ROOT_DIR, \"images\", CHAPTER_ID, fig_id + \".png\")\n",
    "    print(\"Saving figure\", fig_id)\n",
    "    if tight_layout:\n",
    "        plt.tight_layout()\n",
    "    plt.savefig(path, format='png', dpi=300)"
   ]
  },
  {
   "cell_type": "markdown",
   "metadata": {},
   "source": [
    "# 2-Get the data"
   ]
  },
  {
   "cell_type": "code",
   "execution_count": 2,
   "metadata": {
    "collapsed": true
   },
   "outputs": [],
   "source": [
    "path1 = 'obtrain-ml.csv'\n",
    "\n",
    "df = pd.read_csv(path1, header=None)"
   ]
  },
  {
   "cell_type": "code",
   "execution_count": 3,
   "metadata": {},
   "outputs": [
    {
     "data": {
      "text/html": [
       "<div>\n",
       "<style>\n",
       "    .dataframe thead tr:only-child th {\n",
       "        text-align: right;\n",
       "    }\n",
       "\n",
       "    .dataframe thead th {\n",
       "        text-align: left;\n",
       "    }\n",
       "\n",
       "    .dataframe tbody tr th {\n",
       "        vertical-align: top;\n",
       "    }\n",
       "</style>\n",
       "<table border=\"1\" class=\"dataframe\">\n",
       "  <thead>\n",
       "    <tr style=\"text-align: right;\">\n",
       "      <th></th>\n",
       "      <th>0</th>\n",
       "      <th>1</th>\n",
       "      <th>2</th>\n",
       "      <th>3</th>\n",
       "      <th>4</th>\n",
       "      <th>5</th>\n",
       "      <th>6</th>\n",
       "      <th>7</th>\n",
       "      <th>8</th>\n",
       "      <th>9</th>\n",
       "      <th>...</th>\n",
       "      <th>550</th>\n",
       "      <th>551</th>\n",
       "      <th>552</th>\n",
       "      <th>553</th>\n",
       "      <th>554</th>\n",
       "      <th>555</th>\n",
       "      <th>556</th>\n",
       "      <th>557</th>\n",
       "      <th>558</th>\n",
       "      <th>559</th>\n",
       "    </tr>\n",
       "  </thead>\n",
       "  <tbody>\n",
       "    <tr>\n",
       "      <th>0</th>\n",
       "      <td>0.345081</td>\n",
       "      <td>0.746197</td>\n",
       "      <td>-1.090600</td>\n",
       "      <td>-1.080283</td>\n",
       "      <td>-0.271744</td>\n",
       "      <td>0.071893</td>\n",
       "      <td>-0.750719</td>\n",
       "      <td>1.320688</td>\n",
       "      <td>0.695390</td>\n",
       "      <td>1.163406</td>\n",
       "      <td>...</td>\n",
       "      <td>0.432794</td>\n",
       "      <td>-0.343324</td>\n",
       "      <td>-1.237080</td>\n",
       "      <td>0.392683</td>\n",
       "      <td>-1.937201</td>\n",
       "      <td>1.273496</td>\n",
       "      <td>0.471206</td>\n",
       "      <td>0.088425</td>\n",
       "      <td>-0.754906</td>\n",
       "      <td>-1.0</td>\n",
       "    </tr>\n",
       "    <tr>\n",
       "      <th>1</th>\n",
       "      <td>-1.238198</td>\n",
       "      <td>-0.990755</td>\n",
       "      <td>0.471342</td>\n",
       "      <td>-0.101829</td>\n",
       "      <td>-1.129983</td>\n",
       "      <td>0.341522</td>\n",
       "      <td>1.189618</td>\n",
       "      <td>-0.720331</td>\n",
       "      <td>0.104180</td>\n",
       "      <td>-1.092291</td>\n",
       "      <td>...</td>\n",
       "      <td>-1.290025</td>\n",
       "      <td>0.139505</td>\n",
       "      <td>0.117134</td>\n",
       "      <td>-0.186936</td>\n",
       "      <td>0.408618</td>\n",
       "      <td>0.237257</td>\n",
       "      <td>-1.110670</td>\n",
       "      <td>-0.645378</td>\n",
       "      <td>1.779565</td>\n",
       "      <td>-1.0</td>\n",
       "    </tr>\n",
       "    <tr>\n",
       "      <th>2</th>\n",
       "      <td>-0.008384</td>\n",
       "      <td>0.834482</td>\n",
       "      <td>0.726280</td>\n",
       "      <td>-1.889651</td>\n",
       "      <td>0.927735</td>\n",
       "      <td>-0.167712</td>\n",
       "      <td>0.570338</td>\n",
       "      <td>0.808293</td>\n",
       "      <td>-1.187723</td>\n",
       "      <td>-0.093282</td>\n",
       "      <td>...</td>\n",
       "      <td>-1.068939</td>\n",
       "      <td>-1.592181</td>\n",
       "      <td>-0.709196</td>\n",
       "      <td>0.754166</td>\n",
       "      <td>-0.060812</td>\n",
       "      <td>-0.646838</td>\n",
       "      <td>-0.774647</td>\n",
       "      <td>0.161045</td>\n",
       "      <td>-1.289014</td>\n",
       "      <td>-1.0</td>\n",
       "    </tr>\n",
       "    <tr>\n",
       "      <th>3</th>\n",
       "      <td>-0.082521</td>\n",
       "      <td>0.900501</td>\n",
       "      <td>1.673648</td>\n",
       "      <td>0.935160</td>\n",
       "      <td>1.558300</td>\n",
       "      <td>-0.406216</td>\n",
       "      <td>-0.735869</td>\n",
       "      <td>0.540115</td>\n",
       "      <td>-0.494145</td>\n",
       "      <td>-0.496822</td>\n",
       "      <td>...</td>\n",
       "      <td>0.453064</td>\n",
       "      <td>0.929381</td>\n",
       "      <td>1.205144</td>\n",
       "      <td>-1.941207</td>\n",
       "      <td>0.246593</td>\n",
       "      <td>0.710245</td>\n",
       "      <td>1.027464</td>\n",
       "      <td>0.483457</td>\n",
       "      <td>1.000004</td>\n",
       "      <td>1.0</td>\n",
       "    </tr>\n",
       "    <tr>\n",
       "      <th>4</th>\n",
       "      <td>-2.134288</td>\n",
       "      <td>-0.561238</td>\n",
       "      <td>-1.293037</td>\n",
       "      <td>-0.703646</td>\n",
       "      <td>1.918425</td>\n",
       "      <td>-1.160573</td>\n",
       "      <td>-0.106683</td>\n",
       "      <td>0.546631</td>\n",
       "      <td>-0.006137</td>\n",
       "      <td>0.632034</td>\n",
       "      <td>...</td>\n",
       "      <td>-2.686108</td>\n",
       "      <td>0.544527</td>\n",
       "      <td>0.886340</td>\n",
       "      <td>-0.885839</td>\n",
       "      <td>0.574833</td>\n",
       "      <td>-1.298381</td>\n",
       "      <td>0.814288</td>\n",
       "      <td>-0.834902</td>\n",
       "      <td>0.195764</td>\n",
       "      <td>1.0</td>\n",
       "    </tr>\n",
       "  </tbody>\n",
       "</table>\n",
       "<p>5 rows × 560 columns</p>\n",
       "</div>"
      ],
      "text/plain": [
       "        0         1         2         3         4         5         6    \\\n",
       "0  0.345081  0.746197 -1.090600 -1.080283 -0.271744  0.071893 -0.750719   \n",
       "1 -1.238198 -0.990755  0.471342 -0.101829 -1.129983  0.341522  1.189618   \n",
       "2 -0.008384  0.834482  0.726280 -1.889651  0.927735 -0.167712  0.570338   \n",
       "3 -0.082521  0.900501  1.673648  0.935160  1.558300 -0.406216 -0.735869   \n",
       "4 -2.134288 -0.561238 -1.293037 -0.703646  1.918425 -1.160573 -0.106683   \n",
       "\n",
       "        7         8         9   ...        550       551       552       553  \\\n",
       "0  1.320688  0.695390  1.163406 ...   0.432794 -0.343324 -1.237080  0.392683   \n",
       "1 -0.720331  0.104180 -1.092291 ...  -1.290025  0.139505  0.117134 -0.186936   \n",
       "2  0.808293 -1.187723 -0.093282 ...  -1.068939 -1.592181 -0.709196  0.754166   \n",
       "3  0.540115 -0.494145 -0.496822 ...   0.453064  0.929381  1.205144 -1.941207   \n",
       "4  0.546631 -0.006137  0.632034 ...  -2.686108  0.544527  0.886340 -0.885839   \n",
       "\n",
       "        554       555       556       557       558  559  \n",
       "0 -1.937201  1.273496  0.471206  0.088425 -0.754906 -1.0  \n",
       "1  0.408618  0.237257 -1.110670 -0.645378  1.779565 -1.0  \n",
       "2 -0.060812 -0.646838 -0.774647  0.161045 -1.289014 -1.0  \n",
       "3  0.246593  0.710245  1.027464  0.483457  1.000004  1.0  \n",
       "4  0.574833 -1.298381  0.814288 -0.834902  0.195764  1.0  \n",
       "\n",
       "[5 rows x 560 columns]"
      ]
     },
     "execution_count": 3,
     "metadata": {},
     "output_type": "execute_result"
    }
   ],
   "source": [
    "df.head()"
   ]
  },
  {
   "cell_type": "code",
   "execution_count": 4,
   "metadata": {},
   "outputs": [
    {
     "name": "stdout",
     "output_type": "stream",
     "text": [
      "<class 'pandas.core.frame.DataFrame'>\n",
      "RangeIndex: 2000 entries, 0 to 1999\n",
      "Columns: 560 entries, 0 to 559\n",
      "dtypes: float64(560)\n",
      "memory usage: 8.5 MB\n"
     ]
    }
   ],
   "source": [
    "df.info()"
   ]
  },
  {
   "cell_type": "code",
   "execution_count": 5,
   "metadata": {},
   "outputs": [
    {
     "data": {
      "text/html": [
       "<div>\n",
       "<style>\n",
       "    .dataframe thead tr:only-child th {\n",
       "        text-align: right;\n",
       "    }\n",
       "\n",
       "    .dataframe thead th {\n",
       "        text-align: left;\n",
       "    }\n",
       "\n",
       "    .dataframe tbody tr th {\n",
       "        vertical-align: top;\n",
       "    }\n",
       "</style>\n",
       "<table border=\"1\" class=\"dataframe\">\n",
       "  <thead>\n",
       "    <tr style=\"text-align: right;\">\n",
       "      <th></th>\n",
       "      <th>0</th>\n",
       "      <th>1</th>\n",
       "      <th>2</th>\n",
       "      <th>3</th>\n",
       "      <th>4</th>\n",
       "      <th>5</th>\n",
       "      <th>6</th>\n",
       "      <th>7</th>\n",
       "      <th>8</th>\n",
       "      <th>9</th>\n",
       "      <th>...</th>\n",
       "      <th>550</th>\n",
       "      <th>551</th>\n",
       "      <th>552</th>\n",
       "      <th>553</th>\n",
       "      <th>554</th>\n",
       "      <th>555</th>\n",
       "      <th>556</th>\n",
       "      <th>557</th>\n",
       "      <th>558</th>\n",
       "      <th>559</th>\n",
       "    </tr>\n",
       "  </thead>\n",
       "  <tbody>\n",
       "    <tr>\n",
       "      <th>count</th>\n",
       "      <td>2.000000e+03</td>\n",
       "      <td>2.000000e+03</td>\n",
       "      <td>2.000000e+03</td>\n",
       "      <td>2.000000e+03</td>\n",
       "      <td>2.000000e+03</td>\n",
       "      <td>2.000000e+03</td>\n",
       "      <td>2.000000e+03</td>\n",
       "      <td>2.000000e+03</td>\n",
       "      <td>2.000000e+03</td>\n",
       "      <td>2.000000e+03</td>\n",
       "      <td>...</td>\n",
       "      <td>2.000000e+03</td>\n",
       "      <td>2.000000e+03</td>\n",
       "      <td>2.000000e+03</td>\n",
       "      <td>2.000000e+03</td>\n",
       "      <td>2.000000e+03</td>\n",
       "      <td>2.000000e+03</td>\n",
       "      <td>2.000000e+03</td>\n",
       "      <td>2.000000e+03</td>\n",
       "      <td>2.000000e+03</td>\n",
       "      <td>2000.00000</td>\n",
       "    </tr>\n",
       "    <tr>\n",
       "      <th>mean</th>\n",
       "      <td>-4.533041e-16</td>\n",
       "      <td>2.373102e-16</td>\n",
       "      <td>3.731460e-16</td>\n",
       "      <td>5.121459e-16</td>\n",
       "      <td>-2.249312e-16</td>\n",
       "      <td>-5.644374e-16</td>\n",
       "      <td>-1.430522e-15</td>\n",
       "      <td>1.479372e-16</td>\n",
       "      <td>1.797035e-16</td>\n",
       "      <td>-3.349959e-16</td>\n",
       "      <td>...</td>\n",
       "      <td>-9.074824e-16</td>\n",
       "      <td>4.851675e-17</td>\n",
       "      <td>1.095790e-15</td>\n",
       "      <td>6.250556e-15</td>\n",
       "      <td>3.201051e-16</td>\n",
       "      <td>5.143663e-15</td>\n",
       "      <td>7.799317e-18</td>\n",
       "      <td>-9.864332e-16</td>\n",
       "      <td>-9.859336e-16</td>\n",
       "      <td>0.00000</td>\n",
       "    </tr>\n",
       "    <tr>\n",
       "      <th>std</th>\n",
       "      <td>1.000250e+00</td>\n",
       "      <td>1.000250e+00</td>\n",
       "      <td>1.000250e+00</td>\n",
       "      <td>1.000250e+00</td>\n",
       "      <td>1.000250e+00</td>\n",
       "      <td>1.000250e+00</td>\n",
       "      <td>1.000250e+00</td>\n",
       "      <td>1.000250e+00</td>\n",
       "      <td>1.000250e+00</td>\n",
       "      <td>1.000250e+00</td>\n",
       "      <td>...</td>\n",
       "      <td>1.000250e+00</td>\n",
       "      <td>1.000250e+00</td>\n",
       "      <td>1.000250e+00</td>\n",
       "      <td>1.000250e+00</td>\n",
       "      <td>1.000250e+00</td>\n",
       "      <td>1.000250e+00</td>\n",
       "      <td>1.000250e+00</td>\n",
       "      <td>1.000250e+00</td>\n",
       "      <td>1.000250e+00</td>\n",
       "      <td>1.00025</td>\n",
       "    </tr>\n",
       "    <tr>\n",
       "      <th>min</th>\n",
       "      <td>-3.806609e+00</td>\n",
       "      <td>-3.249674e+00</td>\n",
       "      <td>-3.340611e+00</td>\n",
       "      <td>-3.298440e+00</td>\n",
       "      <td>-3.228107e+00</td>\n",
       "      <td>-3.259287e+00</td>\n",
       "      <td>-3.237158e+00</td>\n",
       "      <td>-3.518765e+00</td>\n",
       "      <td>-3.117747e+00</td>\n",
       "      <td>-3.669559e+00</td>\n",
       "      <td>...</td>\n",
       "      <td>-4.123012e+00</td>\n",
       "      <td>-3.089802e+00</td>\n",
       "      <td>-3.754656e+00</td>\n",
       "      <td>-3.578335e+00</td>\n",
       "      <td>-3.839075e+00</td>\n",
       "      <td>-3.471544e+00</td>\n",
       "      <td>-3.735818e+00</td>\n",
       "      <td>-3.734729e+00</td>\n",
       "      <td>-4.071743e+00</td>\n",
       "      <td>-1.00000</td>\n",
       "    </tr>\n",
       "    <tr>\n",
       "      <th>25%</th>\n",
       "      <td>-6.518120e-01</td>\n",
       "      <td>-8.620804e-01</td>\n",
       "      <td>-6.931272e-01</td>\n",
       "      <td>-6.918625e-01</td>\n",
       "      <td>-6.489926e-01</td>\n",
       "      <td>-6.539326e-01</td>\n",
       "      <td>-6.638078e-01</td>\n",
       "      <td>-7.164303e-01</td>\n",
       "      <td>-6.833506e-01</td>\n",
       "      <td>-6.996555e-01</td>\n",
       "      <td>...</td>\n",
       "      <td>-6.071954e-01</td>\n",
       "      <td>-6.765307e-01</td>\n",
       "      <td>-6.444703e-01</td>\n",
       "      <td>-6.529039e-01</td>\n",
       "      <td>-6.870561e-01</td>\n",
       "      <td>-6.731509e-01</td>\n",
       "      <td>-6.744861e-01</td>\n",
       "      <td>-6.744321e-01</td>\n",
       "      <td>-6.624165e-01</td>\n",
       "      <td>-1.00000</td>\n",
       "    </tr>\n",
       "    <tr>\n",
       "      <th>50%</th>\n",
       "      <td>-1.110822e-02</td>\n",
       "      <td>-7.019288e-03</td>\n",
       "      <td>-2.689188e-04</td>\n",
       "      <td>-2.197787e-02</td>\n",
       "      <td>-2.821030e-03</td>\n",
       "      <td>-1.339113e-02</td>\n",
       "      <td>2.389254e-02</td>\n",
       "      <td>3.500354e-02</td>\n",
       "      <td>1.872041e-02</td>\n",
       "      <td>-2.242355e-03</td>\n",
       "      <td>...</td>\n",
       "      <td>2.640873e-02</td>\n",
       "      <td>-1.159443e-02</td>\n",
       "      <td>3.245307e-02</td>\n",
       "      <td>-5.806578e-02</td>\n",
       "      <td>-5.655842e-02</td>\n",
       "      <td>9.680798e-03</td>\n",
       "      <td>3.983293e-02</td>\n",
       "      <td>1.050333e-02</td>\n",
       "      <td>9.302599e-03</td>\n",
       "      <td>0.00000</td>\n",
       "    </tr>\n",
       "    <tr>\n",
       "      <th>75%</th>\n",
       "      <td>6.537779e-01</td>\n",
       "      <td>8.554428e-01</td>\n",
       "      <td>7.047071e-01</td>\n",
       "      <td>6.453907e-01</td>\n",
       "      <td>6.784400e-01</td>\n",
       "      <td>6.430344e-01</td>\n",
       "      <td>6.495657e-01</td>\n",
       "      <td>5.598357e-01</td>\n",
       "      <td>6.493064e-01</td>\n",
       "      <td>6.732397e-01</td>\n",
       "      <td>...</td>\n",
       "      <td>6.933908e-01</td>\n",
       "      <td>6.625549e-01</td>\n",
       "      <td>6.595602e-01</td>\n",
       "      <td>6.322097e-01</td>\n",
       "      <td>7.105999e-01</td>\n",
       "      <td>6.671100e-01</td>\n",
       "      <td>6.825393e-01</td>\n",
       "      <td>6.653655e-01</td>\n",
       "      <td>6.653531e-01</td>\n",
       "      <td>1.00000</td>\n",
       "    </tr>\n",
       "    <tr>\n",
       "      <th>max</th>\n",
       "      <td>2.965983e+00</td>\n",
       "      <td>3.193342e+00</td>\n",
       "      <td>2.940053e+00</td>\n",
       "      <td>2.732206e+00</td>\n",
       "      <td>3.611380e+00</td>\n",
       "      <td>3.427170e+00</td>\n",
       "      <td>3.158721e+00</td>\n",
       "      <td>3.343066e+00</td>\n",
       "      <td>3.233024e+00</td>\n",
       "      <td>3.241649e+00</td>\n",
       "      <td>...</td>\n",
       "      <td>3.287154e+00</td>\n",
       "      <td>3.635809e+00</td>\n",
       "      <td>3.316442e+00</td>\n",
       "      <td>3.455745e+00</td>\n",
       "      <td>4.175236e+00</td>\n",
       "      <td>3.360887e+00</td>\n",
       "      <td>3.527163e+00</td>\n",
       "      <td>4.544100e+00</td>\n",
       "      <td>3.773016e+00</td>\n",
       "      <td>1.00000</td>\n",
       "    </tr>\n",
       "  </tbody>\n",
       "</table>\n",
       "<p>8 rows × 560 columns</p>\n",
       "</div>"
      ],
      "text/plain": [
       "                0             1             2             3             4    \\\n",
       "count  2.000000e+03  2.000000e+03  2.000000e+03  2.000000e+03  2.000000e+03   \n",
       "mean  -4.533041e-16  2.373102e-16  3.731460e-16  5.121459e-16 -2.249312e-16   \n",
       "std    1.000250e+00  1.000250e+00  1.000250e+00  1.000250e+00  1.000250e+00   \n",
       "min   -3.806609e+00 -3.249674e+00 -3.340611e+00 -3.298440e+00 -3.228107e+00   \n",
       "25%   -6.518120e-01 -8.620804e-01 -6.931272e-01 -6.918625e-01 -6.489926e-01   \n",
       "50%   -1.110822e-02 -7.019288e-03 -2.689188e-04 -2.197787e-02 -2.821030e-03   \n",
       "75%    6.537779e-01  8.554428e-01  7.047071e-01  6.453907e-01  6.784400e-01   \n",
       "max    2.965983e+00  3.193342e+00  2.940053e+00  2.732206e+00  3.611380e+00   \n",
       "\n",
       "                5             6             7             8             9    \\\n",
       "count  2.000000e+03  2.000000e+03  2.000000e+03  2.000000e+03  2.000000e+03   \n",
       "mean  -5.644374e-16 -1.430522e-15  1.479372e-16  1.797035e-16 -3.349959e-16   \n",
       "std    1.000250e+00  1.000250e+00  1.000250e+00  1.000250e+00  1.000250e+00   \n",
       "min   -3.259287e+00 -3.237158e+00 -3.518765e+00 -3.117747e+00 -3.669559e+00   \n",
       "25%   -6.539326e-01 -6.638078e-01 -7.164303e-01 -6.833506e-01 -6.996555e-01   \n",
       "50%   -1.339113e-02  2.389254e-02  3.500354e-02  1.872041e-02 -2.242355e-03   \n",
       "75%    6.430344e-01  6.495657e-01  5.598357e-01  6.493064e-01  6.732397e-01   \n",
       "max    3.427170e+00  3.158721e+00  3.343066e+00  3.233024e+00  3.241649e+00   \n",
       "\n",
       "          ...               550           551           552           553  \\\n",
       "count     ...      2.000000e+03  2.000000e+03  2.000000e+03  2.000000e+03   \n",
       "mean      ...     -9.074824e-16  4.851675e-17  1.095790e-15  6.250556e-15   \n",
       "std       ...      1.000250e+00  1.000250e+00  1.000250e+00  1.000250e+00   \n",
       "min       ...     -4.123012e+00 -3.089802e+00 -3.754656e+00 -3.578335e+00   \n",
       "25%       ...     -6.071954e-01 -6.765307e-01 -6.444703e-01 -6.529039e-01   \n",
       "50%       ...      2.640873e-02 -1.159443e-02  3.245307e-02 -5.806578e-02   \n",
       "75%       ...      6.933908e-01  6.625549e-01  6.595602e-01  6.322097e-01   \n",
       "max       ...      3.287154e+00  3.635809e+00  3.316442e+00  3.455745e+00   \n",
       "\n",
       "                554           555           556           557           558  \\\n",
       "count  2.000000e+03  2.000000e+03  2.000000e+03  2.000000e+03  2.000000e+03   \n",
       "mean   3.201051e-16  5.143663e-15  7.799317e-18 -9.864332e-16 -9.859336e-16   \n",
       "std    1.000250e+00  1.000250e+00  1.000250e+00  1.000250e+00  1.000250e+00   \n",
       "min   -3.839075e+00 -3.471544e+00 -3.735818e+00 -3.734729e+00 -4.071743e+00   \n",
       "25%   -6.870561e-01 -6.731509e-01 -6.744861e-01 -6.744321e-01 -6.624165e-01   \n",
       "50%   -5.655842e-02  9.680798e-03  3.983293e-02  1.050333e-02  9.302599e-03   \n",
       "75%    7.105999e-01  6.671100e-01  6.825393e-01  6.653655e-01  6.653531e-01   \n",
       "max    4.175236e+00  3.360887e+00  3.527163e+00  4.544100e+00  3.773016e+00   \n",
       "\n",
       "              559  \n",
       "count  2000.00000  \n",
       "mean      0.00000  \n",
       "std       1.00025  \n",
       "min      -1.00000  \n",
       "25%      -1.00000  \n",
       "50%       0.00000  \n",
       "75%       1.00000  \n",
       "max       1.00000  \n",
       "\n",
       "[8 rows x 560 columns]"
      ]
     },
     "execution_count": 5,
     "metadata": {},
     "output_type": "execute_result"
    }
   ],
   "source": [
    "df.describe()"
   ]
  },
  {
   "cell_type": "markdown",
   "metadata": {},
   "source": [
    "## Train-Test Split\n",
    "The data is split into train and test datasets in a stratified fashion using the target label. The training dataset includes 75% of the original dataset."
   ]
  },
  {
   "cell_type": "code",
   "execution_count": 7,
   "metadata": {},
   "outputs": [],
   "source": [
    "from sklearn.cross_validation import train_test_split\n",
    "\n",
    "y = df[559]\n",
    "X = df.drop(559,axis=1)\n",
    "\n",
    "X_train, X_test, y_train, y_test = train_test_split(X, y, stratify=y, random_state = 15) "
   ]
  },
  {
   "cell_type": "markdown",
   "metadata": {},
   "source": [
    "## Feature Engineering\n",
    "The number of missing values in each column of the training and test datasets are as follows:"
   ]
  },
  {
   "cell_type": "code",
   "execution_count": 8,
   "metadata": {},
   "outputs": [
    {
     "name": "stdout",
     "output_type": "stream",
     "text": [
      "Is there any null value in the training dataset?   False\n",
      "Is there any null value in the test dataset?       False\n"
     ]
    }
   ],
   "source": [
    "print ('Is there any null value in the training dataset?   %s' % (X_train.isnull().any()).any())\n",
    "print ('Is there any null value in the test dataset?       %s' % (X_test.isnull().any()).any())"
   ]
  },
  {
   "cell_type": "code",
   "execution_count": 9,
   "metadata": {},
   "outputs": [
    {
     "data": {
      "image/png": "[encoded data removed]",
      "text/plain": [
       "<matplotlib.figure.Figure at 0x10f633a58>"
      ]
     },
     "metadata": {},
     "output_type": "display_data"
    }
   ],
   "source": [
    "sns.set_context('notebook',font_scale=1.5)\n",
    "labels =['Postive','Negative']\n",
    "colors = ['yellowgreen', 'lightcoral']\n",
    "explode = (0, 0.1)\n",
    "plt.figure(figsize=(5,5))\n",
    "plt.pie(y_train.value_counts(),labels=labels,colors=colors,explode=explode, shadow=True, startangle=90, autopct='%.2f');"
   ]
  },
  {
   "cell_type": "code",
   "execution_count": 118,
   "metadata": {
    "collapsed": true
   },
   "outputs": [
    {
     "data": {
      "image/png": "[encoded data removed]",
      "text/plain": [
       "<matplotlib.figure.Figure at 0x12c1ebd68>"
      ]
     },
     "metadata": {},
     "output_type": "display_data"
    }
   ],
   "source": [
    "#Use blank/white to visualize all the missing values accross the variables\n",
    "train_copy = X\n",
    "train_copy = train_copy.replace(-1, np.NaN)\n",
    "import missingno as msno\n",
    "# Nullity or missing values by columns\n",
    "msno.matrix(df=train_copy.iloc[:,1:50], figsize=(30, 10), color=(0.42, 0.1, 0.05))"
   ]
  },
  {
   "cell_type": "code",
   "execution_count": 119,
   "metadata": {
    "collapsed": true
   },
   "outputs": [
    {
     "name": "stdout",
     "output_type": "stream",
     "text": [
      "int_features: []\n",
      "float_features: [  0   1   2   3   4   5   6   7   8   9  10  11  12  13  14  15  16  17\n",
      "  18  19  20  21  22  23  24  25  26  27  28  29  30  31  32  33  34  35\n",
      "  36  37  38  39  40  41  42  43  44  45  46  47  48  49  50  51  52  53\n",
      "  54  55  56  57  58  59  60  61  62  63  64  65  66  67  68  69  70  71\n",
      "  72  73  74  75  76  77  78  79  80  81  82  83  84  85  86  87  88  89\n",
      "  90  91  92  93  94  95  96  97  98  99 100 101 102 103 104 105 106 107\n",
      " 108 109 110 111 112 113 114 115 116 117 118 119 120 121 122 123 124 125\n",
      " 126 127 128 129 130 131 132 133 134 135 136 137 138 139 140 141 142 143\n",
      " 144 145 146 147 148 149 150 151 152 153 154 155 156 157 158 159 160 161\n",
      " 162 163 164 165 166 167 168 169 170 171 172 173 174 175 176 177 178 179\n",
      " 180 181 182 183 184 185 186 187 188 189 190 191 192 193 194 195 196 197\n",
      " 198 199 200 201 202 203 204 205 206 207 208 209 210 211 212 213 214 215\n",
      " 216 217 218 219 220 221 222 223 224 225 226 227 228 229 230 231 232 233\n",
      " 234 235 236 237 238 239 240 241 242 243 244 245 246 247 248 249 250 251\n",
      " 252 253 254 255 256 257 258 259 260 261 262 263 264 265 266 267 268 269\n",
      " 270 271 272 273 274 275 276 277 278 279 280 281 282 283 284 285 286 287\n",
      " 288 289 290 291 292 293 294 295 296 297 298 299 300 301 302 303 304 305\n",
      " 306 307 308 309 310 311 312 313 314 315 316 317 318 319 320 321 322 323\n",
      " 324 325 326 327 328 329 330 331 332 333 334 335 336 337 338 339 340 341\n",
      " 342 343 344 345 346 347 348 349 350 351 352 353 354 355 356 357 358 359\n",
      " 360 361 362 363 364 365 366 367 368 369 370 371 372 373 374 375 376 377\n",
      " 378 379 380 381 382 383 384 385 386 387 388 389 390 391 392 393 394 395\n",
      " 396 397 398 399 400 401 402 403 404 405 406 407 408 409 410 411 412 413\n",
      " 414 415 416 417 418 419 420 421 422 423 424 425 426 427 428 429 430 431\n",
      " 432 433 434 435 436 437 438 439 440 441 442 443 444 445 446 447 448 449\n",
      " 450 451 452 453 454 455 456 457 458 459 460 461 462 463 464 465 466 467\n",
      " 468 469 470 471 472 473 474 475 476 477 478 479 480 481 482 483 484 485\n",
      " 486 487 488 489 490 491 492 493 494 495 496 497 498 499 500 501 502 503\n",
      " 504 505 506 507 508 509 510 511 512 513 514 515 516 517 518 519 520 521\n",
      " 522 523 524 525 526 527 528 529 530 531 532 533 534 535 536 537 538 539\n",
      " 540 541 542 543 544 545 546 547 548 549 550 551 552 553 554 555 556 557\n",
      " 558]\n",
      "bool_features: []\n",
      "categorical_features: []\n"
     ]
    }
   ],
   "source": [
    "#count the numbers of int64, float64, bool or object/string features\n",
    "train = X\n",
    "int_features = train.select_dtypes(include = ['int64']).columns.values\n",
    "float_features = train.select_dtypes(include = ['float64']).columns.values\n",
    "bool_features= train.select_dtypes(include = ['bool']).columns.values\n",
    "categorical_features = train.select_dtypes(include = ['object']).columns.values\n",
    "print('int_features:', int_features) #, 'count of int_features:'count(int_features)\n",
    "print('float_features:', float_features)\n",
    "print('bool_features:', bool_features)\n",
    "print('categorical_features:', categorical_features)"
   ]
  },
  {
   "cell_type": "code",
   "execution_count": 120,
   "metadata": {
    "collapsed": true
   },
   "outputs": [
    {
     "data": {
      "text/plain": [
       "<matplotlib.axes._subplots.AxesSubplot at 0x115507828>"
      ]
     },
     "execution_count": 120,
     "metadata": {},
     "output_type": "execute_result"
    },
    {
     "data": {
      "image/png": "[encoded data removed]",
      "text/plain": [
       "<matplotlib.figure.Figure at 0x11778ed30>"
      ]
     },
     "metadata": {},
     "output_type": "display_data"
    }
   ],
   "source": [
    "corr = train.corr()\n",
    "\n",
    "mask = np.zeros_like(corr, dtype=np.bool)\n",
    "mask[np.triu_indices_from(mask)] = True\n",
    "\n",
    "f, ax = plt.subplots(figsize=(10, 10))\n",
    "\n",
    "cmap = sns.diverging_palette(220, 10, as_cmap=True)\n",
    "\n",
    "\n",
    "plt.title('Pearson Correlation of All Features', y=1.05, size=20)\n",
    "sns.heatmap(corr, mask=mask, cmap=cmap, vmax=0.1, center=0,\n",
    "            square=True, linewidths=.5, cbar_kws={\"shrink\": .5})\n"
   ]
  },
  {
   "cell_type": "markdown",
   "metadata": {},
   "source": [
    "# 1. Simple NN 101 in Keras"
   ]
  },
  {
   "cell_type": "code",
   "execution_count": 12,
   "metadata": {},
   "outputs": [],
   "source": [
    "# Import libraries for data wrangling, preprocessing and visualization\n",
    "import numpy \n",
    "import pandas as pd\n",
    "import matplotlib.pyplot as plt\n",
    "import seaborn as sns\n",
    "%matplotlib inline\n",
    "from sklearn.model_selection import train_test_split\n",
    "from sklearn.preprocessing import LabelEncoder\n",
    "from sklearn.preprocessing import StandardScaler\n",
    "from sklearn.pipeline import Pipeline\n",
    "\n",
    "# Importing libraries for building the neural network\n",
    "from keras.models import Sequential\n",
    "from keras.layers import Dense\n",
    "from keras.wrappers.scikit_learn import KerasClassifier\n",
    "from sklearn.model_selection import StratifiedKFold\n",
    "from sklearn.model_selection import cross_val_score\n",
    "from keras.initializers import glorot_normal"
   ]
  },
  {
   "cell_type": "code",
   "execution_count": 13,
   "metadata": {
    "collapsed": true
   },
   "outputs": [],
   "source": [
    "#Vectorize the dataset for Keras\n",
    "df[559]=df[559].replace(-1, 0) #replace -1 with 0 for binary classification (0,1)\n",
    "dataset = df.values\n",
    "# split into input (X) and output (Y) variables\n",
    "X = dataset[:,0:559]\n",
    "Y = dataset[:,559]\n",
    "# Y = [x if x==1 else 0 for x in Y] this would create a list of 1500 arrays\n",
    "X_train, X_test, Y_train, Y_test = train_test_split(X, Y, \n",
    "                                                    test_size=0.2,\n",
    "                                                   random_state=42)"
   ]
  },
  {
   "cell_type": "code",
   "execution_count": 14,
   "metadata": {},
   "outputs": [],
   "source": [
    "n_input_dim = X.shape[1]\n",
    "n_output_dim = 1 # Binary classification\n",
    "n_units = 1024\n",
    "\n",
    "# Define network\n",
    "model = Sequential()\n",
    "model.add(Dense(n_units, input_dim=n_input_dim, activation='elu',\n",
    "               kernel_initializer=glorot_normal(seed=0)))\n",
    "model.add(Dense(n_output_dim, activation='sigmoid',\n",
    "               kernel_initializer=glorot_normal(seed=0)))\n",
    "# Compile the model\n",
    "model.compile(loss='binary_crossentropy', optimizer='adam', metrics=['accuracy'])"
   ]
  },
  {
   "cell_type": "code",
   "execution_count": 21,
   "metadata": {
    "collapsed": true
   },
   "outputs": [
    {
     "data": {
      "image/png": "[encoded data removed]",
      "text/plain": [
       "<matplotlib.figure.Figure at 0x11d035e10>"
      ]
     },
     "metadata": {},
     "output_type": "display_data"
    },
    {
     "name": "stdout",
     "output_type": "stream",
     "text": [
      "CPU times: user 46.1 s, sys: 5.23 s, total: 51.3 s\n",
      "Wall time: 19.9 s\n"
     ]
    }
   ],
   "source": [
    "%%time\n",
    "# Fit the model\n",
    "hist = model.fit(X_train, Y_train, validation_split=0.33, epochs=20, batch_size=5, verbose=0)\n",
    "\n",
    "plt.figure(figsize=(8,6))\n",
    "plt.plot(hist.history['acc'], label='Accuracy')\n",
    "plt.plot(hist.history['loss'], label='Loss')\n",
    "plt.legend(loc='best')\n",
    "plt.title('Training Accuracy and Loss')\n",
    "plt.show()"
   ]
  },
  {
   "cell_type": "code",
   "execution_count": 22,
   "metadata": {},
   "outputs": [
    {
     "name": "stdout",
     "output_type": "stream",
     "text": [
      "400/400 [==============================] - 0s 42us/step\n",
      "Test Loss: 4.619\n",
      "Test Accuracy: 0.545\n"
     ]
    }
   ],
   "source": [
    "results = model.evaluate(X_test, Y_test, batch_size=len(Y_test))\n",
    "print(\"Test Loss: %.3f\\nTest Accuracy: %.3f\" %(results[0], results[1]))"
   ]
  },
  {
   "cell_type": "markdown",
   "metadata": {},
   "source": [
    "# 2. NN+kfold Stratification"
   ]
  },
  {
   "cell_type": "code",
   "execution_count": 23,
   "metadata": {
    "collapsed": true
   },
   "outputs": [],
   "source": [
    "# Baseline model for the neural network. We choose a hidden layer of 600 neurons. The lesser number of neurons helps to eliminate the redundancies in the data and select the more important features.\n",
    "def create_baseline():\n",
    "    # create model\n",
    "    model = Sequential()\n",
    "    model.add(Dense(1024, input_dim=n_input_dim, kernel_initializer=glorot_normal(seed=0), activation='relu'))\n",
    "    model.add(Dense(1, kernel_initializer=glorot_normal(seed=0), activation='sigmoid'))\n",
    "    # Compile model. We use the the logarithmic loss function, and the Adam gradient optimizer.\n",
    "    model.compile(loss='binary_crossentropy', optimizer='adam', metrics=['accuracy'])\n",
    "    return model"
   ]
  },
  {
   "cell_type": "code",
   "execution_count": 25,
   "metadata": {},
   "outputs": [
    {
     "name": "stdout",
     "output_type": "stream",
     "text": [
      "Results: 56.40% (2.54%)\n"
     ]
    }
   ],
   "source": [
    "# Evaluate model using standardized dataset. \n",
    "estimators = []\n",
    "estimators.append(('standardize', StandardScaler()))\n",
    "estimators.append(('mlp', KerasClassifier(build_fn=create_baseline, epochs=100, batch_size=5, verbose=0)))\n",
    "pipeline = Pipeline(estimators)\n",
    "kfold = StratifiedKFold(n_splits=10, shuffle=True)\n",
    "results = cross_val_score(pipeline, X, Y, cv=kfold)\n",
    "print(\"Results: %.2f%% (%.2f%%)\" % (results.mean()*100, results.std()*100))"
   ]
  },
  {
   "cell_type": "markdown",
   "metadata": {},
   "source": [
    "Try 1st nuron=559, normal initializer, and relu"
   ]
  },
  {
   "cell_type": "code",
   "execution_count": 76,
   "metadata": {
    "collapsed": true
   },
   "outputs": [],
   "source": [
    "# baseline model\n",
    "def create_baseline():\n",
    "\t# create model\n",
    "\tmodel = Sequential()\n",
    "\tmodel.add(Dense(559, input_dim=559, kernel_initializer='normal', activation='relu'))\n",
    "\tmodel.add(Dense(1, kernel_initializer='normal', activation='sigmoid'))\n",
    "\t# Compile model\n",
    "\tmodel.compile(loss='binary_crossentropy', optimizer='adam', metrics=['accuracy'])\n",
    "\treturn model"
   ]
  },
  {
   "cell_type": "code",
   "execution_count": 77,
   "metadata": {
    "scrolled": true
   },
   "outputs": [
    {
     "name": "stdout",
     "output_type": "stream",
     "text": [
      "Results: 58.65% (2.98%)\n"
     ]
    }
   ],
   "source": [
    "# evaluate model with standardized dataset\n",
    "# fix random seed for reproducibility\n",
    "seed = 7\n",
    "np.random.seed(seed)\n",
    "estimator = KerasClassifier(build_fn=create_baseline, nb_epoch=100, batch_size=5, verbose=0)\n",
    "kfold = StratifiedKFold(n_splits=10, shuffle=True, random_state=seed)\n",
    "results = cross_val_score(estimator, X, Y, cv=kfold)\n",
    "print(\"Results: %.2f%% (%.2f%%)\" % (results.mean()*100, results.std()*100))"
   ]
  },
  {
   "cell_type": "code",
   "execution_count": 78,
   "metadata": {},
   "outputs": [
    {
     "name": "stdout",
     "output_type": "stream",
     "text": [
      "Standardized: 58.50% (2.97%)\n"
     ]
    }
   ],
   "source": [
    "# evaluate baseline model with standardized dataset\n",
    "np.random.seed(seed)\n",
    "estimators = []\n",
    "estimators.append(('standardize', StandardScaler()))\n",
    "estimators.append(('mlp', KerasClassifier(build_fn=create_baseline, epochs=100, batch_size=5, verbose=0)))\n",
    "pipeline = Pipeline(estimators)\n",
    "kfold = StratifiedKFold(n_splits=10, shuffle=True, random_state=seed)\n",
    "results = cross_val_score(pipeline, X, Y, cv=kfold)\n",
    "print(\"Standardized: %.2f%% (%.2f%%)\" % (results.mean()*100, results.std()*100))"
   ]
  },
  {
   "cell_type": "code",
   "execution_count": null,
   "metadata": {
    "collapsed": true
   },
   "outputs": [],
   "source": [
    "%%time\n",
    "# larger model\n",
    "def create_larger():\n",
    "    # create model\n",
    "    model = Sequential()\n",
    "    model.add(Dense(1024, input_dim=559, kernel_initializer='normal', activation='relu'))\n",
    "    model.add(Dense(512, kernel_initializer='normal', activation='relu'))\n",
    "    model.add(Dense(32, kernel_initializer='normal', activation='relu'))\n",
    "    model.add(Dense(1, kernel_initializer='normal', activation='sigmoid'))\n",
    "    # Compile model\n",
    "    model.compile(loss='binary_crossentropy', optimizer='adam', metrics=['accuracy'])\n",
    "    return model\n",
    "estimators = []\n",
    "estimators.append(('standardize', StandardScaler()))\n",
    "estimators.append(('mlp', KerasClassifier(build_fn=create_larger, epochs=100, batch_size=5, verbose=0)))\n",
    "pipeline = Pipeline(estimators)\n",
    "kfold = StratifiedKFold(n_splits=10, shuffle=True, random_state=seed)\n",
    "results = cross_val_score(pipeline, X, Y, cv=kfold)\n",
    "results = model.evaluate(X_test, Y_test, batch_size=len(Y_test))\n",
    "print(\"Test Loss: %.3f\\nTest Accuracy: %.3f\" %(results[0], results[1]))\n",
    "print(\"Larger: %.2f%% (%.2f%%)\" % (results.mean()*100, results.std()*100))"
   ]
  },
  {
   "cell_type": "code",
   "execution_count": null,
   "metadata": {
    "collapsed": true
   },
   "outputs": [],
   "source": []
  },
  {
   "cell_type": "code",
   "execution_count": null,
   "metadata": {
    "collapsed": true
   },
   "outputs": [],
   "source": [
    "from __future__ import print_function\n",
    "from hyperopt import Trials, STATUS_OK, tpe\n",
    "from hyperas import optim\n",
    "from hyperas.distributions import choice, uniform\n",
    "\n",
    "from keras.models import Sequential\n",
    "from keras.layers.core import Dense, Dropout, Activation\n",
    "from keras.optimizers import RMSprop\n",
    "\n",
    "from keras.datasets import mnist\n",
    "from keras.utils import np_utils"
   ]
  },
  {
   "cell_type": "code",
   "execution_count": null,
   "metadata": {
    "collapsed": true
   },
   "outputs": [],
   "source": [
    "def data():\n",
    "    '''\n",
    "    Data providing function:\n",
    "\n",
    "    This function is separated from model() so that hyperopt\n",
    "    won't reload data for each evaluation run.\n",
    "    '''\n",
    "    X_train, X_test, Y_train, Y_test = train_test_split(X, Y, \n",
    "                                                    test_size=0.2,\n",
    "                                                   random_state=42)\n",
    "    return X_train, Y_train, X_test, Y_test"
   ]
  },
  {
   "cell_type": "code",
   "execution_count": null,
   "metadata": {
    "collapsed": true
   },
   "outputs": [],
   "source": [
    "def model(X_train, Y_train, X_test, Y_test):\n",
    "    '''\n",
    "    Model providing function:\n",
    "\n",
    "    Create Keras model with double curly brackets dropped-in as needed.\n",
    "    Return value has to be a valid python dictionary with two customary keys:\n",
    "        - loss: Specify a numeric evaluation metric to be minimized\n",
    "        - status: Just use STATUS_OK and see hyperopt documentation if not feasible\n",
    "    The last one is optional, though recommended, namely:\n",
    "        - model: specify the model just created so that we can later use it again.\n",
    "    '''\n",
    "    model = Sequential()\n",
    "    model.add(Dense(1024, kernel_initializer='normal', input_shape=(559,)))\n",
    "    model.add(Activation('relu'))\n",
    "    model.add(Dropout({{uniform(0, 1)}}))\n",
    "    model.add(Dense({{choice([256, 512, 1024])}}))\n",
    "    model.add(Activation('relu'))\n",
    "    model.add(Dropout({{uniform(0, 1)}}))\n",
    "    model.add(Dense(1))\n",
    "    model.add(Activation('sigmoid'))\n",
    "\n",
    "    model.compile(loss='binary_crossentropy', optimizer='adam', metrics=['accuracy'])\n",
    "\n",
    "    model.fit(X_train, Y_train,\n",
    "              batch_size={{choice([64, 128])}},\n",
    "              nb_epoch=1,\n",
    "              verbose=2,\n",
    "              validation_data=(X_test, Y_test))\n",
    "    score, acc = model.evaluate(X_test, Y_test, verbose=0)\n",
    "    print('Test accuracy:', acc)\n",
    "    return {'loss': -acc, 'status': STATUS_OK, 'model': model}"
   ]
  },
  {
   "cell_type": "code",
   "execution_count": null,
   "metadata": {
    "collapsed": true
   },
   "outputs": [],
   "source": [
    "X_train, Y_train, X_test, Y_test = data()\n",
    "\n",
    "best_run, best_model = optim.minimize(model=model,\n",
    "                                      data=data,\n",
    "                                      algo=tpe.suggest,\n",
    "                                      max_evals=5,\n",
    "                                      trials=Trials(),\n",
    "                                      notebook_name='NN_Keras_HyperTune_notebook')"
   ]
  },
  {
   "cell_type": "code",
   "execution_count": null,
   "metadata": {
    "collapsed": true
   },
   "outputs": [],
   "source": [
    "print(\"Evalutation of best performing model:\")\n",
    "print(best_model.evaluate(X_test, Y_test))\n",
    "print(\"Best performing model chosen hyper-parameters:\")\n",
    "print(best_run)"
   ]
  }
 ],
 "metadata": {
  "kernelspec": {
   "display_name": "Python 3",
   "language": "python",
   "name": "python3"
  },
  "language_info": {
   "codemirror_mode": {
    "name": "ipython",
    "version": 3
   },
   "file_extension": ".py",
   "mimetype": "text/x-python",
   "name": "python",
   "nbconvert_exporter": "python",
   "pygments_lexer": "ipython3",
   "version": "3.6.1"
  }
 },
 "nbformat": 4,
 "nbformat_minor": 2
}
