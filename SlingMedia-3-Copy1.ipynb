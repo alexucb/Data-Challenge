{
 "cells": [
  {
   "cell_type": "markdown",
   "metadata": {},
   "source": [
    "# 1-Setup"
   ]
  },
  {
   "cell_type": "markdown",
   "metadata": {},
   "source": [
    "First, let's make sure this notebook works well in both python 2 and 3, import a few common modules, ensure MatplotLib plots figures inline and prepare a function to save the figures:"
   ]
  },
  {
   "cell_type": "code",
   "execution_count": 1,
   "metadata": {
    "collapsed": true
   },
   "outputs": [],
   "source": [
    "# To support both python 2 and python 3\n",
    "from __future__ import division, print_function, unicode_literals\n",
    "\n",
    "# Common imports\n",
    "import numpy as np\n",
    "import pandas as pd\n",
    "import os\n",
    "\n",
    "# to make this notebook's output stable across runs\n",
    "np.random.seed(42)\n",
    "\n",
    "# To plot pretty figures\n",
    "%matplotlib inline\n",
    "import matplotlib\n",
    "import matplotlib.pyplot as plt\n",
    "plt.rcParams['axes.labelsize'] = 14\n",
    "plt.rcParams['xtick.labelsize'] = 12\n",
    "plt.rcParams['ytick.labelsize'] = 12\n",
    "\n",
    "# Where to save the figures\n",
    "PROJECT_ROOT_DIR = \".\"\n",
    "CHAPTER_ID = \"end_to_end_project\"\n",
    "\n",
    "def save_fig(fig_id, tight_layout=True):\n",
    "    path = os.path.join(PROJECT_ROOT_DIR, \"images\", CHAPTER_ID, fig_id + \".png\")\n",
    "    print(\"Saving figure\", fig_id)\n",
    "    if tight_layout:\n",
    "        plt.tight_layout()\n",
    "    plt.savefig(path, format='png', dpi=300)"
   ]
  },
  {
   "cell_type": "markdown",
   "metadata": {},
   "source": [
    "# 2-Get the data"
   ]
  },
  {
   "cell_type": "code",
   "execution_count": 2,
   "metadata": {},
   "outputs": [],
   "source": [
    "path1 = './data/edustats.csv'\n",
    "path2 = './data/edustats_indicators.csv'\n",
    "path3 = './data/imo.csv'\n",
    "\n",
    "df1 = pd.read_csv(path1)\n",
    "df2 = pd.read_csv(path2)\n",
    "df3 = pd.read_csv(path3)\n",
    "\n",
    "df4 = pd.merge(df1, df2, on = 'Indicator.Code', how = 'outer')\n",
    "df = pd.merge(df3, df4, on = 'Country.Name', how = 'outer')\n",
    "df.dropna(how = 'any', inplace = True)\n",
    "df.drop(['Indicator.Name'], axis = 1, inplace = True)"
   ]
  },
  {
   "cell_type": "code",
   "execution_count": 3,
   "metadata": {},
   "outputs": [
    {
     "data": {
      "text/html": [
       "<div>\n",
       "<style>\n",
       "    .dataframe thead tr:only-child th {\n",
       "        text-align: right;\n",
       "    }\n",
       "\n",
       "    .dataframe thead th {\n",
       "        text-align: left;\n",
       "    }\n",
       "\n",
       "    .dataframe tbody tr th {\n",
       "        vertical-align: top;\n",
       "    }\n",
       "</style>\n",
       "<table border=\"1\" class=\"dataframe\">\n",
       "  <thead>\n",
       "    <tr style=\"text-align: right;\">\n",
       "      <th></th>\n",
       "      <th>Country.Name</th>\n",
       "      <th>Mean.Rank</th>\n",
       "      <th>Indicator.Code</th>\n",
       "      <th>value</th>\n",
       "    </tr>\n",
       "  </thead>\n",
       "  <tbody>\n",
       "    <tr>\n",
       "      <th>0</th>\n",
       "      <td>Albania</td>\n",
       "      <td>79.83</td>\n",
       "      <td>UIS.NERA.2</td>\n",
       "      <td>86.577433</td>\n",
       "    </tr>\n",
       "    <tr>\n",
       "      <th>1</th>\n",
       "      <td>Albania</td>\n",
       "      <td>79.83</td>\n",
       "      <td>UIS.NERA.2.F</td>\n",
       "      <td>86.026518</td>\n",
       "    </tr>\n",
       "    <tr>\n",
       "      <th>2</th>\n",
       "      <td>Albania</td>\n",
       "      <td>79.83</td>\n",
       "      <td>UIS.NERA.2.GPI</td>\n",
       "      <td>0.987608</td>\n",
       "    </tr>\n",
       "    <tr>\n",
       "      <th>3</th>\n",
       "      <td>Albania</td>\n",
       "      <td>79.83</td>\n",
       "      <td>UIS.NERA.2.M</td>\n",
       "      <td>87.103674</td>\n",
       "    </tr>\n",
       "    <tr>\n",
       "      <th>4</th>\n",
       "      <td>Albania</td>\n",
       "      <td>79.83</td>\n",
       "      <td>SE.PRM.TENR</td>\n",
       "      <td>93.175414</td>\n",
       "    </tr>\n",
       "  </tbody>\n",
       "</table>\n",
       "</div>"
      ],
      "text/plain": [
       "  Country.Name  Mean.Rank  Indicator.Code      value\n",
       "0      Albania      79.83      UIS.NERA.2  86.577433\n",
       "1      Albania      79.83    UIS.NERA.2.F  86.026518\n",
       "2      Albania      79.83  UIS.NERA.2.GPI   0.987608\n",
       "3      Albania      79.83    UIS.NERA.2.M  87.103674\n",
       "4      Albania      79.83     SE.PRM.TENR  93.175414"
      ]
     },
     "execution_count": 3,
     "metadata": {},
     "output_type": "execute_result"
    }
   ],
   "source": [
    "df.head()"
   ]
  },
  {
   "cell_type": "code",
   "execution_count": 4,
   "metadata": {},
   "outputs": [
    {
     "name": "stdout",
     "output_type": "stream",
     "text": [
      "<class 'pandas.core.frame.DataFrame'>\n",
      "Int64Index: 185402 entries, 0 to 365619\n",
      "Data columns (total 4 columns):\n",
      "Country.Name      185402 non-null object\n",
      "Mean.Rank         185402 non-null float64\n",
      "Indicator.Code    185402 non-null object\n",
      "value             185402 non-null float64\n",
      "dtypes: float64(2), object(2)\n",
      "memory usage: 7.1+ MB\n"
     ]
    }
   ],
   "source": [
    "df.info()"
   ]
  },
  {
   "cell_type": "code",
   "execution_count": 5,
   "metadata": {},
   "outputs": [
    {
     "data": {
      "text/plain": [
       "count    185402.000000\n",
       "mean         53.879284\n",
       "std          29.843445\n",
       "min           1.630000\n",
       "25%          26.750000\n",
       "50%          51.750000\n",
       "75%          79.290000\n",
       "max         110.000000\n",
       "Name: Mean.Rank, dtype: float64"
      ]
     },
     "execution_count": 5,
     "metadata": {},
     "output_type": "execute_result"
    }
   ],
   "source": [
    "df['Mean.Rank'].describe()"
   ]
  },
  {
   "cell_type": "markdown",
   "metadata": {},
   "source": [
    "## 2.1 Convert original dataset to operationable format using Pivot Table function in python"
   ]
  },
  {
   "cell_type": "code",
   "execution_count": 6,
   "metadata": {},
   "outputs": [
    {
     "data": {
      "text/html": [
       "<div>\n",
       "<style>\n",
       "    .dataframe thead tr:only-child th {\n",
       "        text-align: right;\n",
       "    }\n",
       "\n",
       "    .dataframe thead th {\n",
       "        text-align: left;\n",
       "    }\n",
       "\n",
       "    .dataframe tbody tr th {\n",
       "        vertical-align: top;\n",
       "    }\n",
       "</style>\n",
       "<table border=\"1\" class=\"dataframe\">\n",
       "  <thead>\n",
       "    <tr style=\"text-align: right;\">\n",
       "      <th>Indicator.Code</th>\n",
       "      <th>NY.GDP.MKTP.CD</th>\n",
       "      <th>NY.GDP.PCAP.CD</th>\n",
       "      <th>NY.GNP.MKTP.CD</th>\n",
       "      <th>NY.GNP.PCAP.CD</th>\n",
       "      <th>SP.POP.GROW</th>\n",
       "      <th>SP.POP.TOTL</th>\n",
       "    </tr>\n",
       "    <tr>\n",
       "      <th>Country.Name</th>\n",
       "      <th></th>\n",
       "      <th></th>\n",
       "      <th></th>\n",
       "      <th></th>\n",
       "      <th></th>\n",
       "      <th></th>\n",
       "    </tr>\n",
       "  </thead>\n",
       "  <tbody>\n",
       "    <tr>\n",
       "      <th>Albania</th>\n",
       "      <td>9.410937e+09</td>\n",
       "      <td>3189.768220</td>\n",
       "      <td>9.470301e+09</td>\n",
       "      <td>3157.333333</td>\n",
       "      <td>-0.478064</td>\n",
       "      <td>2.974934e+06</td>\n",
       "    </tr>\n",
       "    <tr>\n",
       "      <th>Algeria</th>\n",
       "      <td>1.317592e+11</td>\n",
       "      <td>3715.771082</td>\n",
       "      <td>1.291736e+11</td>\n",
       "      <td>3485.333333</td>\n",
       "      <td>1.569656</td>\n",
       "      <td>3.458545e+07</td>\n",
       "    </tr>\n",
       "    <tr>\n",
       "      <th>Argentina</th>\n",
       "      <td>3.302893e+11</td>\n",
       "      <td>8129.612822</td>\n",
       "      <td>3.211426e+11</td>\n",
       "      <td>7636.000000</td>\n",
       "      <td>1.062501</td>\n",
       "      <td>3.998689e+07</td>\n",
       "    </tr>\n",
       "    <tr>\n",
       "      <th>Armenia</th>\n",
       "      <td>7.091924e+09</td>\n",
       "      <td>2371.092082</td>\n",
       "      <td>7.411904e+09</td>\n",
       "      <td>2384.666667</td>\n",
       "      <td>-0.191634</td>\n",
       "      <td>3.006685e+06</td>\n",
       "    </tr>\n",
       "    <tr>\n",
       "      <th>Australia</th>\n",
       "      <td>9.086037e+11</td>\n",
       "      <td>41988.418643</td>\n",
       "      <td>8.780958e+11</td>\n",
       "      <td>38833.333333</td>\n",
       "      <td>1.432896</td>\n",
       "      <td>2.111886e+07</td>\n",
       "    </tr>\n",
       "  </tbody>\n",
       "</table>\n",
       "</div>"
      ],
      "text/plain": [
       "Indicator.Code  NY.GDP.MKTP.CD  NY.GDP.PCAP.CD  NY.GNP.MKTP.CD  \\\n",
       "Country.Name                                                     \n",
       "Albania           9.410937e+09     3189.768220    9.470301e+09   \n",
       "Algeria           1.317592e+11     3715.771082    1.291736e+11   \n",
       "Argentina         3.302893e+11     8129.612822    3.211426e+11   \n",
       "Armenia           7.091924e+09     2371.092082    7.411904e+09   \n",
       "Australia         9.086037e+11    41988.418643    8.780958e+11   \n",
       "\n",
       "Indicator.Code  NY.GNP.PCAP.CD  SP.POP.GROW   SP.POP.TOTL  \n",
       "Country.Name                                               \n",
       "Albania            3157.333333    -0.478064  2.974934e+06  \n",
       "Algeria            3485.333333     1.569656  3.458545e+07  \n",
       "Argentina          7636.000000     1.062501  3.998689e+07  \n",
       "Armenia            2384.666667    -0.191634  3.006685e+06  \n",
       "Australia         38833.333333     1.432896  2.111886e+07  "
      ]
     },
     "execution_count": 6,
     "metadata": {},
     "output_type": "execute_result"
    }
   ],
   "source": [
    "df_temp = df.pivot_table(index='Country.Name', columns='Indicator.Code', values='value').dropna(axis = 1, how = 'any')\n",
    "df_temp.head()"
   ]
  },
  {
   "cell_type": "code",
   "execution_count": 7,
   "metadata": {},
   "outputs": [
    {
     "data": {
      "text/html": [
       "<div>\n",
       "<style>\n",
       "    .dataframe thead tr:only-child th {\n",
       "        text-align: right;\n",
       "    }\n",
       "\n",
       "    .dataframe thead th {\n",
       "        text-align: left;\n",
       "    }\n",
       "\n",
       "    .dataframe tbody tr th {\n",
       "        vertical-align: top;\n",
       "    }\n",
       "</style>\n",
       "<table border=\"1\" class=\"dataframe\">\n",
       "  <thead>\n",
       "    <tr style=\"text-align: right;\">\n",
       "      <th></th>\n",
       "      <th>NY.GDP.MKTP.CD</th>\n",
       "      <th>NY.GDP.PCAP.CD</th>\n",
       "      <th>NY.GNP.MKTP.CD</th>\n",
       "      <th>NY.GNP.PCAP.CD</th>\n",
       "      <th>SP.POP.GROW</th>\n",
       "      <th>SP.POP.TOTL</th>\n",
       "      <th>Country.Name</th>\n",
       "      <th>Mean.Rank</th>\n",
       "    </tr>\n",
       "  </thead>\n",
       "  <tbody>\n",
       "    <tr>\n",
       "      <th>0</th>\n",
       "      <td>9.410937e+09</td>\n",
       "      <td>3189.768220</td>\n",
       "      <td>9.470301e+09</td>\n",
       "      <td>3157.333333</td>\n",
       "      <td>-0.478064</td>\n",
       "      <td>2.974934e+06</td>\n",
       "      <td>Albania</td>\n",
       "      <td>79.83</td>\n",
       "    </tr>\n",
       "    <tr>\n",
       "      <th>1</th>\n",
       "      <td>1.317592e+11</td>\n",
       "      <td>3715.771082</td>\n",
       "      <td>1.291736e+11</td>\n",
       "      <td>3485.333333</td>\n",
       "      <td>1.569656</td>\n",
       "      <td>3.458545e+07</td>\n",
       "      <td>Algeria</td>\n",
       "      <td>72.33</td>\n",
       "    </tr>\n",
       "    <tr>\n",
       "      <th>2</th>\n",
       "      <td>3.302893e+11</td>\n",
       "      <td>8129.612822</td>\n",
       "      <td>3.211426e+11</td>\n",
       "      <td>7636.000000</td>\n",
       "      <td>1.062501</td>\n",
       "      <td>3.998689e+07</td>\n",
       "      <td>Argentina</td>\n",
       "      <td>50.00</td>\n",
       "    </tr>\n",
       "    <tr>\n",
       "      <th>3</th>\n",
       "      <td>7.091924e+09</td>\n",
       "      <td>2371.092082</td>\n",
       "      <td>7.411904e+09</td>\n",
       "      <td>2384.666667</td>\n",
       "      <td>-0.191634</td>\n",
       "      <td>3.006685e+06</td>\n",
       "      <td>Armenia</td>\n",
       "      <td>43.88</td>\n",
       "    </tr>\n",
       "    <tr>\n",
       "      <th>4</th>\n",
       "      <td>9.086037e+11</td>\n",
       "      <td>41988.418643</td>\n",
       "      <td>8.780958e+11</td>\n",
       "      <td>38833.333333</td>\n",
       "      <td>1.432896</td>\n",
       "      <td>2.111886e+07</td>\n",
       "      <td>Australia</td>\n",
       "      <td>19.75</td>\n",
       "    </tr>\n",
       "  </tbody>\n",
       "</table>\n",
       "</div>"
      ],
      "text/plain": [
       "   NY.GDP.MKTP.CD  NY.GDP.PCAP.CD  NY.GNP.MKTP.CD  NY.GNP.PCAP.CD  \\\n",
       "0    9.410937e+09     3189.768220    9.470301e+09     3157.333333   \n",
       "1    1.317592e+11     3715.771082    1.291736e+11     3485.333333   \n",
       "2    3.302893e+11     8129.612822    3.211426e+11     7636.000000   \n",
       "3    7.091924e+09     2371.092082    7.411904e+09     2384.666667   \n",
       "4    9.086037e+11    41988.418643    8.780958e+11    38833.333333   \n",
       "\n",
       "   SP.POP.GROW   SP.POP.TOTL Country.Name  Mean.Rank  \n",
       "0    -0.478064  2.974934e+06      Albania      79.83  \n",
       "1     1.569656  3.458545e+07      Algeria      72.33  \n",
       "2     1.062501  3.998689e+07    Argentina      50.00  \n",
       "3    -0.191634  3.006685e+06      Armenia      43.88  \n",
       "4     1.432896  2.111886e+07    Australia      19.75  "
      ]
     },
     "execution_count": 7,
     "metadata": {},
     "output_type": "execute_result"
    }
   ],
   "source": [
    "#merge information from Table_edustats and Table_imo using inner join\n",
    "combine1 = pd.merge(df_temp, df3, left_index=True, right_on='Country.Name', how='inner')\n",
    "combine1.head()"
   ]
  },
  {
   "cell_type": "code",
   "execution_count": 8,
   "metadata": {},
   "outputs": [
    {
     "data": {
      "text/html": [
       "<div>\n",
       "<style>\n",
       "    .dataframe thead tr:only-child th {\n",
       "        text-align: right;\n",
       "    }\n",
       "\n",
       "    .dataframe thead th {\n",
       "        text-align: left;\n",
       "    }\n",
       "\n",
       "    .dataframe tbody tr th {\n",
       "        vertical-align: top;\n",
       "    }\n",
       "</style>\n",
       "<table border=\"1\" class=\"dataframe\">\n",
       "  <thead>\n",
       "    <tr style=\"text-align: right;\">\n",
       "      <th></th>\n",
       "      <th>Country.Name</th>\n",
       "      <th>NY.GDP.MKTP.CD</th>\n",
       "      <th>NY.GDP.PCAP.CD</th>\n",
       "      <th>NY.GNP.MKTP.CD</th>\n",
       "      <th>NY.GNP.PCAP.CD</th>\n",
       "      <th>SP.POP.TOTL</th>\n",
       "      <th>SP.POP.GROW</th>\n",
       "      <th>Mean.Rank</th>\n",
       "    </tr>\n",
       "  </thead>\n",
       "  <tbody>\n",
       "    <tr>\n",
       "      <th>0</th>\n",
       "      <td>Albania</td>\n",
       "      <td>9.410937e+09</td>\n",
       "      <td>3189.768220</td>\n",
       "      <td>9.470301e+09</td>\n",
       "      <td>3157.333333</td>\n",
       "      <td>2.974934e+06</td>\n",
       "      <td>-0.478064</td>\n",
       "      <td>79.83</td>\n",
       "    </tr>\n",
       "    <tr>\n",
       "      <th>1</th>\n",
       "      <td>Algeria</td>\n",
       "      <td>1.317592e+11</td>\n",
       "      <td>3715.771082</td>\n",
       "      <td>1.291736e+11</td>\n",
       "      <td>3485.333333</td>\n",
       "      <td>3.458545e+07</td>\n",
       "      <td>1.569656</td>\n",
       "      <td>72.33</td>\n",
       "    </tr>\n",
       "    <tr>\n",
       "      <th>2</th>\n",
       "      <td>Argentina</td>\n",
       "      <td>3.302893e+11</td>\n",
       "      <td>8129.612822</td>\n",
       "      <td>3.211426e+11</td>\n",
       "      <td>7636.000000</td>\n",
       "      <td>3.998689e+07</td>\n",
       "      <td>1.062501</td>\n",
       "      <td>50.00</td>\n",
       "    </tr>\n",
       "    <tr>\n",
       "      <th>3</th>\n",
       "      <td>Armenia</td>\n",
       "      <td>7.091924e+09</td>\n",
       "      <td>2371.092082</td>\n",
       "      <td>7.411904e+09</td>\n",
       "      <td>2384.666667</td>\n",
       "      <td>3.006685e+06</td>\n",
       "      <td>-0.191634</td>\n",
       "      <td>43.88</td>\n",
       "    </tr>\n",
       "    <tr>\n",
       "      <th>4</th>\n",
       "      <td>Australia</td>\n",
       "      <td>9.086037e+11</td>\n",
       "      <td>41988.418643</td>\n",
       "      <td>8.780958e+11</td>\n",
       "      <td>38833.333333</td>\n",
       "      <td>2.111886e+07</td>\n",
       "      <td>1.432896</td>\n",
       "      <td>19.75</td>\n",
       "    </tr>\n",
       "  </tbody>\n",
       "</table>\n",
       "</div>"
      ],
      "text/plain": [
       "  Country.Name  NY.GDP.MKTP.CD  NY.GDP.PCAP.CD  NY.GNP.MKTP.CD  \\\n",
       "0      Albania    9.410937e+09     3189.768220    9.470301e+09   \n",
       "1      Algeria    1.317592e+11     3715.771082    1.291736e+11   \n",
       "2    Argentina    3.302893e+11     8129.612822    3.211426e+11   \n",
       "3      Armenia    7.091924e+09     2371.092082    7.411904e+09   \n",
       "4    Australia    9.086037e+11    41988.418643    8.780958e+11   \n",
       "\n",
       "   NY.GNP.PCAP.CD   SP.POP.TOTL  SP.POP.GROW  Mean.Rank  \n",
       "0     3157.333333  2.974934e+06    -0.478064      79.83  \n",
       "1     3485.333333  3.458545e+07     1.569656      72.33  \n",
       "2     7636.000000  3.998689e+07     1.062501      50.00  \n",
       "3     2384.666667  3.006685e+06    -0.191634      43.88  \n",
       "4    38833.333333  2.111886e+07     1.432896      19.75  "
      ]
     },
     "execution_count": 8,
     "metadata": {},
     "output_type": "execute_result"
    }
   ],
   "source": [
    "#change the columb order to make country.name at leftmost and mean.rank rightmost\n",
    "combine1 = combine1[['Country.Name','NY.GDP.MKTP.CD','NY.GDP.PCAP.CD',\n",
    "                   'NY.GNP.MKTP.CD','NY.GNP.PCAP.CD','SP.POP.TOTL','SP.POP.GROW','Mean.Rank']]\n",
    "combine1.head()"
   ]
  },
  {
   "cell_type": "code",
   "execution_count": 9,
   "metadata": {
    "scrolled": true
   },
   "outputs": [
    {
     "data": {
      "text/html": [
       "<div>\n",
       "<style>\n",
       "    .dataframe thead tr:only-child th {\n",
       "        text-align: right;\n",
       "    }\n",
       "\n",
       "    .dataframe thead th {\n",
       "        text-align: left;\n",
       "    }\n",
       "\n",
       "    .dataframe tbody tr th {\n",
       "        vertical-align: top;\n",
       "    }\n",
       "</style>\n",
       "<table border=\"1\" class=\"dataframe\">\n",
       "  <thead>\n",
       "    <tr style=\"text-align: right;\">\n",
       "      <th></th>\n",
       "      <th>CName</th>\n",
       "      <th>GDPMKTP</th>\n",
       "      <th>GDPPCAP</th>\n",
       "      <th>GnpMKTP</th>\n",
       "      <th>GnpPCAP</th>\n",
       "      <th>POPTotal</th>\n",
       "      <th>POPGrow</th>\n",
       "      <th>Mean.Rank</th>\n",
       "    </tr>\n",
       "  </thead>\n",
       "  <tbody>\n",
       "    <tr>\n",
       "      <th>0</th>\n",
       "      <td>Albania</td>\n",
       "      <td>9.410937e+09</td>\n",
       "      <td>3189.768220</td>\n",
       "      <td>9.470301e+09</td>\n",
       "      <td>3157.333333</td>\n",
       "      <td>2.974934e+06</td>\n",
       "      <td>-0.478064</td>\n",
       "      <td>79.83</td>\n",
       "    </tr>\n",
       "    <tr>\n",
       "      <th>1</th>\n",
       "      <td>Algeria</td>\n",
       "      <td>1.317592e+11</td>\n",
       "      <td>3715.771082</td>\n",
       "      <td>1.291736e+11</td>\n",
       "      <td>3485.333333</td>\n",
       "      <td>3.458545e+07</td>\n",
       "      <td>1.569656</td>\n",
       "      <td>72.33</td>\n",
       "    </tr>\n",
       "    <tr>\n",
       "      <th>2</th>\n",
       "      <td>Argentina</td>\n",
       "      <td>3.302893e+11</td>\n",
       "      <td>8129.612822</td>\n",
       "      <td>3.211426e+11</td>\n",
       "      <td>7636.000000</td>\n",
       "      <td>3.998689e+07</td>\n",
       "      <td>1.062501</td>\n",
       "      <td>50.00</td>\n",
       "    </tr>\n",
       "    <tr>\n",
       "      <th>3</th>\n",
       "      <td>Armenia</td>\n",
       "      <td>7.091924e+09</td>\n",
       "      <td>2371.092082</td>\n",
       "      <td>7.411904e+09</td>\n",
       "      <td>2384.666667</td>\n",
       "      <td>3.006685e+06</td>\n",
       "      <td>-0.191634</td>\n",
       "      <td>43.88</td>\n",
       "    </tr>\n",
       "    <tr>\n",
       "      <th>4</th>\n",
       "      <td>Australia</td>\n",
       "      <td>9.086037e+11</td>\n",
       "      <td>41988.418643</td>\n",
       "      <td>8.780958e+11</td>\n",
       "      <td>38833.333333</td>\n",
       "      <td>2.111886e+07</td>\n",
       "      <td>1.432896</td>\n",
       "      <td>19.75</td>\n",
       "    </tr>\n",
       "  </tbody>\n",
       "</table>\n",
       "</div>"
      ],
      "text/plain": [
       "       CName       GDPMKTP       GDPPCAP       GnpMKTP       GnpPCAP  \\\n",
       "0    Albania  9.410937e+09   3189.768220  9.470301e+09   3157.333333   \n",
       "1    Algeria  1.317592e+11   3715.771082  1.291736e+11   3485.333333   \n",
       "2  Argentina  3.302893e+11   8129.612822  3.211426e+11   7636.000000   \n",
       "3    Armenia  7.091924e+09   2371.092082  7.411904e+09   2384.666667   \n",
       "4  Australia  9.086037e+11  41988.418643  8.780958e+11  38833.333333   \n",
       "\n",
       "       POPTotal   POPGrow  Mean.Rank  \n",
       "0  2.974934e+06 -0.478064      79.83  \n",
       "1  3.458545e+07  1.569656      72.33  \n",
       "2  3.998689e+07  1.062501      50.00  \n",
       "3  3.006685e+06 -0.191634      43.88  \n",
       "4  2.111886e+07  1.432896      19.75  "
      ]
     },
     "execution_count": 9,
     "metadata": {},
     "output_type": "execute_result"
    }
   ],
   "source": [
    "#remove the dot in column names making later analysis less painful\n",
    "combine1= combine1.rename(index=str, columns={\"Country.Name\": \"CName\", \n",
    "                                               \"NY.GDP.MKTP.CD\": \"GDPMKTP\",\n",
    "                                               \"NY.GDP.PCAP.CD\": \"GDPPCAP\",\n",
    "                                               \"NY.GNP.MKTP.CD\": \"GnpMKTP\",\n",
    "                                               \"NY.GNP.PCAP.CD\": \"GnpPCAP\",                                            \n",
    "                                              \"SP.POP.TOTL\":\"POPTotal\",\n",
    "                                              \"SP.POP.GROW\":\"POPGrow\"})\n",
    "combine1.head()"
   ]
  },
  {
   "cell_type": "code",
   "execution_count": 10,
   "metadata": {},
   "outputs": [
    {
     "data": {
      "text/plain": [
       "<matplotlib.axes._subplots.AxesSubplot at 0x1150388d0>"
      ]
     },
     "execution_count": 10,
     "metadata": {},
     "output_type": "execute_result"
    },
    {
     "data": {
      "image/png": "[encoded data removed]",
      "text/plain": [
       "<matplotlib.figure.Figure at 0x11502f080>"
      ]
     },
     "metadata": {},
     "output_type": "display_data"
    }
   ],
   "source": [
    "#Take a peek on how our target variable-Mean.Rank distributes\n",
    "combine1['Mean.Rank'].hist()"
   ]
  },
  {
   "cell_type": "code",
   "execution_count": 11,
   "metadata": {},
   "outputs": [
    {
     "data": {
      "text/html": [
       "<div>\n",
       "<style>\n",
       "    .dataframe thead tr:only-child th {\n",
       "        text-align: right;\n",
       "    }\n",
       "\n",
       "    .dataframe thead th {\n",
       "        text-align: left;\n",
       "    }\n",
       "\n",
       "    .dataframe tbody tr th {\n",
       "        vertical-align: top;\n",
       "    }\n",
       "</style>\n",
       "<table border=\"1\" class=\"dataframe\">\n",
       "  <thead>\n",
       "    <tr style=\"text-align: right;\">\n",
       "      <th></th>\n",
       "      <th>GDPMKTP</th>\n",
       "      <th>GDPPCAP</th>\n",
       "      <th>GnpMKTP</th>\n",
       "      <th>GnpPCAP</th>\n",
       "      <th>POPTotal</th>\n",
       "      <th>POPGrow</th>\n",
       "      <th>Mean.Rank</th>\n",
       "    </tr>\n",
       "  </thead>\n",
       "  <tbody>\n",
       "    <tr>\n",
       "      <th>count</th>\n",
       "      <td>1.010000e+02</td>\n",
       "      <td>101.000000</td>\n",
       "      <td>1.010000e+02</td>\n",
       "      <td>101.000000</td>\n",
       "      <td>1.010000e+02</td>\n",
       "      <td>101.000000</td>\n",
       "      <td>101.000000</td>\n",
       "    </tr>\n",
       "    <tr>\n",
       "      <th>mean</th>\n",
       "      <td>5.253302e+11</td>\n",
       "      <td>15722.414863</td>\n",
       "      <td>5.257771e+11</td>\n",
       "      <td>14743.444988</td>\n",
       "      <td>5.889643e+07</td>\n",
       "      <td>0.898732</td>\n",
       "      <td>54.648416</td>\n",
       "    </tr>\n",
       "    <tr>\n",
       "      <th>std</th>\n",
       "      <td>1.561320e+12</td>\n",
       "      <td>20611.690676</td>\n",
       "      <td>1.581357e+12</td>\n",
       "      <td>18554.875495</td>\n",
       "      <td>1.776479e+08</td>\n",
       "      <td>0.947926</td>\n",
       "      <td>30.013872</td>\n",
       "    </tr>\n",
       "    <tr>\n",
       "      <th>min</th>\n",
       "      <td>3.087337e+09</td>\n",
       "      <td>440.885561</td>\n",
       "      <td>3.140551e+09</td>\n",
       "      <td>422.666667</td>\n",
       "      <td>3.539187e+04</td>\n",
       "      <td>-1.225695</td>\n",
       "      <td>1.630000</td>\n",
       "    </tr>\n",
       "    <tr>\n",
       "      <th>25%</th>\n",
       "      <td>2.289899e+10</td>\n",
       "      <td>2376.904759</td>\n",
       "      <td>2.234440e+10</td>\n",
       "      <td>2272.000000</td>\n",
       "      <td>4.676518e+06</td>\n",
       "      <td>0.189381</td>\n",
       "      <td>27.750000</td>\n",
       "    </tr>\n",
       "    <tr>\n",
       "      <th>50%</th>\n",
       "      <td>1.110890e+11</td>\n",
       "      <td>6312.645720</td>\n",
       "      <td>1.065114e+11</td>\n",
       "      <td>5586.666667</td>\n",
       "      <td>1.126882e+07</td>\n",
       "      <td>1.013378</td>\n",
       "      <td>52.380000</td>\n",
       "    </tr>\n",
       "    <tr>\n",
       "      <th>75%</th>\n",
       "      <td>3.302893e+11</td>\n",
       "      <td>23119.635934</td>\n",
       "      <td>3.269764e+11</td>\n",
       "      <td>21840.000000</td>\n",
       "      <td>4.442321e+07</td>\n",
       "      <td>1.495713</td>\n",
       "      <td>80.130000</td>\n",
       "    </tr>\n",
       "    <tr>\n",
       "      <th>max</th>\n",
       "      <td>1.379220e+13</td>\n",
       "      <td>113818.255193</td>\n",
       "      <td>1.398027e+13</td>\n",
       "      <td>90211.000000</td>\n",
       "      <td>1.316139e+09</td>\n",
       "      <td>3.301460</td>\n",
       "      <td>110.000000</td>\n",
       "    </tr>\n",
       "  </tbody>\n",
       "</table>\n",
       "</div>"
      ],
      "text/plain": [
       "            GDPMKTP        GDPPCAP       GnpMKTP       GnpPCAP      POPTotal  \\\n",
       "count  1.010000e+02     101.000000  1.010000e+02    101.000000  1.010000e+02   \n",
       "mean   5.253302e+11   15722.414863  5.257771e+11  14743.444988  5.889643e+07   \n",
       "std    1.561320e+12   20611.690676  1.581357e+12  18554.875495  1.776479e+08   \n",
       "min    3.087337e+09     440.885561  3.140551e+09    422.666667  3.539187e+04   \n",
       "25%    2.289899e+10    2376.904759  2.234440e+10   2272.000000  4.676518e+06   \n",
       "50%    1.110890e+11    6312.645720  1.065114e+11   5586.666667  1.126882e+07   \n",
       "75%    3.302893e+11   23119.635934  3.269764e+11  21840.000000  4.442321e+07   \n",
       "max    1.379220e+13  113818.255193  1.398027e+13  90211.000000  1.316139e+09   \n",
       "\n",
       "          POPGrow   Mean.Rank  \n",
       "count  101.000000  101.000000  \n",
       "mean     0.898732   54.648416  \n",
       "std      0.947926   30.013872  \n",
       "min     -1.225695    1.630000  \n",
       "25%      0.189381   27.750000  \n",
       "50%      1.013378   52.380000  \n",
       "75%      1.495713   80.130000  \n",
       "max      3.301460  110.000000  "
      ]
     },
     "execution_count": 11,
     "metadata": {},
     "output_type": "execute_result"
    }
   ],
   "source": [
    "combine1.describe()"
   ]
  },
  {
   "cell_type": "markdown",
   "metadata": {},
   "source": [
    "## Obviously, variables such as GDPMKTP, GnpMKTP and POPTotal have much larger scale, which reminds us we might have to standardize them a bit for better fitting our models"
   ]
  },
  {
   "cell_type": "code",
   "execution_count": 12,
   "metadata": {},
   "outputs": [
    {
     "data": {
      "text/plain": [
       "Index(['CName', 'GDPMKTP', 'GDPPCAP', 'GnpMKTP', 'GnpPCAP', 'POPTotal',\n",
       "       'POPGrow', 'Mean.Rank'],\n",
       "      dtype='object')"
      ]
     },
     "execution_count": 12,
     "metadata": {},
     "output_type": "execute_result"
    }
   ],
   "source": [
    "combine1.columns"
   ]
  },
  {
   "cell_type": "code",
   "execution_count": 13,
   "metadata": {},
   "outputs": [
    {
     "name": "stderr",
     "output_type": "stream",
     "text": [
      "/Anaconda/anaconda/lib/python3.6/site-packages/seaborn/categorical.py:2171: UserWarning: The boxplot API has been changed. Attempting to adjust your arguments for the new API (which might not work). Please update your code. See the version 0.6 release notes for more info.\n",
      "  warnings.warn(msg, UserWarning)\n"
     ]
    },
    {
     "data": {
      "text/plain": [
       "<matplotlib.axes._subplots.AxesSubplot at 0x11505e208>"
      ]
     },
     "execution_count": 13,
     "metadata": {},
     "output_type": "execute_result"
    },
    {
     "data": {
      "image/png": "[encoded data removed]",
      "text/plain": [
       "<matplotlib.figure.Figure at 0x115050c18>"
      ]
     },
     "metadata": {},
     "output_type": "display_data"
    }
   ],
   "source": [
    "# Show the outliers\n",
    "import seaborn as sns\n",
    "plt.figure(figsize=(12,4))\n",
    "plt.title('Boxplot of the edustasdataset')\n",
    "sns.boxplot(combine1)"
   ]
  },
  {
   "cell_type": "markdown",
   "metadata": {},
   "source": [
    "### Clearly, there are lots of outliers in variables GDPMKTP and GnpMKTP. There might be outliers in other variables but the Y axis is scaled up by the dominated variables GDPMKTP and GnpMKTP, which make the boxplot relatively not viewable."
   ]
  },
  {
   "cell_type": "code",
   "execution_count": 14,
   "metadata": {},
   "outputs": [
    {
     "data": {
      "text/plain": [
       "<matplotlib.axes._subplots.AxesSubplot at 0x11b124ef0>"
      ]
     },
     "execution_count": 14,
     "metadata": {},
     "output_type": "execute_result"
    },
    {
     "data": {
      "image/png": "[encoded data removed]",
      "text/plain": [
       "<matplotlib.figure.Figure at 0x11af4c630>"
      ]
     },
     "metadata": {},
     "output_type": "display_data"
    }
   ],
   "source": [
    "# \n",
    "fig, (ax1, ax2,ax3, ax4) = plt.subplots(nrows=4, ncols=1,figsize=(12,16))\n",
    "sns.boxplot(y=combine1['GDPMKTP'], ax=ax1,orient=\"h\", palette=\"Set1\")\n",
    "sns.boxplot(y=combine1['GnpPCAP'], ax=ax2,orient=\"h\", palette=\"Set2\")\n",
    "sns.boxplot(y=combine1['POPGrow'], ax=ax3,orient=\"h\", palette=\"Set3\")\n",
    "sns.boxplot(y=combine1['POPTotal'], ax=ax4,orient=\"h\", palette=\"Set1\")"
   ]
  },
  {
   "cell_type": "markdown",
   "metadata": {},
   "source": [
    "## 2.2 VIF and Collinearity Check\n",
    "Lessions learnt from before:\n",
    "\n",
    "1) Multicollinearity is nearly always a problem in multiple regression models\n",
    "\n",
    "2) Even small degrees of multicollinearity can cause serious problems for an analysis if you are interested in the effects of individual predictors\n",
    "\n",
    "3) Small samples are particularly vulnerable to multicollinearity problems because multicollinearity reduces your effective sample size for the effects of individual predictors\n",
    "\n",
    "4) There are no ‘easy’ solutions (e.g., dropping predictors is generally a bad idea)"
   ]
  },
  {
   "cell_type": "code",
   "execution_count": 15,
   "metadata": {},
   "outputs": [
    {
     "data": {
      "text/html": [
       "<div>\n",
       "<style>\n",
       "    .dataframe thead tr:only-child th {\n",
       "        text-align: right;\n",
       "    }\n",
       "\n",
       "    .dataframe thead th {\n",
       "        text-align: left;\n",
       "    }\n",
       "\n",
       "    .dataframe tbody tr th {\n",
       "        vertical-align: top;\n",
       "    }\n",
       "</style>\n",
       "<table border=\"1\" class=\"dataframe\">\n",
       "  <thead>\n",
       "    <tr style=\"text-align: right;\">\n",
       "      <th></th>\n",
       "      <th>VIF Factor</th>\n",
       "      <th>features</th>\n",
       "    </tr>\n",
       "  </thead>\n",
       "  <tbody>\n",
       "    <tr>\n",
       "      <th>0</th>\n",
       "      <td>12932.1</td>\n",
       "      <td>NY.GDP.MKTP.CD</td>\n",
       "    </tr>\n",
       "    <tr>\n",
       "      <th>1</th>\n",
       "      <td>81.9</td>\n",
       "      <td>NY.GDP.PCAP.CD</td>\n",
       "    </tr>\n",
       "    <tr>\n",
       "      <th>2</th>\n",
       "      <td>12854.9</td>\n",
       "      <td>NY.GNP.MKTP.CD</td>\n",
       "    </tr>\n",
       "    <tr>\n",
       "      <th>3</th>\n",
       "      <td>84.4</td>\n",
       "      <td>NY.GNP.PCAP.CD</td>\n",
       "    </tr>\n",
       "    <tr>\n",
       "      <th>4</th>\n",
       "      <td>1.3</td>\n",
       "      <td>SP.POP.GROW</td>\n",
       "    </tr>\n",
       "    <tr>\n",
       "      <th>5</th>\n",
       "      <td>1.7</td>\n",
       "      <td>SP.POP.TOTL</td>\n",
       "    </tr>\n",
       "  </tbody>\n",
       "</table>\n",
       "</div>"
      ],
      "text/plain": [
       "   VIF Factor        features\n",
       "0     12932.1  NY.GDP.MKTP.CD\n",
       "1        81.9  NY.GDP.PCAP.CD\n",
       "2     12854.9  NY.GNP.MKTP.CD\n",
       "3        84.4  NY.GNP.PCAP.CD\n",
       "4         1.3     SP.POP.GROW\n",
       "5         1.7     SP.POP.TOTL"
      ]
     },
     "execution_count": 15,
     "metadata": {},
     "output_type": "execute_result"
    }
   ],
   "source": [
    "# For each X, calculate VIF and save in dataframe\n",
    "from statsmodels.stats.outliers_influence import variance_inflation_factor    \n",
    "\n",
    "vif = pd.DataFrame()\n",
    "vif[\"VIF Factor\"] = [variance_inflation_factor(df_temp.values, i) for i in range(df_temp.shape[1])]\n",
    "vif[\"features\"] = df_temp.columns\n",
    "vif.round(1)"
   ]
  },
  {
   "cell_type": "markdown",
   "metadata": {},
   "source": [
    "## Based on the VIF number, we found there is collinearity that would severely distort model estimation"
   ]
  },
  {
   "cell_type": "code",
   "execution_count": 16,
   "metadata": {
    "collapsed": true
   },
   "outputs": [],
   "source": [
    "import seaborn as sns\n",
    "combine1_copy = combine1.drop([\"CName\", \"Mean.Rank\"], axis=1)\n",
    "train_int_name = combine1_copy.select_dtypes(include=['int64','float64']).columns.values\n",
    "corr = combine1[train_int_name].corr()"
   ]
  },
  {
   "cell_type": "code",
   "execution_count": 17,
   "metadata": {},
   "outputs": [
    {
     "data": {
      "text/plain": [
       "<matplotlib.axes._subplots.AxesSubplot at 0x11b3a43c8>"
      ]
     },
     "execution_count": 17,
     "metadata": {},
     "output_type": "execute_result"
    },
    {
     "data": {
      "image/png": "[encoded data removed]",
      "text/plain": [
       "<matplotlib.figure.Figure at 0x11b3a4390>"
      ]
     },
     "metadata": {},
     "output_type": "display_data"
    }
   ],
   "source": [
    "colormap = plt.cm.inferno\n",
    "plt.figure(figsize=(12,10))\n",
    "# ax.xaxis.set_label_position('top') \n",
    "plt.title('Pearson correlation of continuous features', y=1.05, size=20)\n",
    "sns.heatmap(corr,linewidths=0.1,vmax=1.0, square=True, linecolor='white', annot=True)"
   ]
  },
  {
   "cell_type": "markdown",
   "metadata": {},
   "source": [
    "### It is clearly GDPMKTP-GnpMKTP and GDPPCAP-GnpPCAP pairs are highly correlated"
   ]
  },
  {
   "cell_type": "code",
   "execution_count": 18,
   "metadata": {},
   "outputs": [
    {
     "data": {
      "text/html": [
       "<div>\n",
       "<style>\n",
       "    .dataframe thead tr:only-child th {\n",
       "        text-align: right;\n",
       "    }\n",
       "\n",
       "    .dataframe thead th {\n",
       "        text-align: left;\n",
       "    }\n",
       "\n",
       "    .dataframe tbody tr th {\n",
       "        vertical-align: top;\n",
       "    }\n",
       "</style>\n",
       "<table border=\"1\" class=\"dataframe\">\n",
       "  <thead>\n",
       "    <tr style=\"text-align: right;\">\n",
       "      <th></th>\n",
       "      <th>CName</th>\n",
       "      <th>GDPMKTP</th>\n",
       "      <th>GDPPCAP</th>\n",
       "      <th>GnpMKTP</th>\n",
       "      <th>GnpPCAP</th>\n",
       "      <th>POPTotal</th>\n",
       "      <th>POPGrow</th>\n",
       "      <th>Mean.Rank</th>\n",
       "    </tr>\n",
       "  </thead>\n",
       "  <tbody>\n",
       "    <tr>\n",
       "      <th>0</th>\n",
       "      <td>Albania</td>\n",
       "      <td>22.965138</td>\n",
       "      <td>8.068017</td>\n",
       "      <td>22.971426</td>\n",
       "      <td>8.057800</td>\n",
       "      <td>14.905733</td>\n",
       "      <td>-0.478064</td>\n",
       "      <td>79.83</td>\n",
       "    </tr>\n",
       "    <tr>\n",
       "      <th>1</th>\n",
       "      <td>Algeria</td>\n",
       "      <td>25.604242</td>\n",
       "      <td>8.220611</td>\n",
       "      <td>25.584423</td>\n",
       "      <td>8.156606</td>\n",
       "      <td>17.358944</td>\n",
       "      <td>1.569656</td>\n",
       "      <td>72.33</td>\n",
       "    </tr>\n",
       "    <tr>\n",
       "      <th>2</th>\n",
       "      <td>Argentina</td>\n",
       "      <td>26.523235</td>\n",
       "      <td>9.003392</td>\n",
       "      <td>26.495151</td>\n",
       "      <td>8.940760</td>\n",
       "      <td>17.504062</td>\n",
       "      <td>1.062501</td>\n",
       "      <td>50.00</td>\n",
       "    </tr>\n",
       "    <tr>\n",
       "      <th>3</th>\n",
       "      <td>Armenia</td>\n",
       "      <td>22.682223</td>\n",
       "      <td>7.771528</td>\n",
       "      <td>22.726353</td>\n",
       "      <td>7.777234</td>\n",
       "      <td>14.916349</td>\n",
       "      <td>-0.191634</td>\n",
       "      <td>43.88</td>\n",
       "    </tr>\n",
       "    <tr>\n",
       "      <th>4</th>\n",
       "      <td>Australia</td>\n",
       "      <td>27.535175</td>\n",
       "      <td>10.645173</td>\n",
       "      <td>27.501022</td>\n",
       "      <td>10.567060</td>\n",
       "      <td>16.865677</td>\n",
       "      <td>1.432896</td>\n",
       "      <td>19.75</td>\n",
       "    </tr>\n",
       "  </tbody>\n",
       "</table>\n",
       "</div>"
      ],
      "text/plain": [
       "       CName    GDPMKTP    GDPPCAP    GnpMKTP    GnpPCAP   POPTotal   POPGrow  \\\n",
       "0    Albania  22.965138   8.068017  22.971426   8.057800  14.905733 -0.478064   \n",
       "1    Algeria  25.604242   8.220611  25.584423   8.156606  17.358944  1.569656   \n",
       "2  Argentina  26.523235   9.003392  26.495151   8.940760  17.504062  1.062501   \n",
       "3    Armenia  22.682223   7.771528  22.726353   7.777234  14.916349 -0.191634   \n",
       "4  Australia  27.535175  10.645173  27.501022  10.567060  16.865677  1.432896   \n",
       "\n",
       "   Mean.Rank  \n",
       "0      79.83  \n",
       "1      72.33  \n",
       "2      50.00  \n",
       "3      43.88  \n",
       "4      19.75  "
      ]
     },
     "execution_count": 18,
     "metadata": {},
     "output_type": "execute_result"
    }
   ],
   "source": [
    "from sklearn.preprocessing import FunctionTransformer\n",
    "transformer = FunctionTransformer(np.log1p)\n",
    "# transformer.transform(combine1.iloc[:,1:])\n",
    "combine1.iloc[:,1:6] = transformer.transform(combine1.iloc[:,1:6])\n",
    "combine1.fillna(0, inplace=True)\n",
    "# scaled_df = scaleColumns(combine1,['GDPMKTP','GnpMKTP'])\n",
    "# combine1=scaler.transform(combine1)\n",
    "# combine1['MKTP'] = combine1.apply(lambda row: ((row['GDPMKTP']) + (row['GnpMKTP'])/2, axis=1))\n",
    "combine1.head()"
   ]
  },
  {
   "cell_type": "markdown",
   "metadata": {},
   "source": [
    "## Here I use np.log1p function to logtransform the variables in column 1-6(GDPMKTP to POPTotal). We can include polynomial terms after using logtransfrom since every coefficient of the transformed variables is an exponential term. I do not perform logtransform on POPGrow since it has negative values and distributed well without any outliers(seen from boxplot). There is no necessary to do transform on target variable: Mean.Rank, thus I leave it as is"
   ]
  },
  {
   "cell_type": "code",
   "execution_count": 19,
   "metadata": {},
   "outputs": [
    {
     "name": "stderr",
     "output_type": "stream",
     "text": [
      "/Anaconda/anaconda/lib/python3.6/site-packages/sklearn/cross_validation.py:41: DeprecationWarning: This module was deprecated in version 0.18 in favor of the model_selection module into which all the refactored classes and functions are moved. Also note that the interface of the new CV iterators are different from that of this module. This module will be removed in 0.20.\n",
      "  \"This module will be removed in 0.20.\", DeprecationWarning)\n"
     ]
    }
   ],
   "source": [
    "from sklearn.linear_model import LinearRegression, Ridge, ElasticNet, Lasso,  BayesianRidge, LassoLarsIC\n",
    "from sklearn.ensemble import RandomForestRegressor,  GradientBoostingRegressor\n",
    "from sklearn.kernel_ridge import KernelRidge\n",
    "from sklearn.pipeline import make_pipeline\n",
    "from sklearn.preprocessing import RobustScaler\n",
    "from sklearn.base import BaseEstimator, TransformerMixin, RegressorMixin, clone\n",
    "from sklearn.model_selection import KFold, cross_val_score, train_test_split\n",
    "from sklearn.metrics import mean_squared_error\n",
    "import xgboost as xgb\n",
    "import lightgbm as lgb\n",
    "\n",
    "X = combine1.drop(['CName', 'Mean.Rank'], axis = 1).values\n",
    "y = combine1['Mean.Rank'].values\n",
    "X_train, X_test, y_train, y_test = train_test_split(X, y, random_state = 42)"
   ]
  },
  {
   "cell_type": "code",
   "execution_count": 20,
   "metadata": {},
   "outputs": [
    {
     "data": {
      "text/html": [
       "<div>\n",
       "<style>\n",
       "    .dataframe thead tr:only-child th {\n",
       "        text-align: right;\n",
       "    }\n",
       "\n",
       "    .dataframe thead th {\n",
       "        text-align: left;\n",
       "    }\n",
       "\n",
       "    .dataframe tbody tr th {\n",
       "        vertical-align: top;\n",
       "    }\n",
       "</style>\n",
       "<table border=\"1\" class=\"dataframe\">\n",
       "  <thead>\n",
       "    <tr style=\"text-align: right;\">\n",
       "      <th></th>\n",
       "      <th>clf</th>\n",
       "      <th>clf_mse</th>\n",
       "    </tr>\n",
       "  </thead>\n",
       "  <tbody>\n",
       "    <tr>\n",
       "      <th>0</th>\n",
       "      <td>linreg</td>\n",
       "      <td>364.653501</td>\n",
       "    </tr>\n",
       "    <tr>\n",
       "      <th>2</th>\n",
       "      <td>lasso</td>\n",
       "      <td>365.118981</td>\n",
       "    </tr>\n",
       "    <tr>\n",
       "      <th>3</th>\n",
       "      <td>ENet</td>\n",
       "      <td>401.082101</td>\n",
       "    </tr>\n",
       "    <tr>\n",
       "      <th>6</th>\n",
       "      <td>XGBoost</td>\n",
       "      <td>415.873150</td>\n",
       "    </tr>\n",
       "    <tr>\n",
       "      <th>1</th>\n",
       "      <td>ridgereg</td>\n",
       "      <td>422.056338</td>\n",
       "    </tr>\n",
       "    <tr>\n",
       "      <th>7</th>\n",
       "      <td>LGBoost</td>\n",
       "      <td>492.415536</td>\n",
       "    </tr>\n",
       "    <tr>\n",
       "      <th>5</th>\n",
       "      <td>GBoost</td>\n",
       "      <td>524.278534</td>\n",
       "    </tr>\n",
       "    <tr>\n",
       "      <th>4</th>\n",
       "      <td>RF</td>\n",
       "      <td>651.862252</td>\n",
       "    </tr>\n",
       "  </tbody>\n",
       "</table>\n",
       "</div>"
      ],
      "text/plain": [
       "        clf     clf_mse\n",
       "0    linreg  364.653501\n",
       "2     lasso  365.118981\n",
       "3      ENet  401.082101\n",
       "6   XGBoost  415.873150\n",
       "1  ridgereg  422.056338\n",
       "7   LGBoost  492.415536\n",
       "5    GBoost  524.278534\n",
       "4        RF  651.862252"
      ]
     },
     "execution_count": 20,
     "metadata": {},
     "output_type": "execute_result"
    }
   ],
   "source": [
    "linreg = LinearRegression(copy_X=True, fit_intercept=True, n_jobs=1, normalize=False)\n",
    "ridgereg = Ridge(alpha=0.5, copy_X=True, fit_intercept=True, max_iter=None,\n",
    "      normalize=False, random_state=1, solver='auto', tol=0.001)\n",
    "lasso = make_pipeline(RobustScaler(), Lasso(alpha =0.0005, max_iter = 10000000, random_state=2))\n",
    "ENet = make_pipeline(RobustScaler(), ElasticNet(alpha=0.0005, max_iter = 10000000, l1_ratio=.9, random_state=3))\n",
    "RF = RandomForestRegressor(min_samples_split = 30, \n",
    "                             max_leaf_nodes = 15, \n",
    "                             n_estimators = 30, \n",
    "                             max_depth = 5,\n",
    "                             min_samples_leaf = 3)\n",
    "GBoost = GradientBoostingRegressor(n_estimators=50, learning_rate=0.05,\n",
    "                                   max_depth=4, max_features='sqrt',\n",
    "                                   min_samples_leaf=15, min_samples_split=10, \n",
    "                                   loss='huber', random_state =4)\n",
    "XGBoost = xgb.XGBRegressor(colsample_bytree=0.4603, gamma=0.0468, \n",
    "                             learning_rate=0.05, max_depth=3, \n",
    "                             min_child_weight=1.7817, n_estimators=2200,\n",
    "                             reg_alpha=0.4640, reg_lambda=0.8571,\n",
    "                             subsample=0.5213, silent=1, nthread = -1)\n",
    "LGBoost = lgb.LGBMRegressor(objective='regression',num_leaves=5,\n",
    "                              learning_rate=0.05, n_estimators=720,\n",
    "                              max_bin = 55, bagging_fraction = 0.8,\n",
    "                              bagging_freq = 5, feature_fraction = 0.2319,\n",
    "                              feature_fraction_seed=9, bagging_seed=9,\n",
    "                              min_data_in_leaf =6, min_sum_hessian_in_leaf = 11)\n",
    "\n",
    "clfs = {'linreg': linreg, \n",
    "        'ridgereg': ridgereg, \n",
    "        'lasso': lasso, \n",
    "        'ENet': ENet,\n",
    "        'RF': RF,\n",
    "        'GBoost': GBoost,\n",
    "        'XGBoost': XGBoost,\n",
    "        'LGBoost': LGBoost}\n",
    "\n",
    "res1 = []\n",
    "for name, clf in clfs.items():\n",
    "    clf.fit(X_train,y_train)\n",
    "    ypred = clf.predict(X_test)\n",
    "    res1.append([name, mean_squared_error(ypred, y_test)])\n",
    "    \n",
    "res1_score = pd.DataFrame(np.array(res1).reshape(8,2), columns = ['clf', 'clf_mse'])\n",
    "res1_score['clf_mse'] = res1_score['clf_mse'].astype(float)\n",
    "res1_score.sort_values('clf_mse')"
   ]
  },
  {
   "cell_type": "code",
   "execution_count": 21,
   "metadata": {},
   "outputs": [
    {
     "data": {
      "text/plain": [
       "array([ 57.6,  94. ,  99.9,  99.9,  99.9,  99.9])"
      ]
     },
     "execution_count": 21,
     "metadata": {},
     "output_type": "execute_result"
    },
    {
     "data": {
      "image/png": "[encoded data removed]",
      "text/plain": [
       "<matplotlib.figure.Figure at 0x11c63b3c8>"
      ]
     },
     "metadata": {},
     "output_type": "display_data"
    }
   ],
   "source": [
    "# find the n_compoents\n",
    "from sklearn.decomposition import PCA\n",
    "covar_matrix = PCA(n_components = 6)\n",
    "covar_matrix.fit(X_train)\n",
    "variance = covar_matrix.explained_variance_ratio_ #calculate variance ratios\n",
    "\n",
    "var=np.cumsum(np.round(covar_matrix.explained_variance_ratio_, decimals=3)*100)\n",
    "\n",
    "plt.ylabel('% Variance Explained')\n",
    "plt.xlabel('# of Features')\n",
    "plt.title('PCA Analysis')\n",
    "plt.ylim(98,100.5)\n",
    "plt.style.context('seaborn-whitegrid')\n",
    "\n",
    "plt.plot(var)\n",
    "var"
   ]
  },
  {
   "cell_type": "code",
   "execution_count": 22,
   "metadata": {},
   "outputs": [
    {
     "data": {
      "text/html": [
       "<div>\n",
       "<style>\n",
       "    .dataframe thead tr:only-child th {\n",
       "        text-align: right;\n",
       "    }\n",
       "\n",
       "    .dataframe thead th {\n",
       "        text-align: left;\n",
       "    }\n",
       "\n",
       "    .dataframe tbody tr th {\n",
       "        vertical-align: top;\n",
       "    }\n",
       "</style>\n",
       "<table border=\"1\" class=\"dataframe\">\n",
       "  <thead>\n",
       "    <tr style=\"text-align: right;\">\n",
       "      <th></th>\n",
       "      <th>clf</th>\n",
       "      <th>clf_mse</th>\n",
       "    </tr>\n",
       "  </thead>\n",
       "  <tbody>\n",
       "    <tr>\n",
       "      <th>2</th>\n",
       "      <td>lasso</td>\n",
       "      <td>432.383244</td>\n",
       "    </tr>\n",
       "    <tr>\n",
       "      <th>0</th>\n",
       "      <td>linreg</td>\n",
       "      <td>432.383496</td>\n",
       "    </tr>\n",
       "    <tr>\n",
       "      <th>3</th>\n",
       "      <td>ENet</td>\n",
       "      <td>432.393136</td>\n",
       "    </tr>\n",
       "    <tr>\n",
       "      <th>1</th>\n",
       "      <td>ridgereg</td>\n",
       "      <td>432.957620</td>\n",
       "    </tr>\n",
       "    <tr>\n",
       "      <th>5</th>\n",
       "      <td>GBoost</td>\n",
       "      <td>564.332707</td>\n",
       "    </tr>\n",
       "    <tr>\n",
       "      <th>4</th>\n",
       "      <td>RF</td>\n",
       "      <td>621.095013</td>\n",
       "    </tr>\n",
       "    <tr>\n",
       "      <th>6</th>\n",
       "      <td>XGBoost</td>\n",
       "      <td>688.618172</td>\n",
       "    </tr>\n",
       "  </tbody>\n",
       "</table>\n",
       "</div>"
      ],
      "text/plain": [
       "        clf     clf_mse\n",
       "2     lasso  432.383244\n",
       "0    linreg  432.383496\n",
       "3      ENet  432.393136\n",
       "1  ridgereg  432.957620\n",
       "5    GBoost  564.332707\n",
       "4        RF  621.095013\n",
       "6   XGBoost  688.618172"
      ]
     },
     "execution_count": 22,
     "metadata": {},
     "output_type": "execute_result"
    }
   ],
   "source": [
    "n_components = 4\n",
    "\n",
    "pca = PCA(n_components=n_components, svd_solver='randomized',\n",
    "          whiten=True).fit(X_train)\n",
    "\n",
    "X_train_pca = pca.transform(X_train)\n",
    "X_test_pca = pca.transform(X_test)\n",
    "\n",
    "clfs2 = {'linreg': linreg,\n",
    "        'ridgereg': ridgereg, \n",
    "        'lasso': lasso,\n",
    "        'ENet': ENet,\n",
    "        'RF': RF,\n",
    "        'GBoost': GBoost,\n",
    "        'XGBoost': XGBoost}\n",
    "#         'LGBoost': LGBoost # due to dimensions requirement cannot meet in lgbboost, I drop the LGBoost model this time\n",
    "\n",
    "\n",
    "res2 = []\n",
    "for name, clf in clfs2.items():\n",
    "    clf.fit(X_train_pca,y_train)\n",
    "    ypred = clf.predict(X_test_pca)\n",
    "    res2.append([name, mean_squared_error(ypred, y_test)])\n",
    "    \n",
    "res2_score = pd.DataFrame(np.array(res2).reshape(7,2), columns = ['clf', 'clf_mse'])\n",
    "res2_score['clf_mse'] = res2_score['clf_mse'].astype(float)\n",
    "res2_score.sort_values('clf_mse')"
   ]
  },
  {
   "cell_type": "markdown",
   "metadata": {},
   "source": [
    "# Use more features and set the thresh 50 for 101 countries"
   ]
  },
  {
   "cell_type": "code",
   "execution_count": 23,
   "metadata": {
    "collapsed": true
   },
   "outputs": [],
   "source": [
    "# na_thresh = np.arange(0, 100, 10)\n",
    "\n",
    "# def mse_thresh(thresh):\n",
    "#     df_temp = df.pivot_table(index='Country.Name', \n",
    "#                               columns='Indicator.Code', \n",
    "#                               values='value'\n",
    "#                              ).dropna(axis = 1, thresh = thresh)\n",
    "#     combine = pd.merge(df_temp, df3, left_index=True, right_on='Country.Name', how='inner')\n",
    "#     X = combine.drop(['Country.Name', 'Mean.Rank'], axis = 1).values\n",
    "#     y = combine['Mean.Rank'].values\n",
    "    \n",
    "#     print('the threshold of NA: {0: 4d}, the number of columns: {1: 4d}'.format(thresh, X.shape[1]))\n",
    "    \n",
    "#     X_train, X_test, y_train, y_test = train_test_split(X, y, random_state = 42)\n",
    "#     res = []\n",
    "#     clfs = {\n",
    "#             'XGBoost': XGBoost,\n",
    "#             'LGBoost': LGBoost}\n",
    "\n",
    "#     for name, clf in clfs.items():\n",
    "#         clf.fit(X_train,y_train)\n",
    "#         ypred = clf.predict(X_test)\n",
    "#         res.append([name, mean_squared_error(ypred, y_test)])\n",
    "\n",
    "#     res_score = pd.DataFrame(np.array(res).reshape(2,2), columns = ['clf', 'clf_mse'])\n",
    "#     res_score['clf_mse'] = res_score['clf_mse'].astype(float)\n",
    "#     print(res_score.sort_values(['clf_mse'], ascending = True))\n",
    "\n",
    "# for thresh in na_thresh:\n",
    "#     mse_thresh(thresh)"
   ]
  },
  {
   "cell_type": "code",
   "execution_count": null,
   "metadata": {
    "collapsed": true
   },
   "outputs": [],
   "source": []
  }
 ],
 "metadata": {
  "kernelspec": {
   "display_name": "Python 3",
   "language": "python",
   "name": "python3"
  },
  "language_info": {
   "codemirror_mode": {
    "name": "ipython",
    "version": 3
   },
   "file_extension": ".py",
   "mimetype": "text/x-python",
   "name": "python",
   "nbconvert_exporter": "python",
   "pygments_lexer": "ipython3",
   "version": "3.6.1"
  }
 },
 "nbformat": 4,
 "nbformat_minor": 2
}
