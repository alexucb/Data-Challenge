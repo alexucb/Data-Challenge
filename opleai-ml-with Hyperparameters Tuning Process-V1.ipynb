{
 "cells": [
  {
   "cell_type": "markdown",
   "metadata": {},
   "source": [
    "# 1-Setup"
   ]
  },
  {
   "cell_type": "markdown",
   "metadata": {},
   "source": [
    "First, let's make sure this notebook works well in both python 2 and 3, import a few common modules, ensure MatplotLib plots figures inline and prepare a function to save the figures:"
   ]
  },
  {
   "cell_type": "code",
   "execution_count": 26,
   "metadata": {
    "collapsed": true
   },
   "outputs": [],
   "source": [
    "# To support both python 2 and python 3\n",
    "from __future__ import division, print_function, unicode_literals\n",
    "\n",
    "# Common imports\n",
    "import numpy as np\n",
    "import pandas as pd\n",
    "import os\n",
    "\n",
    "# to make this notebook's output stable across runs\n",
    "np.random.seed(42)\n",
    "\n",
    "# To plot pretty figures\n",
    "%matplotlib inline\n",
    "import matplotlib\n",
    "import matplotlib.pyplot as plt\n",
    "import seaborn as sns\n",
    "plt.rcParams['axes.labelsize'] = 14\n",
    "plt.rcParams['xtick.labelsize'] = 12\n",
    "plt.rcParams['ytick.labelsize'] = 12\n",
    "\n",
    "# Where to save the figures\n",
    "PROJECT_ROOT_DIR = \".\"\n",
    "CHAPTER_ID = \"end_to_end_project\"\n",
    "\n",
    "def save_fig(fig_id, tight_layout=True):\n",
    "    path = os.path.join(PROJECT_ROOT_DIR, \"images\", CHAPTER_ID, fig_id + \".png\")\n",
    "    print(\"Saving figure\", fig_id)\n",
    "    if tight_layout:\n",
    "        plt.tight_layout()\n",
    "    plt.savefig(path, format='png', dpi=300)"
   ]
  },
  {
   "cell_type": "markdown",
   "metadata": {},
   "source": [
    "# 2-Get the data"
   ]
  },
  {
   "cell_type": "code",
   "execution_count": 7,
   "metadata": {},
   "outputs": [],
   "source": [
    "path1 = 'obtrain-ml.csv'\n",
    "\n",
    "df = pd.read_csv(path1, header=None)"
   ]
  },
  {
   "cell_type": "code",
   "execution_count": 8,
   "metadata": {},
   "outputs": [
    {
     "data": {
      "text/html": [
       "<div>\n",
       "<style>\n",
       "    .dataframe thead tr:only-child th {\n",
       "        text-align: right;\n",
       "    }\n",
       "\n",
       "    .dataframe thead th {\n",
       "        text-align: left;\n",
       "    }\n",
       "\n",
       "    .dataframe tbody tr th {\n",
       "        vertical-align: top;\n",
       "    }\n",
       "</style>\n",
       "<table border=\"1\" class=\"dataframe\">\n",
       "  <thead>\n",
       "    <tr style=\"text-align: right;\">\n",
       "      <th></th>\n",
       "      <th>0</th>\n",
       "      <th>1</th>\n",
       "      <th>2</th>\n",
       "      <th>3</th>\n",
       "      <th>4</th>\n",
       "      <th>5</th>\n",
       "      <th>6</th>\n",
       "      <th>7</th>\n",
       "      <th>8</th>\n",
       "      <th>9</th>\n",
       "      <th>...</th>\n",
       "      <th>550</th>\n",
       "      <th>551</th>\n",
       "      <th>552</th>\n",
       "      <th>553</th>\n",
       "      <th>554</th>\n",
       "      <th>555</th>\n",
       "      <th>556</th>\n",
       "      <th>557</th>\n",
       "      <th>558</th>\n",
       "      <th>559</th>\n",
       "    </tr>\n",
       "  </thead>\n",
       "  <tbody>\n",
       "    <tr>\n",
       "      <th>0</th>\n",
       "      <td>0.345081</td>\n",
       "      <td>0.746197</td>\n",
       "      <td>-1.090600</td>\n",
       "      <td>-1.080283</td>\n",
       "      <td>-0.271744</td>\n",
       "      <td>0.071893</td>\n",
       "      <td>-0.750719</td>\n",
       "      <td>1.320688</td>\n",
       "      <td>0.695390</td>\n",
       "      <td>1.163406</td>\n",
       "      <td>...</td>\n",
       "      <td>0.432794</td>\n",
       "      <td>-0.343324</td>\n",
       "      <td>-1.237080</td>\n",
       "      <td>0.392683</td>\n",
       "      <td>-1.937201</td>\n",
       "      <td>1.273496</td>\n",
       "      <td>0.471206</td>\n",
       "      <td>0.088425</td>\n",
       "      <td>-0.754906</td>\n",
       "      <td>-1.0</td>\n",
       "    </tr>\n",
       "    <tr>\n",
       "      <th>1</th>\n",
       "      <td>-1.238198</td>\n",
       "      <td>-0.990755</td>\n",
       "      <td>0.471342</td>\n",
       "      <td>-0.101829</td>\n",
       "      <td>-1.129983</td>\n",
       "      <td>0.341522</td>\n",
       "      <td>1.189618</td>\n",
       "      <td>-0.720331</td>\n",
       "      <td>0.104180</td>\n",
       "      <td>-1.092291</td>\n",
       "      <td>...</td>\n",
       "      <td>-1.290025</td>\n",
       "      <td>0.139505</td>\n",
       "      <td>0.117134</td>\n",
       "      <td>-0.186936</td>\n",
       "      <td>0.408618</td>\n",
       "      <td>0.237257</td>\n",
       "      <td>-1.110670</td>\n",
       "      <td>-0.645378</td>\n",
       "      <td>1.779565</td>\n",
       "      <td>-1.0</td>\n",
       "    </tr>\n",
       "    <tr>\n",
       "      <th>2</th>\n",
       "      <td>-0.008384</td>\n",
       "      <td>0.834482</td>\n",
       "      <td>0.726280</td>\n",
       "      <td>-1.889651</td>\n",
       "      <td>0.927735</td>\n",
       "      <td>-0.167712</td>\n",
       "      <td>0.570338</td>\n",
       "      <td>0.808293</td>\n",
       "      <td>-1.187723</td>\n",
       "      <td>-0.093282</td>\n",
       "      <td>...</td>\n",
       "      <td>-1.068939</td>\n",
       "      <td>-1.592181</td>\n",
       "      <td>-0.709196</td>\n",
       "      <td>0.754166</td>\n",
       "      <td>-0.060812</td>\n",
       "      <td>-0.646838</td>\n",
       "      <td>-0.774647</td>\n",
       "      <td>0.161045</td>\n",
       "      <td>-1.289014</td>\n",
       "      <td>-1.0</td>\n",
       "    </tr>\n",
       "    <tr>\n",
       "      <th>3</th>\n",
       "      <td>-0.082521</td>\n",
       "      <td>0.900501</td>\n",
       "      <td>1.673648</td>\n",
       "      <td>0.935160</td>\n",
       "      <td>1.558300</td>\n",
       "      <td>-0.406216</td>\n",
       "      <td>-0.735869</td>\n",
       "      <td>0.540115</td>\n",
       "      <td>-0.494145</td>\n",
       "      <td>-0.496822</td>\n",
       "      <td>...</td>\n",
       "      <td>0.453064</td>\n",
       "      <td>0.929381</td>\n",
       "      <td>1.205144</td>\n",
       "      <td>-1.941207</td>\n",
       "      <td>0.246593</td>\n",
       "      <td>0.710245</td>\n",
       "      <td>1.027464</td>\n",
       "      <td>0.483457</td>\n",
       "      <td>1.000004</td>\n",
       "      <td>1.0</td>\n",
       "    </tr>\n",
       "    <tr>\n",
       "      <th>4</th>\n",
       "      <td>-2.134288</td>\n",
       "      <td>-0.561238</td>\n",
       "      <td>-1.293037</td>\n",
       "      <td>-0.703646</td>\n",
       "      <td>1.918425</td>\n",
       "      <td>-1.160573</td>\n",
       "      <td>-0.106683</td>\n",
       "      <td>0.546631</td>\n",
       "      <td>-0.006137</td>\n",
       "      <td>0.632034</td>\n",
       "      <td>...</td>\n",
       "      <td>-2.686108</td>\n",
       "      <td>0.544527</td>\n",
       "      <td>0.886340</td>\n",
       "      <td>-0.885839</td>\n",
       "      <td>0.574833</td>\n",
       "      <td>-1.298381</td>\n",
       "      <td>0.814288</td>\n",
       "      <td>-0.834902</td>\n",
       "      <td>0.195764</td>\n",
       "      <td>1.0</td>\n",
       "    </tr>\n",
       "  </tbody>\n",
       "</table>\n",
       "<p>5 rows × 560 columns</p>\n",
       "</div>"
      ],
      "text/plain": [
       "        0         1         2         3         4         5         6    \\\n",
       "0  0.345081  0.746197 -1.090600 -1.080283 -0.271744  0.071893 -0.750719   \n",
       "1 -1.238198 -0.990755  0.471342 -0.101829 -1.129983  0.341522  1.189618   \n",
       "2 -0.008384  0.834482  0.726280 -1.889651  0.927735 -0.167712  0.570338   \n",
       "3 -0.082521  0.900501  1.673648  0.935160  1.558300 -0.406216 -0.735869   \n",
       "4 -2.134288 -0.561238 -1.293037 -0.703646  1.918425 -1.160573 -0.106683   \n",
       "\n",
       "        7         8         9   ...        550       551       552       553  \\\n",
       "0  1.320688  0.695390  1.163406 ...   0.432794 -0.343324 -1.237080  0.392683   \n",
       "1 -0.720331  0.104180 -1.092291 ...  -1.290025  0.139505  0.117134 -0.186936   \n",
       "2  0.808293 -1.187723 -0.093282 ...  -1.068939 -1.592181 -0.709196  0.754166   \n",
       "3  0.540115 -0.494145 -0.496822 ...   0.453064  0.929381  1.205144 -1.941207   \n",
       "4  0.546631 -0.006137  0.632034 ...  -2.686108  0.544527  0.886340 -0.885839   \n",
       "\n",
       "        554       555       556       557       558  559  \n",
       "0 -1.937201  1.273496  0.471206  0.088425 -0.754906 -1.0  \n",
       "1  0.408618  0.237257 -1.110670 -0.645378  1.779565 -1.0  \n",
       "2 -0.060812 -0.646838 -0.774647  0.161045 -1.289014 -1.0  \n",
       "3  0.246593  0.710245  1.027464  0.483457  1.000004  1.0  \n",
       "4  0.574833 -1.298381  0.814288 -0.834902  0.195764  1.0  \n",
       "\n",
       "[5 rows x 560 columns]"
      ]
     },
     "execution_count": 8,
     "metadata": {},
     "output_type": "execute_result"
    }
   ],
   "source": [
    "df.head()"
   ]
  },
  {
   "cell_type": "code",
   "execution_count": 11,
   "metadata": {},
   "outputs": [
    {
     "name": "stdout",
     "output_type": "stream",
     "text": [
      "<class 'pandas.core.frame.DataFrame'>\n",
      "RangeIndex: 2000 entries, 0 to 1999\n",
      "Columns: 560 entries, 0 to 559\n",
      "dtypes: float64(560)\n",
      "memory usage: 8.5 MB\n"
     ]
    }
   ],
   "source": [
    "df.info()"
   ]
  },
  {
   "cell_type": "code",
   "execution_count": 10,
   "metadata": {},
   "outputs": [
    {
     "data": {
      "text/html": [
       "<div>\n",
       "<style>\n",
       "    .dataframe thead tr:only-child th {\n",
       "        text-align: right;\n",
       "    }\n",
       "\n",
       "    .dataframe thead th {\n",
       "        text-align: left;\n",
       "    }\n",
       "\n",
       "    .dataframe tbody tr th {\n",
       "        vertical-align: top;\n",
       "    }\n",
       "</style>\n",
       "<table border=\"1\" class=\"dataframe\">\n",
       "  <thead>\n",
       "    <tr style=\"text-align: right;\">\n",
       "      <th></th>\n",
       "      <th>0</th>\n",
       "      <th>1</th>\n",
       "      <th>2</th>\n",
       "      <th>3</th>\n",
       "      <th>4</th>\n",
       "      <th>5</th>\n",
       "      <th>6</th>\n",
       "      <th>7</th>\n",
       "      <th>8</th>\n",
       "      <th>9</th>\n",
       "      <th>...</th>\n",
       "      <th>550</th>\n",
       "      <th>551</th>\n",
       "      <th>552</th>\n",
       "      <th>553</th>\n",
       "      <th>554</th>\n",
       "      <th>555</th>\n",
       "      <th>556</th>\n",
       "      <th>557</th>\n",
       "      <th>558</th>\n",
       "      <th>559</th>\n",
       "    </tr>\n",
       "  </thead>\n",
       "  <tbody>\n",
       "    <tr>\n",
       "      <th>count</th>\n",
       "      <td>2.000000e+03</td>\n",
       "      <td>2.000000e+03</td>\n",
       "      <td>2.000000e+03</td>\n",
       "      <td>2.000000e+03</td>\n",
       "      <td>2.000000e+03</td>\n",
       "      <td>2.000000e+03</td>\n",
       "      <td>2.000000e+03</td>\n",
       "      <td>2.000000e+03</td>\n",
       "      <td>2.000000e+03</td>\n",
       "      <td>2.000000e+03</td>\n",
       "      <td>...</td>\n",
       "      <td>2.000000e+03</td>\n",
       "      <td>2.000000e+03</td>\n",
       "      <td>2.000000e+03</td>\n",
       "      <td>2.000000e+03</td>\n",
       "      <td>2.000000e+03</td>\n",
       "      <td>2.000000e+03</td>\n",
       "      <td>2.000000e+03</td>\n",
       "      <td>2.000000e+03</td>\n",
       "      <td>2.000000e+03</td>\n",
       "      <td>2000.00000</td>\n",
       "    </tr>\n",
       "    <tr>\n",
       "      <th>mean</th>\n",
       "      <td>-4.533041e-16</td>\n",
       "      <td>2.373102e-16</td>\n",
       "      <td>3.731460e-16</td>\n",
       "      <td>5.121459e-16</td>\n",
       "      <td>-2.249312e-16</td>\n",
       "      <td>-5.644374e-16</td>\n",
       "      <td>-1.430522e-15</td>\n",
       "      <td>1.479372e-16</td>\n",
       "      <td>1.797035e-16</td>\n",
       "      <td>-3.349959e-16</td>\n",
       "      <td>...</td>\n",
       "      <td>-9.074824e-16</td>\n",
       "      <td>4.851675e-17</td>\n",
       "      <td>1.095790e-15</td>\n",
       "      <td>6.250556e-15</td>\n",
       "      <td>3.201051e-16</td>\n",
       "      <td>5.143663e-15</td>\n",
       "      <td>7.799317e-18</td>\n",
       "      <td>-9.864332e-16</td>\n",
       "      <td>-9.859336e-16</td>\n",
       "      <td>0.00000</td>\n",
       "    </tr>\n",
       "    <tr>\n",
       "      <th>std</th>\n",
       "      <td>1.000250e+00</td>\n",
       "      <td>1.000250e+00</td>\n",
       "      <td>1.000250e+00</td>\n",
       "      <td>1.000250e+00</td>\n",
       "      <td>1.000250e+00</td>\n",
       "      <td>1.000250e+00</td>\n",
       "      <td>1.000250e+00</td>\n",
       "      <td>1.000250e+00</td>\n",
       "      <td>1.000250e+00</td>\n",
       "      <td>1.000250e+00</td>\n",
       "      <td>...</td>\n",
       "      <td>1.000250e+00</td>\n",
       "      <td>1.000250e+00</td>\n",
       "      <td>1.000250e+00</td>\n",
       "      <td>1.000250e+00</td>\n",
       "      <td>1.000250e+00</td>\n",
       "      <td>1.000250e+00</td>\n",
       "      <td>1.000250e+00</td>\n",
       "      <td>1.000250e+00</td>\n",
       "      <td>1.000250e+00</td>\n",
       "      <td>1.00025</td>\n",
       "    </tr>\n",
       "    <tr>\n",
       "      <th>min</th>\n",
       "      <td>-3.806609e+00</td>\n",
       "      <td>-3.249674e+00</td>\n",
       "      <td>-3.340611e+00</td>\n",
       "      <td>-3.298440e+00</td>\n",
       "      <td>-3.228107e+00</td>\n",
       "      <td>-3.259287e+00</td>\n",
       "      <td>-3.237158e+00</td>\n",
       "      <td>-3.518765e+00</td>\n",
       "      <td>-3.117747e+00</td>\n",
       "      <td>-3.669559e+00</td>\n",
       "      <td>...</td>\n",
       "      <td>-4.123012e+00</td>\n",
       "      <td>-3.089802e+00</td>\n",
       "      <td>-3.754656e+00</td>\n",
       "      <td>-3.578335e+00</td>\n",
       "      <td>-3.839075e+00</td>\n",
       "      <td>-3.471544e+00</td>\n",
       "      <td>-3.735818e+00</td>\n",
       "      <td>-3.734729e+00</td>\n",
       "      <td>-4.071743e+00</td>\n",
       "      <td>-1.00000</td>\n",
       "    </tr>\n",
       "    <tr>\n",
       "      <th>25%</th>\n",
       "      <td>-6.518120e-01</td>\n",
       "      <td>-8.620804e-01</td>\n",
       "      <td>-6.931272e-01</td>\n",
       "      <td>-6.918625e-01</td>\n",
       "      <td>-6.489926e-01</td>\n",
       "      <td>-6.539326e-01</td>\n",
       "      <td>-6.638078e-01</td>\n",
       "      <td>-7.164303e-01</td>\n",
       "      <td>-6.833506e-01</td>\n",
       "      <td>-6.996555e-01</td>\n",
       "      <td>...</td>\n",
       "      <td>-6.071954e-01</td>\n",
       "      <td>-6.765307e-01</td>\n",
       "      <td>-6.444703e-01</td>\n",
       "      <td>-6.529039e-01</td>\n",
       "      <td>-6.870561e-01</td>\n",
       "      <td>-6.731509e-01</td>\n",
       "      <td>-6.744861e-01</td>\n",
       "      <td>-6.744321e-01</td>\n",
       "      <td>-6.624165e-01</td>\n",
       "      <td>-1.00000</td>\n",
       "    </tr>\n",
       "    <tr>\n",
       "      <th>50%</th>\n",
       "      <td>-1.110822e-02</td>\n",
       "      <td>-7.019288e-03</td>\n",
       "      <td>-2.689188e-04</td>\n",
       "      <td>-2.197787e-02</td>\n",
       "      <td>-2.821030e-03</td>\n",
       "      <td>-1.339113e-02</td>\n",
       "      <td>2.389254e-02</td>\n",
       "      <td>3.500354e-02</td>\n",
       "      <td>1.872041e-02</td>\n",
       "      <td>-2.242355e-03</td>\n",
       "      <td>...</td>\n",
       "      <td>2.640873e-02</td>\n",
       "      <td>-1.159443e-02</td>\n",
       "      <td>3.245307e-02</td>\n",
       "      <td>-5.806578e-02</td>\n",
       "      <td>-5.655842e-02</td>\n",
       "      <td>9.680798e-03</td>\n",
       "      <td>3.983293e-02</td>\n",
       "      <td>1.050333e-02</td>\n",
       "      <td>9.302599e-03</td>\n",
       "      <td>0.00000</td>\n",
       "    </tr>\n",
       "    <tr>\n",
       "      <th>75%</th>\n",
       "      <td>6.537779e-01</td>\n",
       "      <td>8.554428e-01</td>\n",
       "      <td>7.047071e-01</td>\n",
       "      <td>6.453907e-01</td>\n",
       "      <td>6.784400e-01</td>\n",
       "      <td>6.430344e-01</td>\n",
       "      <td>6.495657e-01</td>\n",
       "      <td>5.598357e-01</td>\n",
       "      <td>6.493064e-01</td>\n",
       "      <td>6.732397e-01</td>\n",
       "      <td>...</td>\n",
       "      <td>6.933908e-01</td>\n",
       "      <td>6.625549e-01</td>\n",
       "      <td>6.595602e-01</td>\n",
       "      <td>6.322097e-01</td>\n",
       "      <td>7.105999e-01</td>\n",
       "      <td>6.671100e-01</td>\n",
       "      <td>6.825393e-01</td>\n",
       "      <td>6.653655e-01</td>\n",
       "      <td>6.653531e-01</td>\n",
       "      <td>1.00000</td>\n",
       "    </tr>\n",
       "    <tr>\n",
       "      <th>max</th>\n",
       "      <td>2.965983e+00</td>\n",
       "      <td>3.193342e+00</td>\n",
       "      <td>2.940053e+00</td>\n",
       "      <td>2.732206e+00</td>\n",
       "      <td>3.611380e+00</td>\n",
       "      <td>3.427170e+00</td>\n",
       "      <td>3.158721e+00</td>\n",
       "      <td>3.343066e+00</td>\n",
       "      <td>3.233024e+00</td>\n",
       "      <td>3.241649e+00</td>\n",
       "      <td>...</td>\n",
       "      <td>3.287154e+00</td>\n",
       "      <td>3.635809e+00</td>\n",
       "      <td>3.316442e+00</td>\n",
       "      <td>3.455745e+00</td>\n",
       "      <td>4.175236e+00</td>\n",
       "      <td>3.360887e+00</td>\n",
       "      <td>3.527163e+00</td>\n",
       "      <td>4.544100e+00</td>\n",
       "      <td>3.773016e+00</td>\n",
       "      <td>1.00000</td>\n",
       "    </tr>\n",
       "  </tbody>\n",
       "</table>\n",
       "<p>8 rows × 560 columns</p>\n",
       "</div>"
      ],
      "text/plain": [
       "                0             1             2             3             4    \\\n",
       "count  2.000000e+03  2.000000e+03  2.000000e+03  2.000000e+03  2.000000e+03   \n",
       "mean  -4.533041e-16  2.373102e-16  3.731460e-16  5.121459e-16 -2.249312e-16   \n",
       "std    1.000250e+00  1.000250e+00  1.000250e+00  1.000250e+00  1.000250e+00   \n",
       "min   -3.806609e+00 -3.249674e+00 -3.340611e+00 -3.298440e+00 -3.228107e+00   \n",
       "25%   -6.518120e-01 -8.620804e-01 -6.931272e-01 -6.918625e-01 -6.489926e-01   \n",
       "50%   -1.110822e-02 -7.019288e-03 -2.689188e-04 -2.197787e-02 -2.821030e-03   \n",
       "75%    6.537779e-01  8.554428e-01  7.047071e-01  6.453907e-01  6.784400e-01   \n",
       "max    2.965983e+00  3.193342e+00  2.940053e+00  2.732206e+00  3.611380e+00   \n",
       "\n",
       "                5             6             7             8             9    \\\n",
       "count  2.000000e+03  2.000000e+03  2.000000e+03  2.000000e+03  2.000000e+03   \n",
       "mean  -5.644374e-16 -1.430522e-15  1.479372e-16  1.797035e-16 -3.349959e-16   \n",
       "std    1.000250e+00  1.000250e+00  1.000250e+00  1.000250e+00  1.000250e+00   \n",
       "min   -3.259287e+00 -3.237158e+00 -3.518765e+00 -3.117747e+00 -3.669559e+00   \n",
       "25%   -6.539326e-01 -6.638078e-01 -7.164303e-01 -6.833506e-01 -6.996555e-01   \n",
       "50%   -1.339113e-02  2.389254e-02  3.500354e-02  1.872041e-02 -2.242355e-03   \n",
       "75%    6.430344e-01  6.495657e-01  5.598357e-01  6.493064e-01  6.732397e-01   \n",
       "max    3.427170e+00  3.158721e+00  3.343066e+00  3.233024e+00  3.241649e+00   \n",
       "\n",
       "          ...               550           551           552           553  \\\n",
       "count     ...      2.000000e+03  2.000000e+03  2.000000e+03  2.000000e+03   \n",
       "mean      ...     -9.074824e-16  4.851675e-17  1.095790e-15  6.250556e-15   \n",
       "std       ...      1.000250e+00  1.000250e+00  1.000250e+00  1.000250e+00   \n",
       "min       ...     -4.123012e+00 -3.089802e+00 -3.754656e+00 -3.578335e+00   \n",
       "25%       ...     -6.071954e-01 -6.765307e-01 -6.444703e-01 -6.529039e-01   \n",
       "50%       ...      2.640873e-02 -1.159443e-02  3.245307e-02 -5.806578e-02   \n",
       "75%       ...      6.933908e-01  6.625549e-01  6.595602e-01  6.322097e-01   \n",
       "max       ...      3.287154e+00  3.635809e+00  3.316442e+00  3.455745e+00   \n",
       "\n",
       "                554           555           556           557           558  \\\n",
       "count  2.000000e+03  2.000000e+03  2.000000e+03  2.000000e+03  2.000000e+03   \n",
       "mean   3.201051e-16  5.143663e-15  7.799317e-18 -9.864332e-16 -9.859336e-16   \n",
       "std    1.000250e+00  1.000250e+00  1.000250e+00  1.000250e+00  1.000250e+00   \n",
       "min   -3.839075e+00 -3.471544e+00 -3.735818e+00 -3.734729e+00 -4.071743e+00   \n",
       "25%   -6.870561e-01 -6.731509e-01 -6.744861e-01 -6.744321e-01 -6.624165e-01   \n",
       "50%   -5.655842e-02  9.680798e-03  3.983293e-02  1.050333e-02  9.302599e-03   \n",
       "75%    7.105999e-01  6.671100e-01  6.825393e-01  6.653655e-01  6.653531e-01   \n",
       "max    4.175236e+00  3.360887e+00  3.527163e+00  4.544100e+00  3.773016e+00   \n",
       "\n",
       "              559  \n",
       "count  2000.00000  \n",
       "mean      0.00000  \n",
       "std       1.00025  \n",
       "min      -1.00000  \n",
       "25%      -1.00000  \n",
       "50%       0.00000  \n",
       "75%       1.00000  \n",
       "max       1.00000  \n",
       "\n",
       "[8 rows x 560 columns]"
      ]
     },
     "execution_count": 10,
     "metadata": {},
     "output_type": "execute_result"
    }
   ],
   "source": [
    "df.describe()"
   ]
  },
  {
   "cell_type": "markdown",
   "metadata": {},
   "source": [
    "## Train-Test Split\n",
    "The data is split into train and test datasets in a stratified fashion using the target label. The training dataset includes 75% of the original dataset."
   ]
  },
  {
   "cell_type": "code",
   "execution_count": 14,
   "metadata": {},
   "outputs": [],
   "source": [
    "from sklearn.cross_validation import train_test_split\n",
    "\n",
    "y = df[559]\n",
    "X = df.drop(559,axis=1)\n",
    "\n",
    "X_train, X_test, y_train, y_test = train_test_split(X, y, stratify=y, random_state = 15) "
   ]
  },
  {
   "cell_type": "markdown",
   "metadata": {},
   "source": [
    "## Feature Engineering\n",
    "The number of missing values in each column of the training and test datasets are as follows:"
   ]
  },
  {
   "cell_type": "code",
   "execution_count": 25,
   "metadata": {},
   "outputs": [
    {
     "name": "stdout",
     "output_type": "stream",
     "text": [
      "Is there any null value in the training dataset?   False\n",
      "Is there any null value in the test dataset?       False\n"
     ]
    }
   ],
   "source": [
    "print ('Is there any null value in the training dataset?   %s' % (X_train.isnull().any()).any())\n",
    "print ('Is there any null value in the test dataset?       %s' % (X_test.isnull().any()).any())"
   ]
  },
  {
   "cell_type": "code",
   "execution_count": 27,
   "metadata": {},
   "outputs": [
    {
     "data": {
      "image/png": "[encoded data removed]",
      "text/plain": [
       "<matplotlib.figure.Figure at 0x107b65470>"
      ]
     },
     "metadata": {},
     "output_type": "display_data"
    }
   ],
   "source": [
    "sns.set_context('notebook',font_scale=1.5)\n",
    "labels =['Postive','Negative']\n",
    "colors = ['yellowgreen', 'lightcoral']\n",
    "explode = (0, 0.1)\n",
    "plt.figure(figsize=(5,5))\n",
    "plt.pie(y_train.value_counts(),labels=labels,colors=colors,explode=explode, shadow=True, startangle=90, autopct='%.2f');"
   ]
  },
  {
   "cell_type": "code",
   "execution_count": 35,
   "metadata": {},
   "outputs": [
    {
     "data": {
      "image/png": "[encoded data removed]",
      "text/plain": [
       "<matplotlib.figure.Figure at 0x11818e6a0>"
      ]
     },
     "metadata": {},
     "output_type": "display_data"
    }
   ],
   "source": [
    "#Use blank/white to visualize all the missing values accross the variables\n",
    "train_copy = X\n",
    "train_copy = train_copy.replace(-1, np.NaN)\n",
    "import missingno as msno\n",
    "# Nullity or missing values by columns\n",
    "msno.matrix(df=train_copy.iloc[:,1:50], figsize=(30, 10), color=(0.42, 0.1, 0.05))"
   ]
  },
  {
   "cell_type": "code",
   "execution_count": 104,
   "metadata": {},
   "outputs": [
    {
     "name": "stdout",
     "output_type": "stream",
     "text": [
      "int_features: []\n",
      "float_features: [  0   1   2   3   4   5   6   7   8   9  10  11  12  13  14  15  16  17\n",
      "  18  19  20  21  22  23  24  25  26  27  28  29  30  31  32  33  34  35\n",
      "  36  37  38  39  40  41  42  43  44  45  46  47  48  49  50  51  52  53\n",
      "  54  55  56  57  58  59  60  61  62  63  64  65  66  67  68  69  70  71\n",
      "  72  73  74  75  76  77  78  79  80  81  82  83  84  85  86  87  88  89\n",
      "  90  91  92  93  94  95  96  97  98  99 100 101 102 103 104 105 106 107\n",
      " 108 109 110 111 112 113 114 115 116 117 118 119 120 121 122 123 124 125\n",
      " 126 127 128 129 130 131 132 133 134 135 136 137 138 139 140 141 142 143\n",
      " 144 145 146 147 148 149 150 151 152 153 154 155 156 157 158 159 160 161\n",
      " 162 163 164 165 166 167 168 169 170 171 172 173 174 175 176 177 178 179\n",
      " 180 181 182 183 184 185 186 187 188 189 190 191 192 193 194 195 196 197\n",
      " 198 199 200 201 202 203 204 205 206 207 208 209 210 211 212 213 214 215\n",
      " 216 217 218 219 220 221 222 223 224 225 226 227 228 229 230 231 232 233\n",
      " 234 235 236 237 238 239 240 241 242 243 244 245 246 247 248 249 250 251\n",
      " 252 253 254 255 256 257 258 259 260 261 262 263 264 265 266 267 268 269\n",
      " 270 271 272 273 274 275 276 277 278 279 280 281 282 283 284 285 286 287\n",
      " 288 289 290 291 292 293 294 295 296 297 298 299 300 301 302 303 304 305\n",
      " 306 307 308 309 310 311 312 313 314 315 316 317 318 319 320 321 322 323\n",
      " 324 325 326 327 328 329 330 331 332 333 334 335 336 337 338 339 340 341\n",
      " 342 343 344 345 346 347 348 349 350 351 352 353 354 355 356 357 358 359\n",
      " 360 361 362 363 364 365 366 367 368 369 370 371 372 373 374 375 376 377\n",
      " 378 379 380 381 382 383 384 385 386 387 388 389 390 391 392 393 394 395\n",
      " 396 397 398 399 400 401 402 403 404 405 406 407 408 409 410 411 412 413\n",
      " 414 415 416 417 418 419 420 421 422 423 424 425 426 427 428 429 430 431\n",
      " 432 433 434 435 436 437 438 439 440 441 442 443 444 445 446 447 448 449\n",
      " 450 451 452 453 454 455 456 457 458 459 460 461 462 463 464 465 466 467\n",
      " 468 469 470 471 472 473 474 475 476 477 478 479 480 481 482 483 484 485\n",
      " 486 487 488 489 490 491 492 493 494 495 496 497 498 499 500 501 502 503\n",
      " 504 505 506 507 508 509 510 511 512 513 514 515 516 517 518 519 520 521\n",
      " 522 523 524 525 526 527 528 529 530 531 532 533 534 535 536 537 538 539\n",
      " 540 541 542 543 544 545 546 547 548 549 550 551 552 553 554 555 556 557\n",
      " 558]\n",
      "bool_features: []\n",
      "categorical_features: []\n"
     ]
    }
   ],
   "source": [
    "#count the numbers of int64, float64, bool or object/string features\n",
    "train = X\n",
    "int_features = train.select_dtypes(include = ['int64']).columns.values\n",
    "float_features = train.select_dtypes(include = ['float64']).columns.values\n",
    "bool_features= train.select_dtypes(include = ['bool']).columns.values\n",
    "categorical_features = train.select_dtypes(include = ['object']).columns.values\n",
    "print('int_features:', int_features) #, 'count of int_features:'count(int_features)\n",
    "print('float_features:', float_features)\n",
    "print('bool_features:', bool_features)\n",
    "print('categorical_features:', categorical_features)"
   ]
  },
  {
   "cell_type": "code",
   "execution_count": 105,
   "metadata": {},
   "outputs": [
    {
     "data": {
      "text/plain": [
       "<matplotlib.axes._subplots.AxesSubplot at 0x116d12908>"
      ]
     },
     "execution_count": 105,
     "metadata": {},
     "output_type": "execute_result"
    },
    {
     "data": {
      "image/png": "[encoded data removed]",
      "text/plain": [
       "<matplotlib.figure.Figure at 0x11710e8d0>"
      ]
     },
     "metadata": {},
     "output_type": "display_data"
    }
   ],
   "source": [
    "corr = train.corr()\n",
    "\n",
    "mask = np.zeros_like(corr, dtype=np.bool)\n",
    "mask[np.triu_indices_from(mask)] = True\n",
    "\n",
    "f, ax = plt.subplots(figsize=(15, 15))\n",
    "\n",
    "cmap = sns.diverging_palette(220, 10, as_cmap=True)\n",
    "\n",
    "\n",
    "plt.title('Pearson Correlation of All Features', y=1.05, size=20)\n",
    "sns.heatmap(corr, mask=mask, cmap=cmap, vmax=0.1, center=0,\n",
    "            square=True, linewidths=.5, cbar_kws={\"shrink\": .5})\n"
   ]
  },
  {
   "cell_type": "code",
   "execution_count": 42,
   "metadata": {
    "collapsed": true
   },
   "outputs": [],
   "source": [
    "def gini(actual, pred, cmpcol = 0, sortcol = 1):\n",
    "    assert( len(actual) == len(pred) )\n",
    "    all = np.asarray(np.c_[ actual, pred, np.arange(len(actual)) ], dtype=np.float)\n",
    "    all = all[ np.lexsort((all[:,2], -1*all[:,1])) ]\n",
    "    totalLosses = all[:,0].sum()\n",
    "    giniSum = all[:,0].cumsum().sum() / totalLosses\n",
    "    \n",
    "    giniSum -= (len(actual) + 1) / 2.\n",
    "    return giniSum / len(actual)\n",
    " \n",
    "def gini_normalized(a, p):\n",
    "    return gini(a, p) / gini(a, a)\n",
    "\n",
    "# Create an XGBoost-compatible metric from Gini\n",
    "\n",
    "def gini_coefficient(preds,dtrain):\n",
    "    y = dtrain.get_label()\n",
    "    return 'gini', -gini_normalized(y,preds)"
   ]
  },
  {
   "cell_type": "code",
   "execution_count": 44,
   "metadata": {
    "collapsed": true
   },
   "outputs": [],
   "source": [
    "from sklearn.cross_validation import train_test_split\n",
    "from sklearn.linear_model import LogisticRegression\n",
    "from sklearn.svm import SVC, LinearSVC\n",
    "from sklearn.ensemble import RandomForestClassifier\n",
    "from sklearn.neighbors import KNeighborsClassifier\n",
    "from sklearn.naive_bayes import GaussianNB\n",
    "from sklearn.linear_model import Perceptron\n",
    "from sklearn.linear_model import SGDClassifier\n",
    "from sklearn.tree import DecisionTreeClassifier\n",
    "from sklearn.metrics import precision_score, accuracy_score, f1_score, roc_auc_score\n",
    "import xgboost as xgb"
   ]
  },
  {
   "cell_type": "code",
   "execution_count": 97,
   "metadata": {},
   "outputs": [
    {
     "name": "stderr",
     "output_type": "stream",
     "text": [
      "/Anaconda/anaconda/lib/python3.6/site-packages/ipykernel_launcher.py:6: RuntimeWarning: divide by zero encountered in double_scalars\n",
      "  \n",
      "/Anaconda/anaconda/lib/python3.6/site-packages/ipykernel_launcher.py:12: RuntimeWarning: invalid value encountered in double_scalars\n",
      "  if sys.path[0] == '':\n"
     ]
    },
    {
     "name": "stdout",
     "output_type": "stream",
     "text": [
      "LogisticRegression classifier: gini = nan, precision = 0.5480, accuracy = 0.5720, f1 score = 0.5615\n",
      "SVC classifier: gini = nan, precision = 0.6040, accuracy = 0.6040, f1 score = 0.6040\n",
      "KNeighborsClassifier classifier: gini = nan, precision = 0.3080, accuracy = 0.5440, f1 score = 0.4031\n",
      "GaussianNB classifier: gini = nan, precision = 0.5680, accuracy = 0.5880, f1 score = 0.5796\n",
      "Perceptron classifier: gini = nan, precision = 0.5480, accuracy = 0.5760, f1 score = 0.5638\n",
      "LinearSVC classifier: gini = nan, precision = 0.5400, accuracy = 0.5600, f1 score = 0.5510\n",
      "SGDClassifier classifier: gini = nan, precision = 0.5200, accuracy = 0.5440, f1 score = 0.5328\n",
      "DecisionTreeClassifier classifier: gini = nan, precision = 0.7840, accuracy = 0.7540, f1 score = 0.7612\n"
     ]
    },
    {
     "name": "stderr",
     "output_type": "stream",
     "text": [
      "/Anaconda/anaconda/lib/python3.6/site-packages/ipykernel_launcher.py:6: RuntimeWarning: divide by zero encountered in double_scalars\n",
      "  \n",
      "/Anaconda/anaconda/lib/python3.6/site-packages/ipykernel_launcher.py:12: RuntimeWarning: invalid value encountered in double_scalars\n",
      "  if sys.path[0] == '':\n"
     ]
    },
    {
     "name": "stdout",
     "output_type": "stream",
     "text": [
      "RandomForestClassifier classifier: gini = nan, precision = 0.6160, accuracy = 0.6660, f1 score = 0.6484\n",
      "XGBoostClassifier classifier: gini = nan, precision = 0.7720, accuracy = 0.7840, f1 score = 0.7814\n",
      "-----------------------------------------------\n"
     ]
    },
    {
     "name": "stderr",
     "output_type": "stream",
     "text": [
      "/Anaconda/anaconda/lib/python3.6/site-packages/ipykernel_launcher.py:6: RuntimeWarning: divide by zero encountered in double_scalars\n",
      "  \n",
      "/Anaconda/anaconda/lib/python3.6/site-packages/ipykernel_launcher.py:12: RuntimeWarning: invalid value encountered in double_scalars\n",
      "  if sys.path[0] == '':\n"
     ]
    }
   ],
   "source": [
    "# try simple models 101 without class_weight='balanced'\n",
    "clfs = {'LogisticRegression':LogisticRegression(class_weight='balanced'),\n",
    "        'SVC': SVC(),\n",
    "        'KNeighborsClassifier': KNeighborsClassifier(n_neighbors = 2),\n",
    "        'GaussianNB': GaussianNB(), \n",
    "        'Perceptron': Perceptron(max_iter=1000), \n",
    "        'LinearSVC': LinearSVC(), \n",
    "        'SGDClassifier': SGDClassifier(max_iter=1000), \n",
    "        'DecisionTreeClassifier': DecisionTreeClassifier(),\n",
    "        'RandomForestClassifier': RandomForestClassifier(n_estimators=100),\n",
    "        'XGBoostClassifier': xgb.XGBClassifier(max_depth=5, n_estimators=500, learning_rate=0.02)\n",
    "       }\n",
    "\n",
    "for name, clf in clfs.items():\n",
    "    clf.fit(X_train,y_train)\n",
    "    ypred = clf.predict(X_test)\n",
    "    gini_ = gini_normalized(y_test,ypred)\n",
    "    precision_ = precision_score(ypred, y_test)\n",
    "    accuracy_ = accuracy_score(ypred,y_test)\n",
    "    f1_ = f1_score(ypred,y_test)\n",
    "    print('%s classifier: gini = %.4f, precision = %.4f, accuracy = %.4f, f1 score = %.4f' \n",
    "          %(name, gini_, precision_, accuracy_, f1_))\n",
    "print(\"-----------------------------------------------\")"
   ]
  },
  {
   "cell_type": "code",
   "execution_count": null,
   "metadata": {
    "collapsed": true
   },
   "outputs": [],
   "source": []
  },
  {
   "cell_type": "code",
   "execution_count": 51,
   "metadata": {},
   "outputs": [
    {
     "name": "stdout",
     "output_type": "stream",
     "text": [
      "XGBoostClassifier classifier: gini = nan, precision = 0.8160, accuracy = 0.8160, f1 score = 0.8160\n"
     ]
    },
    {
     "name": "stderr",
     "output_type": "stream",
     "text": [
      "/Anaconda/anaconda/lib/python3.6/site-packages/ipykernel_launcher.py:6: RuntimeWarning: divide by zero encountered in double_scalars\n",
      "  \n",
      "/Anaconda/anaconda/lib/python3.6/site-packages/ipykernel_launcher.py:12: RuntimeWarning: invalid value encountered in double_scalars\n",
      "  if sys.path[0] == '':\n"
     ]
    }
   ],
   "source": [
    "xgb2=xgb.XGBClassifier(max_depth=6, n_estimators=1500, learning_rate=0.01)\n",
    "\n",
    "xgb2.fit(X_train,y_train)\n",
    "ypred = xgb2.predict(X_test)\n",
    "gini_ = gini_normalized(y_test,ypred)\n",
    "precision_ = precision_score(ypred, y_test)\n",
    "accuracy_ = accuracy_score(ypred,y_test)\n",
    "f1_ = f1_score(ypred,y_test)\n",
    "print('%s classifier: gini = %.4f, precision = %.4f, accuracy = %.4f, f1 score = %.4f' \n",
    "      %(name, gini_, precision_, accuracy_, f1_))\n"
   ]
  },
  {
   "cell_type": "code",
   "execution_count": 95,
   "metadata": {},
   "outputs": [
    {
     "name": "stdout",
     "output_type": "stream",
     "text": [
      "Extra Tree classifier: gini = nan, precision = 0.8120, accuracy = 0.8160, f1 score = 0.8153\n"
     ]
    },
    {
     "name": "stderr",
     "output_type": "stream",
     "text": [
      "/Anaconda/anaconda/lib/python3.6/site-packages/ipykernel_launcher.py:6: RuntimeWarning: divide by zero encountered in double_scalars\n",
      "  \n",
      "/Anaconda/anaconda/lib/python3.6/site-packages/ipykernel_launcher.py:12: RuntimeWarning: invalid value encountered in double_scalars\n",
      "  if sys.path[0] == '':\n"
     ]
    }
   ],
   "source": [
    "xgb3=xgb.XGBClassifier(max_depth=6, n_estimators=2000, learning_rate=0.01)\n",
    "\n",
    "xgb3.fit(X_train,y_train)\n",
    "ypred = xgb3.predict(X_test)\n",
    "gini_ = gini_normalized(y_test,ypred)\n",
    "precision_ = precision_score(ypred, y_test)\n",
    "accuracy_ = accuracy_score(ypred,y_test)\n",
    "f1_ = f1_score(ypred,y_test)\n",
    "print('%s classifier: gini = %.4f, precision = %.4f, accuracy = %.4f, f1 score = %.4f' \n",
    "      %(name, gini_, precision_, accuracy_, f1_))\n"
   ]
  },
  {
   "cell_type": "markdown",
   "metadata": {},
   "source": [
    "## Hyperparameters tuning"
   ]
  },
  {
   "cell_type": "code",
   "execution_count": 125,
   "metadata": {
    "collapsed": true
   },
   "outputs": [
    {
     "name": "stdout",
     "output_type": "stream",
     "text": [
      "    test-auc-mean  test-auc-std  train-auc-mean  train-auc-std\n",
      "0        0.762785      0.022983        0.780396       0.008347\n",
      "1        0.774736      0.030948        0.795813       0.013045\n",
      "2        0.782900      0.027864        0.807234       0.008762\n",
      "3        0.777266      0.026038        0.810694       0.007145\n",
      "4        0.777853      0.026447        0.814895       0.008318\n",
      "5        0.774053      0.027933        0.819128       0.008706\n",
      "6        0.785716      0.029594        0.831479       0.003356\n",
      "7        0.790611      0.031760        0.838475       0.002462\n",
      "8        0.790864      0.031654        0.842551       0.003344\n",
      "9        0.792218      0.031253        0.844344       0.004446\n",
      "10       0.791792      0.030189        0.850149       0.004379\n",
      "11       0.793562      0.030894        0.859098       0.003450\n",
      "12       0.794262      0.029895        0.865700       0.003741\n",
      "13       0.793089      0.028066        0.869413       0.004475\n",
      "14       0.791848      0.028333        0.875063       0.005125\n",
      "15       0.793739      0.029593        0.881353       0.003833\n",
      "16       0.796646      0.032269        0.887057       0.003329\n",
      "17       0.800008      0.027238        0.892145       0.003611\n",
      "18       0.799194      0.027363        0.897789       0.003893\n",
      "19       0.799103      0.027293        0.902322       0.004265\n",
      "20       0.802794      0.026534        0.906823       0.002374\n",
      "Optimal number of trees (estimators) is 21\n"
     ]
    }
   ],
   "source": [
    "# 5 fold cross validation is more accurate than using a single validation set\n",
    "path1 = 'obtrain-ml.csv'\n",
    "df = pd.read_csv(path1, header=None)\n",
    "y = df[559]\n",
    "X = df.drop(559,axis=1)\n",
    "y = y.replace([-1.0], 0)\n",
    "\n",
    "\n",
    "# set the seed of random number generator, which is useful for creating simulations \n",
    "# or random objects that can be reproduced.\n",
    "import random\n",
    "SEED=3\n",
    "random.seed(SEED)\n",
    "np.random.seed(SEED)\n",
    "\n",
    "cv_folds = 5\n",
    "early_stopping_rounds = 200\n",
    "model=xgb.XGBClassifier(seed = SEED)\n",
    "xgb_param = model.get_xgb_params()\n",
    "model.set_params(learning_rate=0.01)\n",
    "\n",
    "xgtrain = xgb.DMatrix(X, y)\n",
    "cvresult = xgb.cv(xgb_param, xgtrain, num_boost_round = 2000, nfold = cv_folds, metrics = 'auc', early_stopping_rounds = early_stopping_rounds, seed = SEED)\n",
    "print (cvresult)\n",
    "print (\"Optimal number of trees (estimators) is %i\" % cvresult.shape[0])"
   ]
  },
  {
   "cell_type": "code",
   "execution_count": 128,
   "metadata": {
    "collapsed": true
   },
   "outputs": [
    {
     "name": "stdout",
     "output_type": "stream",
     "text": [
      "Fitting 5 folds for each of 16 candidates, totalling 80 fits\n",
      "[CV] max_depth=4, min_child_weight=1 .................................\n",
      "[CV] max_depth=4, min_child_weight=1 .................................\n",
      "[CV] max_depth=4, min_child_weight=1 .................................\n",
      "[CV] max_depth=4, min_child_weight=1 .................................\n",
      "[CV] ........ max_depth=4, min_child_weight=1, score=0.866750 -   2.0s\n",
      "[CV] ........ max_depth=4, min_child_weight=1, score=0.870375 -   2.0s\n",
      "[CV] max_depth=4, min_child_weight=1 .................................\n",
      "[CV] max_depth=4, min_child_weight=2 .................................\n",
      "[CV] ........ max_depth=4, min_child_weight=1, score=0.820112 -   2.0s\n",
      "[CV] max_depth=4, min_child_weight=2 .................................\n",
      "[CV] ........ max_depth=4, min_child_weight=1, score=0.840525 -   2.0s\n",
      "[CV] max_depth=4, min_child_weight=2 .................................\n",
      "[CV] ........ max_depth=4, min_child_weight=2, score=0.861225 -   2.0s\n",
      "[CV] ........ max_depth=4, min_child_weight=2, score=0.870188 -   1.9s\n",
      "[CV] max_depth=4, min_child_weight=2 .................................\n",
      "[CV] max_depth=4, min_child_weight=2 .................................\n",
      "[CV] ........ max_depth=4, min_child_weight=1, score=0.841087 -   2.0s\n",
      "[CV] max_depth=4, min_child_weight=3 .................................\n",
      "[CV] ........ max_depth=4, min_child_weight=2, score=0.840050 -   2.0s\n",
      "[CV] max_depth=4, min_child_weight=3 .................................\n"
     ]
    },
    {
     "name": "stderr",
     "output_type": "stream",
     "text": [
      "[Parallel(n_jobs=4)]: Done   5 tasks      | elapsed:    4.1s\n"
     ]
    },
    {
     "name": "stdout",
     "output_type": "stream",
     "text": [
      "[CV] ........ max_depth=4, min_child_weight=2, score=0.819787 -   2.1s\n",
      "[CV] ........ max_depth=4, min_child_weight=3, score=0.869250 -   2.0s\n",
      "[CV] max_depth=4, min_child_weight=3 .................................\n",
      "[CV] max_depth=4, min_child_weight=3 .................................\n",
      "[CV] ........ max_depth=4, min_child_weight=2, score=0.841225 -   2.2s\n",
      "[CV] max_depth=4, min_child_weight=3 .................................\n",
      "[CV] ........ max_depth=4, min_child_weight=3, score=0.862400 -   2.2s\n",
      "[CV] max_depth=4, min_child_weight=4 .................................\n"
     ]
    },
    {
     "name": "stderr",
     "output_type": "stream",
     "text": [
      "[Parallel(n_jobs=4)]: Done  10 tasks      | elapsed:    6.2s\n"
     ]
    },
    {
     "name": "stdout",
     "output_type": "stream",
     "text": [
      "[CV] ........ max_depth=4, min_child_weight=3, score=0.820850 -   2.0s\n",
      "[CV] max_depth=4, min_child_weight=4 .................................\n",
      "[CV] ........ max_depth=4, min_child_weight=3, score=0.841225 -   1.9s\n",
      "[CV] max_depth=4, min_child_weight=4 .................................\n",
      "[CV] ........ max_depth=4, min_child_weight=3, score=0.840050 -   2.1s\n",
      "[CV] max_depth=4, min_child_weight=4 .................................\n",
      "[CV] ........ max_depth=4, min_child_weight=4, score=0.862750 -   2.1s\n",
      "[CV] max_depth=4, min_child_weight=4 .................................\n",
      "[CV] ........ max_depth=4, min_child_weight=4, score=0.867600 -   2.0s\n",
      "[CV] max_depth=5, min_child_weight=1 .................................\n",
      "[CV] ........ max_depth=4, min_child_weight=4, score=0.840762 -   2.1s\n",
      "[CV] max_depth=5, min_child_weight=1 .................................\n",
      "[CV] ........ max_depth=4, min_child_weight=4, score=0.821375 -   2.1s\n",
      "[CV] max_depth=5, min_child_weight=1 .................................\n"
     ]
    },
    {
     "name": "stderr",
     "output_type": "stream",
     "text": [
      "[Parallel(n_jobs=4)]: Done  17 tasks      | elapsed:   10.3s\n"
     ]
    },
    {
     "name": "stdout",
     "output_type": "stream",
     "text": [
      "[CV] ........ max_depth=4, min_child_weight=4, score=0.841875 -   2.1s\n",
      "[CV] max_depth=5, min_child_weight=1 .................................\n",
      "[CV] ........ max_depth=5, min_child_weight=1, score=0.877013 -   2.5s\n",
      "[CV] max_depth=5, min_child_weight=1 .................................\n",
      "[CV] ........ max_depth=5, min_child_weight=1, score=0.840400 -   2.5s\n",
      "[CV] max_depth=5, min_child_weight=2 .................................\n",
      "[CV] ........ max_depth=5, min_child_weight=1, score=0.891462 -   2.6s\n",
      "[CV] ........ max_depth=5, min_child_weight=1, score=0.847125 -   2.4s\n",
      "[CV] max_depth=5, min_child_weight=2 .................................\n",
      "[CV] max_depth=5, min_child_weight=2 .................................\n"
     ]
    },
    {
     "name": "stderr",
     "output_type": "stream",
     "text": [
      "[Parallel(n_jobs=4)]: Done  24 tasks      | elapsed:   13.0s\n"
     ]
    },
    {
     "name": "stdout",
     "output_type": "stream",
     "text": [
      "[CV] ........ max_depth=5, min_child_weight=1, score=0.852388 -   2.6s\n",
      "[CV] max_depth=5, min_child_weight=2 .................................\n",
      "[CV] ........ max_depth=5, min_child_weight=2, score=0.872762 -   2.6s\n",
      "[CV] max_depth=5, min_child_weight=2 .................................\n",
      "[CV] ........ max_depth=5, min_child_weight=2, score=0.848637 -   2.7s\n",
      "[CV] max_depth=5, min_child_weight=3 .................................\n",
      "[CV] ........ max_depth=5, min_child_weight=2, score=0.901000 -   2.8s\n",
      "[CV] max_depth=5, min_child_weight=3 .................................\n",
      "[CV] ........ max_depth=5, min_child_weight=2, score=0.842813 -   2.5s\n",
      "[CV] max_depth=5, min_child_weight=3 .................................\n",
      "[CV] ........ max_depth=5, min_child_weight=2, score=0.854387 -   2.5s\n",
      "[CV] max_depth=5, min_child_weight=3 .................................\n",
      "[CV] ........ max_depth=5, min_child_weight=3, score=0.873637 -   2.5s\n",
      "[CV] max_depth=5, min_child_weight=3 .................................\n",
      "[CV] ........ max_depth=5, min_child_weight=3, score=0.895625 -   2.6s\n",
      "[CV] max_depth=5, min_child_weight=4 .................................\n",
      "[CV] ........ max_depth=5, min_child_weight=3, score=0.850425 -   2.5s\n",
      "[CV] max_depth=5, min_child_weight=4 .................................\n",
      "[CV] ........ max_depth=5, min_child_weight=3, score=0.841250 -   2.5s\n",
      "[CV] max_depth=5, min_child_weight=4 .................................\n",
      "[CV] ........ max_depth=5, min_child_weight=3, score=0.858762 -   2.5s\n"
     ]
    },
    {
     "name": "stderr",
     "output_type": "stream",
     "text": [
      "[Parallel(n_jobs=4)]: Done  33 tasks      | elapsed:   20.6s\n"
     ]
    },
    {
     "name": "stdout",
     "output_type": "stream",
     "text": [
      "[CV] max_depth=5, min_child_weight=4 .................................\n",
      "[CV] ........ max_depth=5, min_child_weight=4, score=0.871537 -   2.5s\n",
      "[CV] max_depth=5, min_child_weight=4 .................................\n",
      "[CV] ........ max_depth=5, min_child_weight=4, score=0.892750 -   3.1s\n",
      "[CV] max_depth=6, min_child_weight=1 .................................\n",
      "[CV] ........ max_depth=5, min_child_weight=4, score=0.858063 -   3.0s\n",
      "[CV] max_depth=6, min_child_weight=1 .................................\n",
      "[CV] ........ max_depth=5, min_child_weight=4, score=0.834500 -   3.0s\n",
      "[CV] max_depth=6, min_child_weight=1 .................................\n",
      "[CV] ........ max_depth=5, min_child_weight=4, score=0.850487 -   3.0s\n",
      "[CV] max_depth=6, min_child_weight=1 .................................\n",
      "[CV] ........ max_depth=6, min_child_weight=1, score=0.870713 -   3.3s\n",
      "[CV] max_depth=6, min_child_weight=1 .................................\n",
      "[CV] ........ max_depth=6, min_child_weight=1, score=0.886950 -   3.3s\n",
      "[CV] max_depth=6, min_child_weight=2 .................................\n",
      "[CV] ........ max_depth=6, min_child_weight=1, score=0.829313 -   3.3s\n",
      "[CV] max_depth=6, min_child_weight=2 .................................\n"
     ]
    },
    {
     "name": "stderr",
     "output_type": "stream",
     "text": [
      "[Parallel(n_jobs=4)]: Done  42 tasks      | elapsed:   27.1s\n"
     ]
    },
    {
     "name": "stdout",
     "output_type": "stream",
     "text": [
      "[CV] ........ max_depth=6, min_child_weight=1, score=0.847388 -   3.4s\n",
      "[CV] max_depth=6, min_child_weight=2 .................................\n",
      "[CV] ........ max_depth=6, min_child_weight=2, score=0.880612 -   3.1s\n",
      "[CV] max_depth=6, min_child_weight=2 .................................\n",
      "[CV] ........ max_depth=6, min_child_weight=1, score=0.830137 -   3.2s\n",
      "[CV] max_depth=6, min_child_weight=2 .................................\n",
      "[CV] ........ max_depth=6, min_child_weight=2, score=0.901288 -   3.3s\n",
      "[CV] max_depth=6, min_child_weight=3 .................................\n",
      "[CV] ........ max_depth=6, min_child_weight=2, score=0.839875 -   3.1s\n",
      "[CV] max_depth=6, min_child_weight=3 .................................\n",
      "[CV] ........ max_depth=6, min_child_weight=2, score=0.843688 -   3.9s\n",
      "[CV] ........ max_depth=6, min_child_weight=2, score=0.840000 -   4.0s\n",
      "[CV] max_depth=6, min_child_weight=3 .................................\n",
      "[CV] max_depth=6, min_child_weight=3 .................................\n",
      "[CV] ........ max_depth=6, min_child_weight=3, score=0.900675 -   3.8s\n",
      "[CV] max_depth=6, min_child_weight=3 .................................\n",
      "[CV] ........ max_depth=6, min_child_weight=3, score=0.885638 -   3.9s\n",
      "[CV] max_depth=6, min_child_weight=4 .................................\n",
      "[CV] ........ max_depth=6, min_child_weight=4, score=0.866025 -   3.6s\n",
      "[CV] ........ max_depth=6, min_child_weight=3, score=0.833812 -   3.8s\n",
      "[CV] max_depth=6, min_child_weight=4 .................................\n",
      "[CV] max_depth=6, min_child_weight=4 .................................\n",
      "[CV] ........ max_depth=6, min_child_weight=3, score=0.831925 -   4.0s\n",
      "[CV] max_depth=6, min_child_weight=4 .................................\n"
     ]
    },
    {
     "name": "stderr",
     "output_type": "stream",
     "text": [
      "[Parallel(n_jobs=4)]: Done  53 tasks      | elapsed:   38.0s\n"
     ]
    },
    {
     "name": "stdout",
     "output_type": "stream",
     "text": [
      "[CV] ........ max_depth=6, min_child_weight=3, score=0.842612 -   3.9s\n",
      "[CV] max_depth=6, min_child_weight=4 .................................\n",
      "[CV] ........ max_depth=6, min_child_weight=4, score=0.887900 -   3.6s\n",
      "[CV] ........ max_depth=6, min_child_weight=4, score=0.821050 -   3.5s\n",
      "[CV] max_depth=7, min_child_weight=1 .................................\n",
      "[CV] max_depth=7, min_child_weight=1 .................................\n",
      "[CV] ........ max_depth=6, min_child_weight=4, score=0.841500 -   3.8s\n",
      "[CV] max_depth=7, min_child_weight=1 .................................\n",
      "[CV] ........ max_depth=6, min_child_weight=4, score=0.850600 -   3.6s\n",
      "[CV] max_depth=7, min_child_weight=1 .................................\n",
      "[CV] ........ max_depth=7, min_child_weight=1, score=0.865200 -   4.3s\n",
      "[CV] max_depth=7, min_child_weight=1 .................................\n",
      "[CV] ........ max_depth=7, min_child_weight=1, score=0.883700 -   4.3s\n",
      "[CV] max_depth=7, min_child_weight=2 .................................\n",
      "[CV] ........ max_depth=7, min_child_weight=1, score=0.820062 -   4.3s\n",
      "[CV] max_depth=7, min_child_weight=2 .................................\n",
      "[CV] ........ max_depth=7, min_child_weight=1, score=0.849637 -   4.5s\n",
      "[CV] max_depth=7, min_child_weight=2 .................................\n"
     ]
    },
    {
     "name": "stderr",
     "output_type": "stream",
     "text": [
      "[Parallel(n_jobs=4)]: Done  64 tasks      | elapsed:   46.5s\n"
     ]
    },
    {
     "name": "stdout",
     "output_type": "stream",
     "text": [
      "[CV] ........ max_depth=7, min_child_weight=2, score=0.870325 -   3.9s\n",
      "[CV] max_depth=7, min_child_weight=2 .................................\n",
      "[CV] ........ max_depth=7, min_child_weight=2, score=0.904613 -   3.9s\n",
      "[CV] ........ max_depth=7, min_child_weight=1, score=0.825163 -   4.1s\n",
      "[CV] max_depth=7, min_child_weight=2 .................................\n",
      "[CV] max_depth=7, min_child_weight=3 .................................\n",
      "[CV] ........ max_depth=7, min_child_weight=2, score=0.833850 -   3.8s\n",
      "[CV] max_depth=7, min_child_weight=3 .................................\n",
      "[CV] ........ max_depth=7, min_child_weight=3, score=0.880438 -   3.9s\n",
      "[CV] max_depth=7, min_child_weight=3 .................................\n",
      "[CV] ........ max_depth=7, min_child_weight=2, score=0.843350 -   4.2s\n",
      "[CV] max_depth=7, min_child_weight=3 .................................\n",
      "[CV] ........ max_depth=7, min_child_weight=2, score=0.836588 -   4.2s\n",
      "[CV] max_depth=7, min_child_weight=3 .................................\n",
      "[CV] ........ max_depth=7, min_child_weight=3, score=0.897125 -   4.1s\n",
      "[CV] max_depth=7, min_child_weight=4 .................................\n",
      "[CV] ........ max_depth=7, min_child_weight=3, score=0.832250 -   3.5s\n",
      "[CV] max_depth=7, min_child_weight=4 .................................\n",
      "[CV] ........ max_depth=7, min_child_weight=3, score=0.824700 -   3.5s\n",
      "[CV] max_depth=7, min_child_weight=4 .................................\n",
      "[CV] ........ max_depth=7, min_child_weight=3, score=0.844800 -   3.4s\n",
      "[CV] max_depth=7, min_child_weight=4 .................................\n",
      "[CV] ........ max_depth=7, min_child_weight=4, score=0.859675 -   3.3s\n",
      "[CV] max_depth=7, min_child_weight=4 .................................\n",
      "[CV] ........ max_depth=7, min_child_weight=4, score=0.890350 -   3.3s\n",
      "[CV] ........ max_depth=7, min_child_weight=4, score=0.819550 -   3.3s\n",
      "[CV] ........ max_depth=7, min_child_weight=4, score=0.835162 -   3.3s\n",
      "[CV] ........ max_depth=7, min_child_weight=4, score=0.845650 -   3.2s\n"
     ]
    },
    {
     "name": "stderr",
     "output_type": "stream",
     "text": [
      "[Parallel(n_jobs=4)]: Done  80 out of  80 | elapsed:  1.0min finished\n"
     ]
    },
    {
     "name": "stdout",
     "output_type": "stream",
     "text": [
      "{'max_depth': 5, 'min_child_weight': 3}\n",
      "0.86394\n"
     ]
    }
   ],
   "source": [
    "from sklearn.grid_search import GridSearchCV\n",
    "# using features, labels, cv_folds, model from previous example\n",
    "model.set_params(n_estimators = 21)\n",
    "param_test1 = {\n",
    "'max_depth': [4,5,6,7],\n",
    "'min_child_weight': [1,2,3,4]\n",
    "}\n",
    "gsearch1 = GridSearchCV(estimator = model, param_grid = param_test1, scoring = 'roc_auc', n_jobs = 4, iid = False, cv = cv_folds, verbose = 10)\n",
    "gsearch1.fit(X,y)\n",
    "#print gsearch1.grid_scores_\n",
    "print (gsearch1.best_params_)\n",
    "print (gsearch1.best_score_)"
   ]
  },
  {
   "cell_type": "code",
   "execution_count": 130,
   "metadata": {
    "collapsed": true
   },
   "outputs": [
    {
     "name": "stdout",
     "output_type": "stream",
     "text": [
      "Fitting 5 folds for each of 9 candidates, totalling 45 fits\n",
      "[CV] gamma=0.0 .......................................................\n",
      "[CV] gamma=0.0 .......................................................\n",
      "[CV] gamma=0.0 .......................................................\n",
      "[CV] gamma=0.0 .......................................................\n",
      "[CV] .............................. gamma=0.0, score=0.895625 -   2.4s\n",
      "[CV] .............................. gamma=0.0, score=0.841250 -   2.3s\n",
      "[CV] .............................. gamma=0.0, score=0.873637 -   2.4s\n",
      "[CV] gamma=0.0 .......................................................\n",
      "[CV] gamma=0.1 .......................................................\n",
      "[CV] gamma=0.1 .......................................................\n",
      "[CV] .............................. gamma=0.0, score=0.850425 -   2.4s\n",
      "[CV] gamma=0.1 .......................................................\n",
      "[CV] .............................. gamma=0.1, score=0.896000 -   2.3s\n",
      "[CV] gamma=0.1 .......................................................\n",
      "[CV] .............................. gamma=0.1, score=0.873637 -   2.4s\n",
      "[CV] gamma=0.1 .......................................................\n",
      "[CV] .............................. gamma=0.0, score=0.858762 -   2.5s\n",
      "[CV] gamma=0.2 .......................................................\n",
      "[CV] .............................. gamma=0.1, score=0.850425 -   2.4s\n",
      "[CV] gamma=0.2 .......................................................\n"
     ]
    },
    {
     "name": "stderr",
     "output_type": "stream",
     "text": [
      "[Parallel(n_jobs=4)]: Done   5 tasks      | elapsed:    4.8s\n"
     ]
    },
    {
     "name": "stdout",
     "output_type": "stream",
     "text": [
      "[CV] .............................. gamma=0.1, score=0.841338 -   2.5s\n",
      "[CV] gamma=0.2 .......................................................\n",
      "[CV] .............................. gamma=0.1, score=0.858762 -   2.5s\n",
      "[CV] .............................. gamma=0.2, score=0.896075 -   2.4s\n",
      "[CV] gamma=0.2 .......................................................\n",
      "[CV] gamma=0.2 .......................................................\n",
      "[CV] .............................. gamma=0.2, score=0.873637 -   2.5s\n",
      "[CV] gamma=0.3 .......................................................\n"
     ]
    },
    {
     "name": "stderr",
     "output_type": "stream",
     "text": [
      "[Parallel(n_jobs=4)]: Done  10 tasks      | elapsed:    7.4s\n"
     ]
    },
    {
     "name": "stdout",
     "output_type": "stream",
     "text": [
      "[CV] .............................. gamma=0.2, score=0.850425 -   2.8s\n",
      "[CV] gamma=0.3 .......................................................\n",
      "[CV] .............................. gamma=0.3, score=0.873637 -   2.7s\n",
      "[CV] gamma=0.3 .......................................................\n",
      "[CV] .............................. gamma=0.2, score=0.841338 -   2.8s\n",
      "[CV] gamma=0.3 .......................................................\n",
      "[CV] .............................. gamma=0.2, score=0.858762 -   2.9s\n",
      "[CV] gamma=0.3 .......................................................\n",
      "[CV] .............................. gamma=0.3, score=0.896075 -   2.4s\n",
      "[CV] gamma=0.4 .......................................................\n",
      "[CV] .............................. gamma=0.3, score=0.850425 -   2.4s\n",
      "[CV] .............................. gamma=0.3, score=0.841338 -   2.4s\n",
      "[CV] gamma=0.4 .......................................................\n",
      "[CV] gamma=0.4 .......................................................\n"
     ]
    },
    {
     "name": "stderr",
     "output_type": "stream",
     "text": [
      "[Parallel(n_jobs=4)]: Done  17 tasks      | elapsed:   12.6s\n"
     ]
    },
    {
     "name": "stdout",
     "output_type": "stream",
     "text": [
      "[CV] .............................. gamma=0.3, score=0.858762 -   2.4s\n",
      "[CV] gamma=0.4 .......................................................\n",
      "[CV] .............................. gamma=0.4, score=0.873637 -   3.5s\n",
      "[CV] gamma=0.4 .......................................................\n",
      "[CV] .............................. gamma=0.4, score=0.896125 -   3.5s\n",
      "[CV] gamma=0.5 .......................................................\n",
      "[CV] .............................. gamma=0.4, score=0.850425 -   3.6s\n",
      "[CV] gamma=0.5 .......................................................\n",
      "[CV] .............................. gamma=0.4, score=0.841312 -   3.7s\n",
      "[CV] gamma=0.5 .......................................................\n"
     ]
    },
    {
     "name": "stderr",
     "output_type": "stream",
     "text": [
      "[Parallel(n_jobs=4)]: Done  24 tasks      | elapsed:   16.5s\n"
     ]
    },
    {
     "name": "stdout",
     "output_type": "stream",
     "text": [
      "[CV] .............................. gamma=0.4, score=0.858762 -   3.5s\n",
      "[CV] gamma=0.5 .......................................................\n",
      "[CV] .............................. gamma=0.5, score=0.873637 -   3.5s\n",
      "[CV] gamma=0.5 .......................................................\n",
      "[CV] .............................. gamma=0.5, score=0.896125 -   3.5s\n",
      "[CV] gamma=0.6 .......................................................\n",
      "[CV] .............................. gamma=0.5, score=0.850425 -   3.5s\n",
      "[CV] gamma=0.6 .......................................................\n",
      "[CV] .............................. gamma=0.5, score=0.841312 -   3.2s\n",
      "[CV] gamma=0.6 .......................................................\n",
      "[CV] .............................. gamma=0.5, score=0.858762 -   3.2s\n",
      "[CV] gamma=0.6 .......................................................\n",
      "[CV] .............................. gamma=0.6, score=0.873637 -   3.3s\n",
      "[CV] gamma=0.6 .......................................................\n",
      "[CV] .............................. gamma=0.6, score=0.896125 -   3.2s\n",
      "[CV] gamma=0.7 .......................................................\n",
      "[CV] .............................. gamma=0.6, score=0.850425 -   3.1s\n",
      "[CV] gamma=0.7 .......................................................\n",
      "[CV] .............................. gamma=0.6, score=0.858762 -   3.0s\n",
      "[CV] gamma=0.7 .......................................................\n",
      "[CV] .............................. gamma=0.6, score=0.841037 -   3.1s\n",
      "[CV] gamma=0.7 .......................................................\n"
     ]
    },
    {
     "name": "stderr",
     "output_type": "stream",
     "text": [
      "[Parallel(n_jobs=4)]: Done  33 tasks      | elapsed:   25.9s\n"
     ]
    },
    {
     "name": "stdout",
     "output_type": "stream",
     "text": [
      "[CV] .............................. gamma=0.7, score=0.873637 -   3.0s\n",
      "[CV] gamma=0.7 .......................................................\n",
      "[CV] .............................. gamma=0.7, score=0.896125 -   2.9s\n",
      "[CV] gamma=0.8 .......................................................\n",
      "[CV] .............................. gamma=0.7, score=0.840712 -   2.8s\n",
      "[CV] .............................. gamma=0.7, score=0.850425 -   2.8s\n",
      "[CV] gamma=0.8 .......................................................\n",
      "[CV] gamma=0.8 .......................................................\n",
      "[CV] .............................. gamma=0.7, score=0.858962 -   2.8s\n",
      "[CV] gamma=0.8 .......................................................\n",
      "[CV] .............................. gamma=0.8, score=0.873637 -   3.2s\n",
      "[CV] gamma=0.8 .......................................................\n",
      "[CV] .............................. gamma=0.8, score=0.896125 -   3.1s\n",
      "[CV] .............................. gamma=0.8, score=0.850237 -   3.2s\n",
      "[CV] .............................. gamma=0.8, score=0.840762 -   3.2s\n"
     ]
    },
    {
     "name": "stderr",
     "output_type": "stream",
     "text": [
      "[Parallel(n_jobs=4)]: Done  43 out of  45 | elapsed:   32.1s remaining:    1.5s\n"
     ]
    },
    {
     "name": "stdout",
     "output_type": "stream",
     "text": [
      "[CV] .............................. gamma=0.8, score=0.858963 -   1.7s\n"
     ]
    },
    {
     "name": "stderr",
     "output_type": "stream",
     "text": [
      "[Parallel(n_jobs=4)]: Done  45 out of  45 | elapsed:   33.6s finished\n"
     ]
    },
    {
     "name": "stdout",
     "output_type": "stream",
     "text": [
      "{'gamma': 0.4}\n",
      "0.8640525\n"
     ]
    }
   ],
   "source": [
    "# using features, labels, cv_folds, model from previous example\n",
    "model.set_params(n_estimators = 21)\n",
    "model.set_params(max_depth = 5)\n",
    "model.set_params(min_child_weight = 3)\n",
    "param_test2 = {\n",
    "'gamma':[i/10.0 for i in range(0,9)]\n",
    "}\n",
    "gsearch2 = GridSearchCV(estimator = model, param_grid = param_test2, scoring = 'roc_auc',n_jobs = 4, iid = False, cv = cv_folds, verbose = 10)\n",
    "gsearch2.fit(X,y)\n",
    "print (gsearch2.best_params_)\n",
    "print (gsearch2.best_score_)"
   ]
  },
  {
   "cell_type": "code",
   "execution_count": 131,
   "metadata": {
    "collapsed": true
   },
   "outputs": [
    {
     "name": "stdout",
     "output_type": "stream",
     "text": [
      "    test-auc-mean  test-auc-std  train-auc-mean  train-auc-std\n",
      "0        0.762785      0.022983        0.780396       0.008347\n",
      "1        0.774736      0.030948        0.795813       0.013045\n",
      "2        0.782900      0.027864        0.807234       0.008762\n",
      "3        0.777266      0.026038        0.810694       0.007145\n",
      "4        0.777853      0.026447        0.814895       0.008318\n",
      "5        0.774053      0.027933        0.819128       0.008706\n",
      "6        0.785716      0.029594        0.831479       0.003356\n",
      "7        0.790611      0.031760        0.838475       0.002462\n",
      "8        0.790864      0.031654        0.842551       0.003344\n",
      "9        0.792218      0.031253        0.844344       0.004446\n",
      "10       0.791792      0.030189        0.850149       0.004379\n",
      "11       0.793562      0.030894        0.859098       0.003450\n",
      "12       0.794262      0.029895        0.865700       0.003741\n",
      "13       0.793089      0.028066        0.869413       0.004475\n",
      "14       0.791848      0.028333        0.875063       0.005125\n",
      "15       0.793739      0.029593        0.881353       0.003833\n",
      "16       0.796646      0.032269        0.887057       0.003329\n",
      "17       0.800008      0.027238        0.892145       0.003611\n",
      "18       0.799194      0.027363        0.897789       0.003893\n",
      "19       0.799103      0.027293        0.902322       0.004265\n",
      "20       0.802794      0.026534        0.906823       0.002374\n",
      "Optimal number of trees (estimators) is 21\n"
     ]
    }
   ],
   "source": [
    "model.set_params(learning_rate=0.01)\n",
    "model.set_params(max_depth = 5)\n",
    "model.set_params(min_child_weight = 3)\n",
    "model.set_params(gamma = 0.4)\n",
    "xgtrain = xgb.DMatrix(X, y)\n",
    "cvresult = xgb.cv(xgb_param, xgtrain, num_boost_round = 2000, nfold = cv_folds, metrics = 'auc', early_stopping_rounds = early_stopping_rounds, seed = SEED)\n",
    "print (cvresult)\n",
    "print (\"Optimal number of trees (estimators) is %i\" % cvresult.shape[0])"
   ]
  },
  {
   "cell_type": "code",
   "execution_count": 133,
   "metadata": {},
   "outputs": [
    {
     "name": "stdout",
     "output_type": "stream",
     "text": [
      "Fitting 5 folds for each of 25 candidates, totalling 125 fits\n",
      "[CV] colsample_bytree=0.6, subsample=0.6 .............................\n",
      "[CV] colsample_bytree=0.6, subsample=0.6 .............................\n",
      "[CV] colsample_bytree=0.6, subsample=0.6 .............................\n",
      "[CV] colsample_bytree=0.6, subsample=0.6 .............................\n",
      "[CV] .... colsample_bytree=0.6, subsample=0.6, score=0.847775 -   1.3s\n",
      "[CV] .... colsample_bytree=0.6, subsample=0.6, score=0.895750 -   1.3s\n",
      "[CV] colsample_bytree=0.6, subsample=0.6 .............................\n",
      "[CV] colsample_bytree=0.6, subsample=0.7 .............................\n",
      "[CV] .... colsample_bytree=0.6, subsample=0.6, score=0.862075 -   1.3s\n",
      "[CV] colsample_bytree=0.6, subsample=0.7 .............................\n",
      "[CV] .... colsample_bytree=0.6, subsample=0.6, score=0.843650 -   1.3s\n",
      "[CV] colsample_bytree=0.6, subsample=0.7 .............................\n"
     ]
    },
    {
     "name": "stderr",
     "output_type": "stream",
     "text": [
      "[Parallel(n_jobs=4)]: Done   1 tasks      | elapsed:    1.3s\n",
      "[Parallel(n_jobs=4)]: Done   2 tasks      | elapsed:    1.3s\n",
      "[Parallel(n_jobs=4)]: Done   3 tasks      | elapsed:    1.4s\n",
      "[Parallel(n_jobs=4)]: Done   4 tasks      | elapsed:    1.4s\n"
     ]
    },
    {
     "name": "stdout",
     "output_type": "stream",
     "text": [
      "[CV] .... colsample_bytree=0.6, subsample=0.6, score=0.882825 -   1.3s\n",
      "[CV] colsample_bytree=0.6, subsample=0.7 .............................\n",
      "[CV] .... colsample_bytree=0.6, subsample=0.7, score=0.866375 -   1.4s\n",
      "[CV] .... colsample_bytree=0.6, subsample=0.7, score=0.897875 -   1.4s\n",
      "[CV] colsample_bytree=0.6, subsample=0.7 .............................\n",
      "[CV] colsample_bytree=0.6, subsample=0.8 .............................\n"
     ]
    },
    {
     "name": "stderr",
     "output_type": "stream",
     "text": [
      "[Parallel(n_jobs=4)]: Done   5 tasks      | elapsed:    2.6s\n",
      "[Parallel(n_jobs=4)]: Done   6 tasks      | elapsed:    2.8s\n",
      "[Parallel(n_jobs=4)]: Done   7 tasks      | elapsed:    2.8s\n"
     ]
    },
    {
     "name": "stdout",
     "output_type": "stream",
     "text": [
      "[CV] .... colsample_bytree=0.6, subsample=0.7, score=0.871625 -   1.4s\n",
      "[CV] colsample_bytree=0.6, subsample=0.8 .............................\n"
     ]
    },
    {
     "name": "stderr",
     "output_type": "stream",
     "text": [
      "[Parallel(n_jobs=4)]: Done   8 tasks      | elapsed:    2.9s\n"
     ]
    },
    {
     "name": "stdout",
     "output_type": "stream",
     "text": [
      "[CV] .... colsample_bytree=0.6, subsample=0.7, score=0.860250 -   1.5s\n",
      "[CV] colsample_bytree=0.6, subsample=0.8 .............................\n"
     ]
    },
    {
     "name": "stderr",
     "output_type": "stream",
     "text": [
      "[Parallel(n_jobs=4)]: Done   9 tasks      | elapsed:    4.2s\n"
     ]
    },
    {
     "name": "stdout",
     "output_type": "stream",
     "text": [
      "[CV] .... colsample_bytree=0.6, subsample=0.7, score=0.879425 -   1.6s\n",
      "[CV] colsample_bytree=0.6, subsample=0.8 .............................\n",
      "[CV] .... colsample_bytree=0.6, subsample=0.8, score=0.876875 -   1.7s\n",
      "[CV] colsample_bytree=0.6, subsample=0.8 .............................\n",
      "[CV] .... colsample_bytree=0.6, subsample=0.8, score=0.909875 -   1.7s\n",
      "[CV] colsample_bytree=0.6, subsample=0.9 .............................\n"
     ]
    },
    {
     "name": "stderr",
     "output_type": "stream",
     "text": [
      "[Parallel(n_jobs=4)]: Done  10 tasks      | elapsed:    4.4s\n",
      "[Parallel(n_jobs=4)]: Done  11 tasks      | elapsed:    4.5s\n",
      "[Parallel(n_jobs=4)]: Done  12 tasks      | elapsed:    4.6s\n"
     ]
    },
    {
     "name": "stdout",
     "output_type": "stream",
     "text": [
      "[CV] .... colsample_bytree=0.6, subsample=0.8, score=0.875125 -   1.6s\n",
      "[CV] colsample_bytree=0.6, subsample=0.9 .............................\n"
     ]
    },
    {
     "name": "stderr",
     "output_type": "stream",
     "text": [
      "[Parallel(n_jobs=4)]: Done  13 tasks      | elapsed:    5.9s\n"
     ]
    },
    {
     "name": "stdout",
     "output_type": "stream",
     "text": [
      "[CV] .... colsample_bytree=0.6, subsample=0.8, score=0.862112 -   1.6s\n",
      "[CV] colsample_bytree=0.6, subsample=0.9 .............................\n",
      "[CV] .... colsample_bytree=0.6, subsample=0.8, score=0.887225 -   1.6s\n",
      "[CV] colsample_bytree=0.6, subsample=0.9 .............................\n"
     ]
    },
    {
     "name": "stderr",
     "output_type": "stream",
     "text": [
      "[Parallel(n_jobs=4)]: Done  14 tasks      | elapsed:    6.1s\n",
      "[Parallel(n_jobs=4)]: Done  15 tasks      | elapsed:    6.2s\n"
     ]
    },
    {
     "name": "stdout",
     "output_type": "stream",
     "text": [
      "[CV] .... colsample_bytree=0.6, subsample=0.9, score=0.877250 -   1.8s\n",
      "[CV] colsample_bytree=0.6, subsample=0.9 .............................\n"
     ]
    },
    {
     "name": "stderr",
     "output_type": "stream",
     "text": [
      "[Parallel(n_jobs=4)]: Done  16 tasks      | elapsed:    6.4s\n"
     ]
    },
    {
     "name": "stdout",
     "output_type": "stream",
     "text": [
      "[CV] .... colsample_bytree=0.6, subsample=0.9, score=0.910488 -   1.6s\n",
      "[CV] colsample_bytree=0.6, subsample=1.0 .............................\n"
     ]
    },
    {
     "name": "stderr",
     "output_type": "stream",
     "text": [
      "[Parallel(n_jobs=4)]: Done  17 tasks      | elapsed:    7.5s\n"
     ]
    },
    {
     "name": "stdout",
     "output_type": "stream",
     "text": [
      "[CV] .... colsample_bytree=0.6, subsample=0.9, score=0.886575 -   1.6s\n",
      "[CV] colsample_bytree=0.6, subsample=1.0 .............................\n",
      "[CV] .... colsample_bytree=0.6, subsample=0.9, score=0.868425 -   1.6s\n",
      "[CV] colsample_bytree=0.6, subsample=1.0 .............................\n"
     ]
    },
    {
     "name": "stderr",
     "output_type": "stream",
     "text": [
      "[Parallel(n_jobs=4)]: Done  18 tasks      | elapsed:    7.7s\n",
      "[Parallel(n_jobs=4)]: Done  19 tasks      | elapsed:    7.8s\n"
     ]
    },
    {
     "name": "stdout",
     "output_type": "stream",
     "text": [
      "[CV] .... colsample_bytree=0.6, subsample=0.9, score=0.885663 -   1.6s\n",
      "[CV] colsample_bytree=0.6, subsample=1.0 .............................\n"
     ]
    },
    {
     "name": "stderr",
     "output_type": "stream",
     "text": [
      "[Parallel(n_jobs=4)]: Done  20 tasks      | elapsed:    8.0s\n"
     ]
    },
    {
     "name": "stdout",
     "output_type": "stream",
     "text": [
      "[CV] .... colsample_bytree=0.6, subsample=1.0, score=0.892350 -   1.7s\n",
      "[CV] colsample_bytree=0.6, subsample=1.0 .............................\n"
     ]
    },
    {
     "name": "stderr",
     "output_type": "stream",
     "text": [
      "[Parallel(n_jobs=4)]: Done  21 tasks      | elapsed:    9.2s\n"
     ]
    },
    {
     "name": "stdout",
     "output_type": "stream",
     "text": [
      "[CV] .... colsample_bytree=0.6, subsample=1.0, score=0.915525 -   1.7s\n",
      "[CV] colsample_bytree=0.7, subsample=0.6 .............................\n",
      "[CV] .... colsample_bytree=0.6, subsample=1.0, score=0.879175 -   1.7s\n",
      "[CV] colsample_bytree=0.7, subsample=0.6 .............................\n"
     ]
    },
    {
     "name": "stderr",
     "output_type": "stream",
     "text": [
      "[Parallel(n_jobs=4)]: Done  22 tasks      | elapsed:    9.4s\n",
      "[Parallel(n_jobs=4)]: Done  23 tasks      | elapsed:    9.5s\n"
     ]
    },
    {
     "name": "stdout",
     "output_type": "stream",
     "text": [
      "[CV] .... colsample_bytree=0.6, subsample=1.0, score=0.870212 -   1.7s\n",
      "[CV] colsample_bytree=0.7, subsample=0.6 .............................\n"
     ]
    },
    {
     "name": "stderr",
     "output_type": "stream",
     "text": [
      "[Parallel(n_jobs=4)]: Done  24 tasks      | elapsed:    9.7s\n"
     ]
    },
    {
     "name": "stdout",
     "output_type": "stream",
     "text": [
      "[CV] .... colsample_bytree=0.6, subsample=1.0, score=0.881037 -   2.0s\n",
      "[CV] colsample_bytree=0.7, subsample=0.6 .............................\n",
      "[CV] .... colsample_bytree=0.7, subsample=0.6, score=0.891500 -   1.7s\n",
      "[CV] .... colsample_bytree=0.7, subsample=0.6, score=0.854025 -   1.8s\n",
      "[CV] colsample_bytree=0.7, subsample=0.7 .............................\n",
      "[CV] colsample_bytree=0.7, subsample=0.6 .............................\n"
     ]
    },
    {
     "name": "stderr",
     "output_type": "stream",
     "text": [
      "[Parallel(n_jobs=4)]: Done  25 tasks      | elapsed:   11.2s\n",
      "[Parallel(n_jobs=4)]: Done  26 tasks      | elapsed:   11.2s\n",
      "[Parallel(n_jobs=4)]: Done  27 tasks      | elapsed:   11.2s\n"
     ]
    },
    {
     "name": "stdout",
     "output_type": "stream",
     "text": [
      "[CV] .... colsample_bytree=0.7, subsample=0.6, score=0.860525 -   1.7s\n",
      "[CV] colsample_bytree=0.7, subsample=0.7 .............................\n"
     ]
    },
    {
     "name": "stderr",
     "output_type": "stream",
     "text": [
      "[Parallel(n_jobs=4)]: Done  28 tasks      | elapsed:   11.5s\n"
     ]
    },
    {
     "name": "stdout",
     "output_type": "stream",
     "text": [
      "[CV] .... colsample_bytree=0.7, subsample=0.6, score=0.841413 -   1.7s\n",
      "[CV] colsample_bytree=0.7, subsample=0.7 .............................\n",
      "[CV] .... colsample_bytree=0.7, subsample=0.6, score=0.886625 -   1.7s\n",
      "[CV] colsample_bytree=0.7, subsample=0.7 .............................\n"
     ]
    },
    {
     "name": "stderr",
     "output_type": "stream",
     "text": [
      "[Parallel(n_jobs=4)]: Done  29 tasks      | elapsed:   12.9s\n",
      "[Parallel(n_jobs=4)]: Done  30 tasks      | elapsed:   13.0s\n"
     ]
    },
    {
     "name": "stdout",
     "output_type": "stream",
     "text": [
      "[CV] .... colsample_bytree=0.7, subsample=0.7, score=0.878425 -   1.9s\n",
      "[CV] colsample_bytree=0.7, subsample=0.7 .............................\n"
     ]
    },
    {
     "name": "stderr",
     "output_type": "stream",
     "text": [
      "[Parallel(n_jobs=4)]: Done  31 tasks      | elapsed:   13.1s\n"
     ]
    },
    {
     "name": "stdout",
     "output_type": "stream",
     "text": [
      "[CV] .... colsample_bytree=0.7, subsample=0.7, score=0.904288 -   1.9s\n",
      "[CV] colsample_bytree=0.7, subsample=0.8 .............................\n"
     ]
    },
    {
     "name": "stderr",
     "output_type": "stream",
     "text": [
      "[Parallel(n_jobs=4)]: Done  32 tasks      | elapsed:   13.4s\n"
     ]
    },
    {
     "name": "stdout",
     "output_type": "stream",
     "text": [
      "[CV] .... colsample_bytree=0.7, subsample=0.7, score=0.874150 -   2.1s\n",
      "[CV] colsample_bytree=0.7, subsample=0.8 .............................\n",
      "[CV] .... colsample_bytree=0.7, subsample=0.7, score=0.874950 -   2.0s\n",
      "[CV] colsample_bytree=0.7, subsample=0.8 .............................\n"
     ]
    },
    {
     "name": "stderr",
     "output_type": "stream",
     "text": [
      "[Parallel(n_jobs=4)]: Done  33 tasks      | elapsed:   15.0s\n",
      "[Parallel(n_jobs=4)]: Done  34 tasks      | elapsed:   15.2s\n"
     ]
    },
    {
     "name": "stdout",
     "output_type": "stream",
     "text": [
      "[CV] .... colsample_bytree=0.7, subsample=0.7, score=0.863400 -   2.2s\n",
      "[CV] colsample_bytree=0.7, subsample=0.8 .............................\n"
     ]
    },
    {
     "name": "stderr",
     "output_type": "stream",
     "text": [
      "[Parallel(n_jobs=4)]: Done  35 tasks      | elapsed:   15.2s\n"
     ]
    },
    {
     "name": "stdout",
     "output_type": "stream",
     "text": [
      "[CV] .... colsample_bytree=0.7, subsample=0.8, score=0.885500 -   2.3s\n",
      "[CV] colsample_bytree=0.7, subsample=0.8 .............................\n"
     ]
    },
    {
     "name": "stderr",
     "output_type": "stream",
     "text": [
      "[Parallel(n_jobs=4)]: Done  36 tasks      | elapsed:   15.8s\n"
     ]
    },
    {
     "name": "stdout",
     "output_type": "stream",
     "text": [
      "[CV] .... colsample_bytree=0.7, subsample=0.8, score=0.914625 -   2.2s\n",
      "[CV] colsample_bytree=0.7, subsample=0.9 .............................\n",
      "[CV] .... colsample_bytree=0.7, subsample=0.8, score=0.875750 -   2.2s\n",
      "[CV] colsample_bytree=0.7, subsample=0.9 .............................\n"
     ]
    },
    {
     "name": "stderr",
     "output_type": "stream",
     "text": [
      "[Parallel(n_jobs=4)]: Done  37 tasks      | elapsed:   17.3s\n",
      "[Parallel(n_jobs=4)]: Done  38 tasks      | elapsed:   17.4s\n"
     ]
    },
    {
     "name": "stdout",
     "output_type": "stream",
     "text": [
      "[CV] .... colsample_bytree=0.7, subsample=0.8, score=0.864062 -   2.2s\n",
      "[CV] colsample_bytree=0.7, subsample=0.9 .............................\n"
     ]
    },
    {
     "name": "stderr",
     "output_type": "stream",
     "text": [
      "[Parallel(n_jobs=4)]: Done  39 tasks      | elapsed:   17.5s\n"
     ]
    },
    {
     "name": "stdout",
     "output_type": "stream",
     "text": [
      "[CV] .... colsample_bytree=0.7, subsample=0.8, score=0.894088 -   2.3s\n",
      "[CV] colsample_bytree=0.7, subsample=0.9 .............................\n"
     ]
    },
    {
     "name": "stderr",
     "output_type": "stream",
     "text": [
      "[Parallel(n_jobs=4)]: Done  40 tasks      | elapsed:   18.0s\n"
     ]
    },
    {
     "name": "stdout",
     "output_type": "stream",
     "text": [
      "[CV] .... colsample_bytree=0.7, subsample=0.9, score=0.892425 -   2.3s\n",
      "[CV] colsample_bytree=0.7, subsample=0.9 .............................\n",
      "[CV] .... colsample_bytree=0.7, subsample=0.9, score=0.913050 -   2.3s\n",
      "[CV] colsample_bytree=0.7, subsample=1.0 .............................\n"
     ]
    },
    {
     "name": "stderr",
     "output_type": "stream",
     "text": [
      "[Parallel(n_jobs=4)]: Done  41 tasks      | elapsed:   19.6s\n",
      "[Parallel(n_jobs=4)]: Done  42 tasks      | elapsed:   19.8s\n"
     ]
    },
    {
     "name": "stdout",
     "output_type": "stream",
     "text": [
      "[CV] .... colsample_bytree=0.7, subsample=0.9, score=0.883525 -   2.4s\n",
      "[CV] colsample_bytree=0.7, subsample=1.0 .............................\n"
     ]
    },
    {
     "name": "stderr",
     "output_type": "stream",
     "text": [
      "[Parallel(n_jobs=4)]: Done  43 tasks      | elapsed:   20.0s\n"
     ]
    },
    {
     "name": "stdout",
     "output_type": "stream",
     "text": [
      "[CV] .... colsample_bytree=0.7, subsample=0.9, score=0.867325 -   2.3s\n",
      "[CV] colsample_bytree=0.7, subsample=1.0 .............................\n"
     ]
    },
    {
     "name": "stderr",
     "output_type": "stream",
     "text": [
      "[Parallel(n_jobs=4)]: Done  44 tasks      | elapsed:   20.3s\n"
     ]
    },
    {
     "name": "stdout",
     "output_type": "stream",
     "text": [
      "[CV] .... colsample_bytree=0.7, subsample=0.9, score=0.881850 -   2.3s\n",
      "[CV] colsample_bytree=0.7, subsample=1.0 .............................\n"
     ]
    },
    {
     "name": "stderr",
     "output_type": "stream",
     "text": [
      "[Parallel(n_jobs=4)]: Done  45 tasks      | elapsed:   22.0s\n"
     ]
    },
    {
     "name": "stdout",
     "output_type": "stream",
     "text": [
      "[CV] .... colsample_bytree=0.7, subsample=1.0, score=0.886900 -   2.4s\n",
      "[CV] colsample_bytree=0.7, subsample=1.0 .............................\n",
      "[CV] .... colsample_bytree=0.7, subsample=1.0, score=0.913062 -   2.3s\n",
      "[CV] colsample_bytree=0.8, subsample=0.6 .............................\n"
     ]
    },
    {
     "name": "stderr",
     "output_type": "stream",
     "text": [
      "[Parallel(n_jobs=4)]: Done  46 tasks      | elapsed:   22.2s\n",
      "[Parallel(n_jobs=4)]: Done  47 tasks      | elapsed:   22.3s\n"
     ]
    },
    {
     "name": "stdout",
     "output_type": "stream",
     "text": [
      "[CV] .... colsample_bytree=0.7, subsample=1.0, score=0.866187 -   2.5s\n",
      "[CV] colsample_bytree=0.8, subsample=0.6 .............................\n"
     ]
    },
    {
     "name": "stderr",
     "output_type": "stream",
     "text": [
      "[Parallel(n_jobs=4)]: Done  48 tasks      | elapsed:   22.8s\n"
     ]
    },
    {
     "name": "stdout",
     "output_type": "stream",
     "text": [
      "[CV] .... colsample_bytree=0.7, subsample=1.0, score=0.862263 -   2.3s\n",
      "[CV] colsample_bytree=0.8, subsample=0.6 .............................\n",
      "[CV] .... colsample_bytree=0.8, subsample=0.6, score=0.865900 -   2.0s\n",
      "[CV] colsample_bytree=0.8, subsample=0.6 .............................\n",
      "[CV] .... colsample_bytree=0.7, subsample=1.0, score=0.869150 -   2.2s\n"
     ]
    },
    {
     "name": "stderr",
     "output_type": "stream",
     "text": [
      "[Parallel(n_jobs=4)]: Done  49 tasks      | elapsed:   24.3s\n",
      "[Parallel(n_jobs=4)]: Done  50 tasks      | elapsed:   24.3s\n"
     ]
    },
    {
     "name": "stdout",
     "output_type": "stream",
     "text": [
      "[CV] colsample_bytree=0.8, subsample=0.6 .............................\n"
     ]
    },
    {
     "name": "stderr",
     "output_type": "stream",
     "text": [
      "[Parallel(n_jobs=4)]: Done  51 tasks      | elapsed:   24.5s\n"
     ]
    },
    {
     "name": "stdout",
     "output_type": "stream",
     "text": [
      "[CV] .... colsample_bytree=0.8, subsample=0.6, score=0.893200 -   2.1s\n",
      "[CV] colsample_bytree=0.8, subsample=0.7 .............................\n"
     ]
    },
    {
     "name": "stderr",
     "output_type": "stream",
     "text": [
      "[Parallel(n_jobs=4)]: Done  52 tasks      | elapsed:   24.9s\n"
     ]
    },
    {
     "name": "stdout",
     "output_type": "stream",
     "text": [
      "[CV] .... colsample_bytree=0.8, subsample=0.6, score=0.864225 -   2.1s\n",
      "[CV] colsample_bytree=0.8, subsample=0.7 .............................\n",
      "[CV] .... colsample_bytree=0.8, subsample=0.6, score=0.841662 -   2.0s\n",
      "[CV] colsample_bytree=0.8, subsample=0.7 .............................\n",
      "[CV] .... colsample_bytree=0.8, subsample=0.6, score=0.880100 -   2.0s\n",
      "[CV] colsample_bytree=0.8, subsample=0.7 .............................\n"
     ]
    },
    {
     "name": "stderr",
     "output_type": "stream",
     "text": [
      "[Parallel(n_jobs=4)]: Done  53 tasks      | elapsed:   26.3s\n",
      "[Parallel(n_jobs=4)]: Done  54 tasks      | elapsed:   26.4s\n",
      "[Parallel(n_jobs=4)]: Done  55 tasks      | elapsed:   26.5s\n"
     ]
    },
    {
     "name": "stdout",
     "output_type": "stream",
     "text": [
      "[CV] .... colsample_bytree=0.8, subsample=0.7, score=0.887500 -   2.1s\n",
      "[CV] colsample_bytree=0.8, subsample=0.7 .............................\n"
     ]
    },
    {
     "name": "stderr",
     "output_type": "stream",
     "text": [
      "[Parallel(n_jobs=4)]: Done  56 tasks      | elapsed:   27.0s\n"
     ]
    },
    {
     "name": "stdout",
     "output_type": "stream",
     "text": [
      "[CV] .... colsample_bytree=0.8, subsample=0.7, score=0.902625 -   2.2s\n",
      "[CV] colsample_bytree=0.8, subsample=0.8 .............................\n",
      "[CV] .... colsample_bytree=0.8, subsample=0.7, score=0.883500 -   2.2s\n",
      "[CV] colsample_bytree=0.8, subsample=0.8 .............................\n",
      "[CV] .... colsample_bytree=0.8, subsample=0.7, score=0.860200 -   2.2s\n",
      "[CV] colsample_bytree=0.8, subsample=0.8 .............................\n"
     ]
    },
    {
     "name": "stderr",
     "output_type": "stream",
     "text": [
      "[Parallel(n_jobs=4)]: Done  57 tasks      | elapsed:   28.6s\n",
      "[Parallel(n_jobs=4)]: Done  58 tasks      | elapsed:   28.6s\n",
      "[Parallel(n_jobs=4)]: Done  59 tasks      | elapsed:   28.7s\n"
     ]
    },
    {
     "name": "stdout",
     "output_type": "stream",
     "text": [
      "[CV] .... colsample_bytree=0.8, subsample=0.7, score=0.866775 -   2.3s\n",
      "[CV] colsample_bytree=0.8, subsample=0.8 .............................\n"
     ]
    },
    {
     "name": "stderr",
     "output_type": "stream",
     "text": [
      "[Parallel(n_jobs=4)]: Done  60 tasks      | elapsed:   29.3s\n"
     ]
    },
    {
     "name": "stdout",
     "output_type": "stream",
     "text": [
      "[CV] .... colsample_bytree=0.8, subsample=0.8, score=0.912775 -   2.3s\n",
      "[CV] colsample_bytree=0.8, subsample=0.8 .............................\n",
      "[CV] .... colsample_bytree=0.8, subsample=0.8, score=0.885800 -   2.4s\n",
      "[CV] colsample_bytree=0.8, subsample=0.9 .............................\n",
      "[CV] .... colsample_bytree=0.8, subsample=0.8, score=0.876325 -   2.4s\n",
      "[CV] colsample_bytree=0.8, subsample=0.9 .............................\n"
     ]
    },
    {
     "name": "stderr",
     "output_type": "stream",
     "text": [
      "[Parallel(n_jobs=4)]: Done  61 tasks      | elapsed:   31.0s\n",
      "[Parallel(n_jobs=4)]: Done  62 tasks      | elapsed:   31.0s\n",
      "[Parallel(n_jobs=4)]: Done  63 tasks      | elapsed:   31.1s\n"
     ]
    },
    {
     "name": "stdout",
     "output_type": "stream",
     "text": [
      "[CV] .... colsample_bytree=0.8, subsample=0.8, score=0.862800 -   2.3s\n",
      "[CV] colsample_bytree=0.8, subsample=0.9 .............................\n"
     ]
    },
    {
     "name": "stderr",
     "output_type": "stream",
     "text": [
      "[Parallel(n_jobs=4)]: Done  64 tasks      | elapsed:   31.6s\n"
     ]
    },
    {
     "name": "stdout",
     "output_type": "stream",
     "text": [
      "[CV] .... colsample_bytree=0.8, subsample=0.8, score=0.887613 -   2.4s\n",
      "[CV] colsample_bytree=0.8, subsample=0.9 .............................\n",
      "[CV] .... colsample_bytree=0.8, subsample=0.9, score=0.889700 -   2.5s\n",
      "[CV] colsample_bytree=0.8, subsample=0.9 .............................\n"
     ]
    },
    {
     "name": "stderr",
     "output_type": "stream",
     "text": [
      "[Parallel(n_jobs=4)]: Done  65 tasks      | elapsed:   33.4s\n",
      "[Parallel(n_jobs=4)]: Done  66 tasks      | elapsed:   33.5s\n"
     ]
    },
    {
     "name": "stdout",
     "output_type": "stream",
     "text": [
      "[CV] .... colsample_bytree=0.8, subsample=0.9, score=0.913550 -   2.5s\n",
      "[CV] colsample_bytree=0.8, subsample=1.0 .............................\n"
     ]
    },
    {
     "name": "stderr",
     "output_type": "stream",
     "text": [
      "[Parallel(n_jobs=4)]: Done  67 tasks      | elapsed:   33.6s\n"
     ]
    },
    {
     "name": "stdout",
     "output_type": "stream",
     "text": [
      "[CV] .... colsample_bytree=0.8, subsample=0.9, score=0.877700 -   2.5s\n",
      "[CV] colsample_bytree=0.8, subsample=1.0 .............................\n"
     ]
    },
    {
     "name": "stderr",
     "output_type": "stream",
     "text": [
      "[Parallel(n_jobs=4)]: Done  68 tasks      | elapsed:   34.2s\n"
     ]
    },
    {
     "name": "stdout",
     "output_type": "stream",
     "text": [
      "[CV] .... colsample_bytree=0.8, subsample=0.9, score=0.864263 -   2.5s\n",
      "[CV] colsample_bytree=0.8, subsample=1.0 .............................\n",
      "[CV] .... colsample_bytree=0.8, subsample=0.9, score=0.880713 -   2.5s\n",
      "[CV] colsample_bytree=0.8, subsample=1.0 .............................\n"
     ]
    },
    {
     "name": "stderr",
     "output_type": "stream",
     "text": [
      "[Parallel(n_jobs=4)]: Done  69 tasks      | elapsed:   35.9s\n",
      "[Parallel(n_jobs=4)]: Done  70 tasks      | elapsed:   36.0s\n"
     ]
    },
    {
     "name": "stdout",
     "output_type": "stream",
     "text": [
      "[CV] .... colsample_bytree=0.8, subsample=1.0, score=0.883925 -   2.6s\n",
      "[CV] colsample_bytree=0.8, subsample=1.0 .............................\n"
     ]
    },
    {
     "name": "stderr",
     "output_type": "stream",
     "text": [
      "[Parallel(n_jobs=4)]: Done  71 tasks      | elapsed:   36.2s\n"
     ]
    },
    {
     "name": "stdout",
     "output_type": "stream",
     "text": [
      "[CV] .... colsample_bytree=0.8, subsample=1.0, score=0.908275 -   2.7s\n",
      "[CV] colsample_bytree=0.9, subsample=0.6 .............................\n"
     ]
    },
    {
     "name": "stderr",
     "output_type": "stream",
     "text": [
      "[Parallel(n_jobs=4)]: Done  72 tasks      | elapsed:   36.9s\n"
     ]
    },
    {
     "name": "stdout",
     "output_type": "stream",
     "text": [
      "[CV] .... colsample_bytree=0.8, subsample=1.0, score=0.864350 -   2.6s\n",
      "[CV] colsample_bytree=0.9, subsample=0.6 .............................\n",
      "[CV] .... colsample_bytree=0.8, subsample=1.0, score=0.860162 -   2.6s\n",
      "[CV] colsample_bytree=0.9, subsample=0.6 .............................\n"
     ]
    },
    {
     "name": "stderr",
     "output_type": "stream",
     "text": [
      "[Parallel(n_jobs=4)]: Done  73 tasks      | elapsed:   38.5s\n",
      "[Parallel(n_jobs=4)]: Done  74 tasks      | elapsed:   38.6s\n"
     ]
    },
    {
     "name": "stdout",
     "output_type": "stream",
     "text": [
      "[CV] .... colsample_bytree=0.8, subsample=1.0, score=0.866112 -   2.7s\n",
      "[CV] colsample_bytree=0.9, subsample=0.6 .............................\n"
     ]
    },
    {
     "name": "stderr",
     "output_type": "stream",
     "text": [
      "[Parallel(n_jobs=4)]: Done  75 tasks      | elapsed:   38.9s\n"
     ]
    },
    {
     "name": "stdout",
     "output_type": "stream",
     "text": [
      "[CV] .... colsample_bytree=0.9, subsample=0.6, score=0.864325 -   2.4s\n",
      "[CV] colsample_bytree=0.9, subsample=0.6 .............................\n"
     ]
    },
    {
     "name": "stderr",
     "output_type": "stream",
     "text": [
      "[Parallel(n_jobs=4)]: Done  76 tasks      | elapsed:   39.3s\n"
     ]
    },
    {
     "name": "stdout",
     "output_type": "stream",
     "text": [
      "[CV] .... colsample_bytree=0.9, subsample=0.6, score=0.892375 -   2.4s\n",
      "[CV] colsample_bytree=0.9, subsample=0.7 .............................\n",
      "[CV] .... colsample_bytree=0.9, subsample=0.6, score=0.855425 -   2.3s\n",
      "[CV] colsample_bytree=0.9, subsample=0.7 .............................\n"
     ]
    },
    {
     "name": "stderr",
     "output_type": "stream",
     "text": [
      "[Parallel(n_jobs=4)]: Done  77 tasks      | elapsed:   40.9s\n",
      "[Parallel(n_jobs=4)]: Done  78 tasks      | elapsed:   41.0s\n"
     ]
    },
    {
     "name": "stdout",
     "output_type": "stream",
     "text": [
      "[CV] .... colsample_bytree=0.9, subsample=0.6, score=0.843900 -   2.3s\n",
      "[CV] colsample_bytree=0.9, subsample=0.7 .............................\n"
     ]
    },
    {
     "name": "stderr",
     "output_type": "stream",
     "text": [
      "[Parallel(n_jobs=4)]: Done  79 tasks      | elapsed:   41.3s\n"
     ]
    },
    {
     "name": "stdout",
     "output_type": "stream",
     "text": [
      "[CV] .... colsample_bytree=0.9, subsample=0.6, score=0.870500 -   2.2s\n",
      "[CV] colsample_bytree=0.9, subsample=0.7 .............................\n"
     ]
    },
    {
     "name": "stderr",
     "output_type": "stream",
     "text": [
      "[Parallel(n_jobs=4)]: Done  80 tasks      | elapsed:   41.5s\n"
     ]
    },
    {
     "name": "stdout",
     "output_type": "stream",
     "text": [
      "[CV] .... colsample_bytree=0.9, subsample=0.7, score=0.878075 -   2.5s\n",
      "[CV] colsample_bytree=0.9, subsample=0.7 .............................\n",
      "[CV] .... colsample_bytree=0.9, subsample=0.7, score=0.901675 -   2.4s\n",
      "[CV] colsample_bytree=0.9, subsample=0.8 .............................\n"
     ]
    },
    {
     "name": "stderr",
     "output_type": "stream",
     "text": [
      "[Parallel(n_jobs=4)]: Done  81 tasks      | elapsed:   43.5s\n",
      "[Parallel(n_jobs=4)]: Done  82 tasks      | elapsed:   43.5s\n"
     ]
    },
    {
     "name": "stdout",
     "output_type": "stream",
     "text": [
      "[CV] .... colsample_bytree=0.9, subsample=0.7, score=0.870150 -   2.4s\n",
      "[CV] colsample_bytree=0.9, subsample=0.8 .............................\n"
     ]
    },
    {
     "name": "stderr",
     "output_type": "stream",
     "text": [
      "[Parallel(n_jobs=4)]: Done  83 tasks      | elapsed:   43.7s\n"
     ]
    },
    {
     "name": "stdout",
     "output_type": "stream",
     "text": [
      "[CV] .... colsample_bytree=0.9, subsample=0.7, score=0.849475 -   2.6s\n",
      "[CV] colsample_bytree=0.9, subsample=0.8 .............................\n"
     ]
    },
    {
     "name": "stderr",
     "output_type": "stream",
     "text": [
      "[Parallel(n_jobs=4)]: Done  84 tasks      | elapsed:   44.1s\n"
     ]
    },
    {
     "name": "stdout",
     "output_type": "stream",
     "text": [
      "[CV] .... colsample_bytree=0.9, subsample=0.7, score=0.865000 -   2.7s\n",
      "[CV] colsample_bytree=0.9, subsample=0.8 .............................\n",
      "[CV] .... colsample_bytree=0.9, subsample=0.8, score=0.878475 -   2.9s\n"
     ]
    },
    {
     "name": "stderr",
     "output_type": "stream",
     "text": [
      "[Parallel(n_jobs=4)]: Done  85 tasks      | elapsed:   46.2s\n",
      "[Parallel(n_jobs=4)]: Done  86 tasks      | elapsed:   46.4s\n"
     ]
    },
    {
     "name": "stdout",
     "output_type": "stream",
     "text": [
      "[CV] colsample_bytree=0.9, subsample=0.8 .............................\n",
      "[CV] .... colsample_bytree=0.9, subsample=0.8, score=0.902900 -   2.9s\n",
      "[CV] colsample_bytree=0.9, subsample=0.9 .............................\n"
     ]
    },
    {
     "name": "stderr",
     "output_type": "stream",
     "text": [
      "[Parallel(n_jobs=4)]: Done  87 tasks      | elapsed:   46.6s\n"
     ]
    },
    {
     "name": "stdout",
     "output_type": "stream",
     "text": [
      "[CV] .... colsample_bytree=0.9, subsample=0.8, score=0.866900 -   2.8s\n",
      "[CV] colsample_bytree=0.9, subsample=0.9 .............................\n"
     ]
    },
    {
     "name": "stderr",
     "output_type": "stream",
     "text": [
      "[Parallel(n_jobs=4)]: Done  88 tasks      | elapsed:   47.0s\n"
     ]
    },
    {
     "name": "stdout",
     "output_type": "stream",
     "text": [
      "[CV] .... colsample_bytree=0.9, subsample=0.8, score=0.851900 -   2.6s\n",
      "[CV] colsample_bytree=0.9, subsample=0.9 .............................\n"
     ]
    },
    {
     "name": "stderr",
     "output_type": "stream",
     "text": [
      "[Parallel(n_jobs=4)]: Done  89 tasks      | elapsed:   48.8s\n"
     ]
    },
    {
     "name": "stdout",
     "output_type": "stream",
     "text": [
      "[CV] .... colsample_bytree=0.9, subsample=0.8, score=0.876838 -   2.6s\n",
      "[CV] colsample_bytree=0.9, subsample=0.9 .............................\n"
     ]
    },
    {
     "name": "stderr",
     "output_type": "stream",
     "text": [
      "[Parallel(n_jobs=4)]: Done  90 tasks      | elapsed:   49.0s\n"
     ]
    },
    {
     "name": "stdout",
     "output_type": "stream",
     "text": [
      "[CV] .... colsample_bytree=0.9, subsample=0.9, score=0.875825 -   2.8s\n",
      "[CV] colsample_bytree=0.9, subsample=0.9 .............................\n"
     ]
    },
    {
     "name": "stderr",
     "output_type": "stream",
     "text": [
      "[Parallel(n_jobs=4)]: Done  91 tasks      | elapsed:   49.4s\n"
     ]
    },
    {
     "name": "stdout",
     "output_type": "stream",
     "text": [
      "[CV] .... colsample_bytree=0.9, subsample=0.9, score=0.905050 -   2.7s\n",
      "[CV] colsample_bytree=0.9, subsample=1.0 .............................\n"
     ]
    },
    {
     "name": "stderr",
     "output_type": "stream",
     "text": [
      "[Parallel(n_jobs=4)]: Done  92 tasks      | elapsed:   49.7s\n"
     ]
    },
    {
     "name": "stdout",
     "output_type": "stream",
     "text": [
      "[CV] .... colsample_bytree=0.9, subsample=0.9, score=0.867975 -   2.4s\n",
      "[CV] colsample_bytree=0.9, subsample=1.0 .............................\n",
      "[CV] .... colsample_bytree=0.9, subsample=0.9, score=0.855675 -   2.3s\n",
      "[CV] colsample_bytree=0.9, subsample=1.0 .............................\n"
     ]
    },
    {
     "name": "stderr",
     "output_type": "stream",
     "text": [
      "[Parallel(n_jobs=4)]: Done  93 tasks      | elapsed:   51.2s\n",
      "[Parallel(n_jobs=4)]: Done  94 tasks      | elapsed:   51.3s\n"
     ]
    },
    {
     "name": "stdout",
     "output_type": "stream",
     "text": [
      "[CV] .... colsample_bytree=0.9, subsample=0.9, score=0.869512 -   2.3s\n",
      "[CV] colsample_bytree=0.9, subsample=1.0 .............................\n"
     ]
    },
    {
     "name": "stderr",
     "output_type": "stream",
     "text": [
      "[Parallel(n_jobs=4)]: Done  95 tasks      | elapsed:   51.7s\n"
     ]
    },
    {
     "name": "stdout",
     "output_type": "stream",
     "text": [
      "[CV] .... colsample_bytree=0.9, subsample=1.0, score=0.881350 -   2.3s\n",
      "[CV] colsample_bytree=0.9, subsample=1.0 .............................\n"
     ]
    },
    {
     "name": "stderr",
     "output_type": "stream",
     "text": [
      "[Parallel(n_jobs=4)]: Done  96 tasks      | elapsed:   52.1s\n"
     ]
    },
    {
     "name": "stdout",
     "output_type": "stream",
     "text": [
      "[CV] .... colsample_bytree=0.9, subsample=1.0, score=0.904812 -   2.4s\n",
      "[CV] colsample_bytree=1.0, subsample=0.6 .............................\n",
      "[CV] .... colsample_bytree=0.9, subsample=1.0, score=0.858763 -   2.4s\n",
      "[CV] colsample_bytree=1.0, subsample=0.6 .............................\n"
     ]
    },
    {
     "name": "stderr",
     "output_type": "stream",
     "text": [
      "[Parallel(n_jobs=4)]: Done  97 tasks      | elapsed:   53.6s\n",
      "[Parallel(n_jobs=4)]: Done  98 tasks      | elapsed:   53.8s\n"
     ]
    },
    {
     "name": "stdout",
     "output_type": "stream",
     "text": [
      "[CV] .... colsample_bytree=0.9, subsample=1.0, score=0.855250 -   2.3s\n",
      "[CV] colsample_bytree=1.0, subsample=0.6 .............................\n"
     ]
    },
    {
     "name": "stderr",
     "output_type": "stream",
     "text": [
      "[Parallel(n_jobs=4)]: Done  99 tasks      | elapsed:   54.1s\n"
     ]
    },
    {
     "name": "stdout",
     "output_type": "stream",
     "text": [
      "[CV] .... colsample_bytree=0.9, subsample=1.0, score=0.863800 -   2.3s\n",
      "[CV] colsample_bytree=1.0, subsample=0.6 .............................\n"
     ]
    },
    {
     "name": "stderr",
     "output_type": "stream",
     "text": [
      "[Parallel(n_jobs=4)]: Done 100 tasks      | elapsed:   54.4s\n"
     ]
    },
    {
     "name": "stdout",
     "output_type": "stream",
     "text": [
      "[CV] .... colsample_bytree=1.0, subsample=0.6, score=0.864875 -   2.5s\n",
      "[CV] colsample_bytree=1.0, subsample=0.6 .............................\n",
      "[CV] .... colsample_bytree=1.0, subsample=0.6, score=0.900750 -   2.5s\n",
      "[CV] colsample_bytree=1.0, subsample=0.7 .............................\n"
     ]
    },
    {
     "name": "stderr",
     "output_type": "stream",
     "text": [
      "[Parallel(n_jobs=4)]: Done 101 tasks      | elapsed:   56.1s\n",
      "[Parallel(n_jobs=4)]: Done 102 tasks      | elapsed:   56.3s\n"
     ]
    },
    {
     "name": "stdout",
     "output_type": "stream",
     "text": [
      "[CV] .... colsample_bytree=1.0, subsample=0.6, score=0.858400 -   2.6s\n",
      "[CV] colsample_bytree=1.0, subsample=0.7 .............................\n"
     ]
    },
    {
     "name": "stderr",
     "output_type": "stream",
     "text": [
      "[Parallel(n_jobs=4)]: Done 103 tasks      | elapsed:   56.6s\n"
     ]
    },
    {
     "name": "stdout",
     "output_type": "stream",
     "text": [
      "[CV] .... colsample_bytree=1.0, subsample=0.6, score=0.847288 -   2.7s\n",
      "[CV] colsample_bytree=1.0, subsample=0.7 .............................\n"
     ]
    },
    {
     "name": "stderr",
     "output_type": "stream",
     "text": [
      "[Parallel(n_jobs=4)]: Done 104 tasks      | elapsed:   57.2s\n"
     ]
    },
    {
     "name": "stdout",
     "output_type": "stream",
     "text": [
      "[CV] .... colsample_bytree=1.0, subsample=0.6, score=0.869800 -   2.6s\n",
      "[CV] colsample_bytree=1.0, subsample=0.7 .............................\n"
     ]
    },
    {
     "name": "stderr",
     "output_type": "stream",
     "text": [
      "[Parallel(n_jobs=4)]: Done 105 tasks      | elapsed:   58.8s\n"
     ]
    },
    {
     "name": "stdout",
     "output_type": "stream",
     "text": [
      "[CV] .... colsample_bytree=1.0, subsample=0.7, score=0.880650 -   2.9s\n",
      "[CV] colsample_bytree=1.0, subsample=0.7 .............................\n"
     ]
    },
    {
     "name": "stderr",
     "output_type": "stream",
     "text": [
      "[Parallel(n_jobs=4)]: Done 106 tasks      | elapsed:   59.2s\n"
     ]
    },
    {
     "name": "stdout",
     "output_type": "stream",
     "text": [
      "[CV] .... colsample_bytree=1.0, subsample=0.7, score=0.896800 -   2.9s\n",
      "[CV] colsample_bytree=1.0, subsample=0.8 .............................\n"
     ]
    },
    {
     "name": "stderr",
     "output_type": "stream",
     "text": [
      "[Parallel(n_jobs=4)]: Done 107 tasks      | elapsed:   59.6s\n"
     ]
    },
    {
     "name": "stdout",
     "output_type": "stream",
     "text": [
      "[CV] .... colsample_bytree=1.0, subsample=0.7, score=0.868675 -   2.9s\n",
      "[CV] colsample_bytree=1.0, subsample=0.8 .............................\n"
     ]
    },
    {
     "name": "stderr",
     "output_type": "stream",
     "text": [
      "[Parallel(n_jobs=4)]: Done 108 tasks      | elapsed:  1.0min\n"
     ]
    },
    {
     "name": "stdout",
     "output_type": "stream",
     "text": [
      "[CV] .... colsample_bytree=1.0, subsample=0.7, score=0.847200 -   2.9s\n",
      "[CV] colsample_bytree=1.0, subsample=0.8 .............................\n"
     ]
    },
    {
     "name": "stderr",
     "output_type": "stream",
     "text": [
      "[Parallel(n_jobs=4)]: Done 109 tasks      | elapsed:  1.0min\n"
     ]
    },
    {
     "name": "stdout",
     "output_type": "stream",
     "text": [
      "[CV] .... colsample_bytree=1.0, subsample=0.7, score=0.871475 -   2.7s\n",
      "[CV] colsample_bytree=1.0, subsample=0.8 .............................\n"
     ]
    },
    {
     "name": "stderr",
     "output_type": "stream",
     "text": [
      "[Parallel(n_jobs=4)]: Done 110 tasks      | elapsed:  1.0min\n"
     ]
    },
    {
     "name": "stdout",
     "output_type": "stream",
     "text": [
      "[CV] .... colsample_bytree=1.0, subsample=0.8, score=0.879750 -   3.0s\n",
      "[CV] colsample_bytree=1.0, subsample=0.8 .............................\n"
     ]
    },
    {
     "name": "stderr",
     "output_type": "stream",
     "text": [
      "[Parallel(n_jobs=4)]: Done 111 tasks      | elapsed:  1.0min\n"
     ]
    },
    {
     "name": "stdout",
     "output_type": "stream",
     "text": [
      "[CV] .... colsample_bytree=1.0, subsample=0.8, score=0.901212 -   2.8s\n",
      "[CV] colsample_bytree=1.0, subsample=0.9 .............................\n"
     ]
    },
    {
     "name": "stderr",
     "output_type": "stream",
     "text": [
      "[Parallel(n_jobs=4)]: Done 112 tasks      | elapsed:  1.0min\n"
     ]
    },
    {
     "name": "stdout",
     "output_type": "stream",
     "text": [
      "[CV] .... colsample_bytree=1.0, subsample=0.8, score=0.867825 -   3.1s\n",
      "[CV] colsample_bytree=1.0, subsample=0.9 .............................\n"
     ]
    },
    {
     "name": "stderr",
     "output_type": "stream",
     "text": [
      "[Parallel(n_jobs=4)]: Done 113 tasks      | elapsed:  1.1min\n"
     ]
    },
    {
     "name": "stdout",
     "output_type": "stream",
     "text": [
      "[CV] .... colsample_bytree=1.0, subsample=0.8, score=0.856375 -   3.1s\n",
      "[CV] colsample_bytree=1.0, subsample=0.9 .............................\n"
     ]
    },
    {
     "name": "stderr",
     "output_type": "stream",
     "text": [
      "[Parallel(n_jobs=4)]: Done 114 tasks      | elapsed:  1.1min\n"
     ]
    },
    {
     "name": "stdout",
     "output_type": "stream",
     "text": [
      "[CV] .... colsample_bytree=1.0, subsample=0.8, score=0.872475 -   3.1s\n",
      "[CV] colsample_bytree=1.0, subsample=0.9 .............................\n"
     ]
    },
    {
     "name": "stderr",
     "output_type": "stream",
     "text": [
      "[Parallel(n_jobs=4)]: Done 115 tasks      | elapsed:  1.1min\n"
     ]
    },
    {
     "name": "stdout",
     "output_type": "stream",
     "text": [
      "[CV] .... colsample_bytree=1.0, subsample=0.9, score=0.883575 -   3.3s\n",
      "[CV] colsample_bytree=1.0, subsample=0.9 .............................\n"
     ]
    },
    {
     "name": "stderr",
     "output_type": "stream",
     "text": [
      "[Parallel(n_jobs=4)]: Done 116 tasks      | elapsed:  1.1min\n"
     ]
    },
    {
     "name": "stdout",
     "output_type": "stream",
     "text": [
      "[CV] .... colsample_bytree=1.0, subsample=0.9, score=0.897162 -   3.1s\n",
      "[CV] colsample_bytree=1.0, subsample=1.0 .............................\n"
     ]
    },
    {
     "name": "stderr",
     "output_type": "stream",
     "text": [
      "[Parallel(n_jobs=4)]: Done 117 tasks      | elapsed:  1.1min\n"
     ]
    },
    {
     "name": "stdout",
     "output_type": "stream",
     "text": [
      "[CV] .... colsample_bytree=1.0, subsample=0.9, score=0.863775 -   3.1s\n",
      "[CV] colsample_bytree=1.0, subsample=1.0 .............................\n"
     ]
    },
    {
     "name": "stderr",
     "output_type": "stream",
     "text": [
      "[Parallel(n_jobs=4)]: Done 118 tasks      | elapsed:  1.1min\n"
     ]
    },
    {
     "name": "stdout",
     "output_type": "stream",
     "text": [
      "[CV] .... colsample_bytree=1.0, subsample=0.9, score=0.858487 -   3.2s\n",
      "[CV] colsample_bytree=1.0, subsample=1.0 .............................\n",
      "[CV] .... colsample_bytree=1.0, subsample=0.9, score=0.865175 -   3.1s\n",
      "[CV] colsample_bytree=1.0, subsample=1.0 .............................\n",
      "[CV] .... colsample_bytree=1.0, subsample=1.0, score=0.873637 -   3.0s\n",
      "[CV] colsample_bytree=1.0, subsample=1.0 .............................\n",
      "[CV] .... colsample_bytree=1.0, subsample=1.0, score=0.896125 -   3.0s\n",
      "[CV] .... colsample_bytree=1.0, subsample=1.0, score=0.850425 -   2.8s\n",
      "[CV] .... colsample_bytree=1.0, subsample=1.0, score=0.841312 -   2.5s\n",
      "[CV] .... colsample_bytree=1.0, subsample=1.0, score=0.858762 -   1.8s\n"
     ]
    },
    {
     "name": "stderr",
     "output_type": "stream",
     "text": [
      "[Parallel(n_jobs=4)]: Done 125 out of 125 | elapsed:  1.2min finished\n"
     ]
    },
    {
     "name": "stdout",
     "output_type": "stream",
     "text": [
      "{'colsample_bytree': 0.6, 'subsample': 1.0}\n",
      "0.88766\n"
     ]
    }
   ],
   "source": [
    "model.set_params(n_estimators = 21)\n",
    "model.set_params(learning_rate=0.01)\n",
    "model.set_params(max_depth = 5)\n",
    "model.set_params(min_child_weight = 3)\n",
    "model.set_params(gamma = 0.4)\n",
    "\n",
    "param_test3 = {\n",
    "'subsample' : [i/10.0 for i in range(6,11)],\n",
    "'colsample_bytree' : [i/10.0 for i in range(6,11)]\n",
    "}\n",
    "gsearch3 = GridSearchCV(estimator = model, param_grid = param_test3, scoring = 'roc_auc',n_jobs = 4, iid = False, cv = cv_folds, verbose = 25)\n",
    "gsearch3.fit(X,y)\n",
    "print (gsearch3.best_params_)\n",
    "print (gsearch3.best_score_)"
   ]
  },
  {
   "cell_type": "code",
   "execution_count": 134,
   "metadata": {
    "collapsed": true
   },
   "outputs": [
    {
     "name": "stdout",
     "output_type": "stream",
     "text": [
      "Fitting 5 folds for each of 5 candidates, totalling 25 fits\n",
      "[CV] reg_alpha=1e-05 .................................................\n",
      "[CV] reg_alpha=1e-05 .................................................\n",
      "[CV] reg_alpha=1e-05 .................................................\n",
      "[CV] reg_alpha=1e-05 .................................................\n",
      "[CV] ........................................ reg_alpha=1e-05 -   2.3s\n",
      "[CV] ........................................ reg_alpha=1e-05 -   2.3s\n",
      "[CV] ........................................ reg_alpha=1e-05 -   2.3s\n",
      "[CV] reg_alpha=1e-05 .................................................\n",
      "[CV] reg_alpha=0.01 ..................................................\n",
      "[CV] reg_alpha=0.01 ..................................................\n",
      "[CV] ........................................ reg_alpha=1e-05 -   2.4s\n",
      "[CV] reg_alpha=0.01 ..................................................\n",
      "[CV] ......................................... reg_alpha=0.01 -   2.1s\n",
      "[CV] reg_alpha=0.01 ..................................................\n",
      "[CV] ........................................ reg_alpha=1e-05 -   2.1s\n",
      "[CV] ......................................... reg_alpha=0.01 -   2.1s\n",
      "[CV] reg_alpha=0.01 ..................................................\n",
      "[CV] reg_alpha=0.1 ...................................................\n",
      "[CV] ......................................... reg_alpha=0.01 -   2.1s\n",
      "[CV] reg_alpha=0.1 ...................................................\n",
      "[CV] ......................................... reg_alpha=0.01 -   2.0s\n",
      "[CV] reg_alpha=0.1 ...................................................\n",
      "[CV] ......................................... reg_alpha=0.01 -   2.0s\n",
      "[CV] reg_alpha=0.1 ...................................................\n",
      "[CV] .......................................... reg_alpha=0.1 -   2.0s\n",
      "[CV] reg_alpha=0.1 ...................................................\n",
      "[CV] .......................................... reg_alpha=0.1 -   2.0s\n",
      "[CV] reg_alpha=1 .....................................................\n",
      "[CV] .......................................... reg_alpha=0.1 -   1.9s\n",
      "[CV] reg_alpha=1 .....................................................\n",
      "[CV] .......................................... reg_alpha=0.1 -   2.0s\n",
      "[CV] reg_alpha=1 .....................................................\n",
      "[CV] .......................................... reg_alpha=0.1 -   2.0s\n",
      "[CV] reg_alpha=1 .....................................................\n",
      "[CV] ............................................ reg_alpha=1 -   1.9s\n",
      "[CV] reg_alpha=1 .....................................................\n",
      "[CV] ............................................ reg_alpha=1 -   2.0s\n",
      "[CV] ............................................ reg_alpha=1 -   2.1s\n",
      "[CV] reg_alpha=100 ...................................................\n",
      "[CV] ............................................ reg_alpha=1 -   2.0s\n",
      "[CV] reg_alpha=100 ...................................................\n",
      "[CV] reg_alpha=100 ...................................................\n",
      "[CV] ............................................ reg_alpha=1 -   2.0s\n",
      "[CV] reg_alpha=100 ...................................................\n",
      "[CV] .......................................... reg_alpha=100 -   0.5s\n",
      "[CV] reg_alpha=100 ...................................................\n",
      "[CV] .......................................... reg_alpha=100 -   0.4s\n",
      "[CV] .......................................... reg_alpha=100 -   0.5s\n",
      "[CV] .......................................... reg_alpha=100 -   0.3s\n",
      "[CV] .......................................... reg_alpha=100 -   1.2s\n"
     ]
    },
    {
     "name": "stderr",
     "output_type": "stream",
     "text": [
      "[Parallel(n_jobs=4)]: Done  25 out of  25 | elapsed:   11.8s finished\n"
     ]
    },
    {
     "name": "stdout",
     "output_type": "stream",
     "text": [
      "{'reg_alpha': 0.1}\n",
      "0.8879049999999999\n"
     ]
    }
   ],
   "source": [
    "model.set_params(subsample=1.0)\n",
    "model.set_params(colsample_bytree=0.6)\n",
    "model.set_params(n_estimators = 21)\n",
    "model.set_params(learning_rate=0.01)\n",
    "model.set_params(max_depth = 5)\n",
    "model.set_params(min_child_weight = 3)\n",
    "model.set_params(gamma = 0.4)\n",
    "\n",
    "param_test4 = {\n",
    "'reg_alpha':[1e-5, 1e-2, 0.1, 1, 100]\n",
    "}\n",
    "gsearch4 = GridSearchCV(estimator = model, param_grid = param_test4, scoring = 'roc_auc',n_jobs = 4, iid = False, cv = cv_folds, verbose = 2)\n",
    "gsearch4.fit(X,y)\n",
    "print (gsearch4.best_params_)\n",
    "print (gsearch4.best_score_)"
   ]
  },
  {
   "cell_type": "code",
   "execution_count": 139,
   "metadata": {
    "scrolled": true
   },
   "outputs": [
    {
     "name": "stdout",
     "output_type": "stream",
     "text": [
      "Fitting 5 folds for each of 5 candidates, totalling 25 fits\n",
      "[CV] reg_alpha=0.008 .................................................\n",
      "[CV] reg_alpha=0.008 .................................................\n",
      "[CV] reg_alpha=0.008 .................................................\n",
      "[CV] reg_alpha=0.008 .................................................\n",
      "Pickling array (shape=(559,), dtype=int64).\n",
      "Memmaping (shape=(559, 2000), dtype=float64) to new file /var/folders/xs/py6_f0f11_d4vvgct3h4zp280000gn/T/joblib_memmaping_pool_44572_4681978768/44572-4792661944-565ad64fe25933183111a39484eb289d.pkl\n",
      "Pickling array (shape=(559,), dtype=int64).\n",
      "Pickling array (shape=(2000,), dtype=float64).\n",
      "Pickling array (shape=(1600,), dtype=int64).\n",
      "Pickling array (shape=(400,), dtype=int64).\n",
      "Pickling array (shape=(559,), dtype=int64).\n",
      "Memmaping (shape=(559, 2000), dtype=float64) to old file /var/folders/xs/py6_f0f11_d4vvgct3h4zp280000gn/T/joblib_memmaping_pool_44572_4681978768/44572-4792661944-565ad64fe25933183111a39484eb289d.pkl\n",
      "Pickling array (shape=(559,), dtype=int64).\n",
      "Pickling array (shape=(2000,), dtype=float64).\n",
      "Pickling array (shape=(1600,), dtype=int64).\n",
      "Pickling array (shape=(400,), dtype=int64).\n",
      "Pickling array (shape=(559,), dtype=int64).\n",
      "Memmaping (shape=(559, 2000), dtype=float64) to old file /var/folders/xs/py6_f0f11_d4vvgct3h4zp280000gn/T/joblib_memmaping_pool_44572_4681978768/44572-4792661944-565ad64fe25933183111a39484eb289d.pkl\n",
      "Pickling array (shape=(559,), dtype=int64).\n",
      "Pickling array (shape=(2000,), dtype=float64).\n",
      "Pickling array (shape=(1600,), dtype=int64).\n",
      "Pickling array (shape=(400,), dtype=int64).\n",
      "Pickling array (shape=(559,), dtype=int64).\n",
      "Memmaping (shape=(559, 2000), dtype=float64) to old file /var/folders/xs/py6_f0f11_d4vvgct3h4zp280000gn/T/joblib_memmaping_pool_44572_4681978768/44572-4792661944-565ad64fe25933183111a39484eb289d.pkl\n",
      "Pickling array (shape=(559,), dtype=int64).\n",
      "Pickling array (shape=(2000,), dtype=float64).\n",
      "Pickling array (shape=(1600,), dtype=int64).\n",
      "Pickling array (shape=(400,), dtype=int64).\n",
      "Pickling array (shape=(559,), dtype=int64).\n",
      "Memmaping (shape=(559, 2000), dtype=float64) to old file /var/folders/xs/py6_f0f11_d4vvgct3h4zp280000gn/T/joblib_memmaping_pool_44572_4681978768/44572-4792661944-565ad64fe25933183111a39484eb289d.pkl\n",
      "Pickling array (shape=(559,), dtype=int64).\n",
      "Pickling array (shape=(2000,), dtype=float64).\n",
      "Pickling array (shape=(1600,), dtype=int64).\n",
      "Pickling array (shape=(400,), dtype=int64).\n",
      "Pickling array (shape=(559,), dtype=int64).\n",
      "Memmaping (shape=(559, 2000), dtype=float64) to old file /var/folders/xs/py6_f0f11_d4vvgct3h4zp280000gn/T/joblib_memmaping_pool_44572_4681978768/44572-4792661944-565ad64fe25933183111a39484eb289d.pkl\n",
      "Pickling array (shape=(559,), dtype=int64).\n",
      "Pickling array (shape=(2000,), dtype=float64).\n",
      "Pickling array (shape=(1600,), dtype=int64).\n",
      "Pickling array (shape=(400,), dtype=int64).\n",
      "[CV] ........................ reg_alpha=0.008, score=0.879150 -   2.2s\n",
      "[CV] ........................ reg_alpha=0.008, score=0.893125 -   2.2s\n",
      "[CV] reg_alpha=0.008 .................................................\n",
      "[CV] reg_alpha=0.009 .................................................\n",
      "[CV] ........................ reg_alpha=0.008, score=0.915500 -   2.2s\n",
      "[CV] reg_alpha=0.009 .................................................\n",
      "[CV] ........................ reg_alpha=0.008, score=0.870187 -   2.2s\n",
      "[CV] reg_alpha=0.009 .................................................\n",
      "[Parallel(n_jobs=4)]: Done   1 tasks      | elapsed:    2.3s\n",
      "Pickling array (shape=(559,), dtype=int64).\n",
      "[Parallel(n_jobs=4)]: Done   2 tasks      | elapsed:    2.3s\n",
      "Memmaping (shape=(559, 2000), dtype=float64) to old file /var/folders/xs/py6_f0f11_d4vvgct3h4zp280000gn/T/joblib_memmaping_pool_44572_4681978768/44572-4792661944-565ad64fe25933183111a39484eb289d.pkl\n",
      "Pickling array (shape=(559,), dtype=int64).\n",
      "Pickling array (shape=(2000,), dtype=float64).\n",
      "Pickling array (shape=(1600,), dtype=int64).\n",
      "Pickling array (shape=(400,), dtype=int64).\n",
      "Pickling array (shape=(559,), dtype=int64).\n",
      "Memmaping (shape=(559, 2000), dtype=float64) to old file /var/folders/xs/py6_f0f11_d4vvgct3h4zp280000gn/T/joblib_memmaping_pool_44572_4681978768/44572-4792661944-565ad64fe25933183111a39484eb289d.pkl\n",
      "Pickling array (shape=(559,), dtype=int64).\n",
      "Pickling array (shape=(2000,), dtype=float64).\n",
      "Pickling array (shape=(1600,), dtype=int64).\n",
      "Pickling array (shape=(400,), dtype=int64).\n",
      "[Parallel(n_jobs=4)]: Done   3 tasks      | elapsed:    2.3s\n",
      "Pickling array (shape=(559,), dtype=int64).\n",
      "Memmaping (shape=(559, 2000), dtype=float64) to old file /var/folders/xs/py6_f0f11_d4vvgct3h4zp280000gn/T/joblib_memmaping_pool_44572_4681978768/44572-4792661944-565ad64fe25933183111a39484eb289d.pkl\n",
      "Pickling array (shape=(559,), dtype=int64).\n",
      "Pickling array (shape=(2000,), dtype=float64).\n",
      "Pickling array (shape=(1600,), dtype=int64).\n",
      "Pickling array (shape=(400,), dtype=int64).\n",
      "[Parallel(n_jobs=4)]: Done   4 tasks      | elapsed:    2.4s\n",
      "Pickling array (shape=(559,), dtype=int64).\n",
      "Memmaping (shape=(559, 2000), dtype=float64) to old file /var/folders/xs/py6_f0f11_d4vvgct3h4zp280000gn/T/joblib_memmaping_pool_44572_4681978768/44572-4792661944-565ad64fe25933183111a39484eb289d.pkl\n",
      "Pickling array (shape=(559,), dtype=int64).\n",
      "Pickling array (shape=(2000,), dtype=float64).\n",
      "Pickling array (shape=(1600,), dtype=int64).\n",
      "Pickling array (shape=(400,), dtype=int64).\n",
      "[CV] ........................ reg_alpha=0.009, score=0.893125 -   1.9s\n",
      "[CV] ........................ reg_alpha=0.008, score=0.881012 -   2.0s\n",
      "[CV] reg_alpha=0.009 .................................................\n",
      "[CV] ........................ reg_alpha=0.009, score=0.915500 -   1.9s\n",
      "[CV] reg_alpha=0.01 ..................................................\n",
      "[CV] reg_alpha=0.009 .................................................\n",
      "[CV] ........................ reg_alpha=0.009, score=0.878950 -   1.9s\n",
      "[CV] reg_alpha=0.01 ..................................................\n",
      "Pickling array (shape=(559,), dtype=int64).[Parallel(n_jobs=4)]: Done   5 tasks      | elapsed:    4.2s\n",
      "\n",
      "[Parallel(n_jobs=4)]: Done   6 tasks      | elapsed:    4.2s\n",
      "Memmaping (shape=(559, 2000), dtype=float64) to old file /var/folders/xs/py6_f0f11_d4vvgct3h4zp280000gn/T/joblib_memmaping_pool_44572_4681978768/44572-4792661944-565ad64fe25933183111a39484eb289d.pkl\n",
      "Pickling array (shape=(559,), dtype=int64).\n",
      "Pickling array (shape=(2000,), dtype=float64).\n",
      "Pickling array (shape=(1600,), dtype=int64).\n",
      "Pickling array (shape=(400,), dtype=int64).\n",
      "Pickling array (shape=(559,), dtype=int64).\n",
      "[Parallel(n_jobs=4)]: Done   7 tasks      | elapsed:    4.2s\n",
      "Memmaping (shape=(559, 2000), dtype=float64) to old file /var/folders/xs/py6_f0f11_d4vvgct3h4zp280000gn/T/joblib_memmaping_pool_44572_4681978768/44572-4792661944-565ad64fe25933183111a39484eb289d.pkl\n",
      "Pickling array (shape=(559,), dtype=int64).\n",
      "Pickling array (shape=(2000,), dtype=float64).\n",
      "Pickling array (shape=(1600,), dtype=int64).\n",
      "Pickling array (shape=(400,), dtype=int64).\n",
      "Pickling array (shape=(559,), dtype=int64).\n",
      "Memmaping (shape=(559, 2000), dtype=float64) to old file /var/folders/xs/py6_f0f11_d4vvgct3h4zp280000gn/T/joblib_memmaping_pool_44572_4681978768/44572-4792661944-565ad64fe25933183111a39484eb289d.pkl\n",
      "Pickling array (shape=(559,), dtype=int64).\n",
      "Pickling array (shape=(2000,), dtype=float64).\n",
      "Pickling array (shape=(1600,), dtype=int64).\n",
      "Pickling array (shape=(400,), dtype=int64).\n",
      "[Parallel(n_jobs=4)]: Done   8 tasks      | elapsed:    4.3s\n",
      "Pickling array (shape=(559,), dtype=int64).\n",
      "Memmaping (shape=(559, 2000), dtype=float64) to old file /var/folders/xs/py6_f0f11_d4vvgct3h4zp280000gn/T/joblib_memmaping_pool_44572_4681978768/44572-4792661944-565ad64fe25933183111a39484eb289d.pkl\n",
      "Pickling array (shape=(559,), dtype=int64).\n",
      "Pickling array (shape=(2000,), dtype=float64).\n",
      "Pickling array (shape=(1600,), dtype=int64).\n",
      "Pickling array (shape=(400,), dtype=int64).\n",
      "[CV] ........................ reg_alpha=0.009, score=0.881012 -   2.2s\n",
      "[CV] reg_alpha=0.01 ..................................................\n",
      "[CV] ......................... reg_alpha=0.01, score=0.893225 -   2.2s\n",
      "[CV] ........................ reg_alpha=0.009, score=0.870187 -   2.2s\n",
      "[CV] reg_alpha=0.01 ..................................................\n"
     ]
    },
    {
     "name": "stdout",
     "output_type": "stream",
     "text": [
      "[CV] reg_alpha=0.01 ..................................................\n",
      "[CV] ......................... reg_alpha=0.01, score=0.915500 -   2.2s\n",
      "[CV] reg_alpha=0.011 .................................................\n",
      "[Parallel(n_jobs=4)]: Done   9 tasks      | elapsed:    6.4s\n",
      "Pickling array (shape=(559,), dtype=int64).\n",
      "Memmaping (shape=(559, 2000), dtype=float64) to old file /var/folders/xs/py6_f0f11_d4vvgct3h4zp280000gn/T/joblib_memmaping_pool_44572_4681978768/44572-4792661944-565ad64fe25933183111a39484eb289d.pkl\n",
      "Pickling array (shape=(559,), dtype=int64).\n",
      "Pickling array (shape=(2000,), dtype=float64).\n",
      "Pickling array (shape=(1600,), dtype=int64).\n",
      "Pickling array (shape=(400,), dtype=int64).\n",
      "[Parallel(n_jobs=4)]: Done  10 tasks      | elapsed:    6.4s\n",
      "Pickling array (shape=(559,), dtype=int64).\n",
      "Memmaping (shape=(559, 2000), dtype=float64) to old file /var/folders/xs/py6_f0f11_d4vvgct3h4zp280000gn/T/joblib_memmaping_pool_44572_4681978768/44572-4792661944-565ad64fe25933183111a39484eb289d.pkl\n",
      "Pickling array (shape=(559,), dtype=int64).\n",
      "Pickling array (shape=(2000,), dtype=float64).\n",
      "Pickling array (shape=(1600,), dtype=int64).\n",
      "Pickling array (shape=(400,), dtype=int64).\n",
      "[Parallel(n_jobs=4)]: Done  11 tasks      | elapsed:    6.5s\n",
      "Pickling array (shape=(559,), dtype=int64).\n",
      "Memmaping (shape=(559, 2000), dtype=float64) to old file /var/folders/xs/py6_f0f11_d4vvgct3h4zp280000gn/T/joblib_memmaping_pool_44572_4681978768/44572-4792661944-565ad64fe25933183111a39484eb289d.pkl\n",
      "Pickling array (shape=(559,), dtype=int64).\n",
      "Pickling array (shape=(2000,), dtype=float64).\n",
      "Pickling array (shape=(1600,), dtype=int64).\n",
      "Pickling array (shape=(400,), dtype=int64).\n",
      "[Parallel(n_jobs=4)]: Done  12 tasks      | elapsed:    6.6s\n",
      "Pickling array (shape=(559,), dtype=int64).\n",
      "Memmaping (shape=(559, 2000), dtype=float64) to old file /var/folders/xs/py6_f0f11_d4vvgct3h4zp280000gn/T/joblib_memmaping_pool_44572_4681978768/44572-4792661944-565ad64fe25933183111a39484eb289d.pkl\n",
      "Pickling array (shape=(559,), dtype=int64).\n",
      "Pickling array (shape=(2000,), dtype=float64).\n",
      "Pickling array (shape=(1600,), dtype=int64).\n",
      "Pickling array (shape=(400,), dtype=int64).\n",
      "[CV] ......................... reg_alpha=0.01, score=0.878950 -   2.4s\n",
      "[CV] ......................... reg_alpha=0.01, score=0.881037 -   2.4s\n",
      "[CV] reg_alpha=0.011 .................................................\n",
      "[CV] reg_alpha=0.011 .................................................\n",
      "[CV] ........................ reg_alpha=0.011, score=0.893225 -   2.4s\n",
      "[CV] ......................... reg_alpha=0.01, score=0.870187 -   2.5s\n",
      "[CV] reg_alpha=0.011 .................................................\n",
      "[CV] reg_alpha=0.011 .................................................\n",
      "[Parallel(n_jobs=4)]: Done  13 tasks      | elapsed:    8.9s\n",
      "Pickling array (shape=(559,), dtype=int64).\n",
      "[Parallel(n_jobs=4)]: Done  14 tasks      | elapsed:    8.9s\n",
      "Memmaping (shape=(559, 2000), dtype=float64) to old file /var/folders/xs/py6_f0f11_d4vvgct3h4zp280000gn/T/joblib_memmaping_pool_44572_4681978768/44572-4792661944-565ad64fe25933183111a39484eb289d.pkl\n",
      "Pickling array (shape=(559,), dtype=int64).\n",
      "Pickling array (shape=(2000,), dtype=float64).\n",
      "Pickling array (shape=(1600,), dtype=int64).\n",
      "Pickling array (shape=(400,), dtype=int64).\n",
      "Pickling array (shape=(559,), dtype=int64).\n",
      "Memmaping (shape=(559, 2000), dtype=float64) to old file /var/folders/xs/py6_f0f11_d4vvgct3h4zp280000gn/T/joblib_memmaping_pool_44572_4681978768/44572-4792661944-565ad64fe25933183111a39484eb289d.pkl\n",
      "Pickling array (shape=(559,), dtype=int64).\n",
      "Pickling array (shape=(2000,), dtype=float64).\n",
      "Pickling array (shape=(1600,), dtype=int64).\n",
      "Pickling array (shape=(400,), dtype=int64).\n",
      "[Parallel(n_jobs=4)]: Done  15 tasks      | elapsed:    9.0s\n",
      "Pickling array (shape=(559,), dtype=int64).\n",
      "[Parallel(n_jobs=4)]: Done  16 tasks      | elapsed:    9.0s\n",
      "Memmaping (shape=(559, 2000), dtype=float64) to old file /var/folders/xs/py6_f0f11_d4vvgct3h4zp280000gn/T/joblib_memmaping_pool_44572_4681978768/44572-4792661944-565ad64fe25933183111a39484eb289d.pkl\n",
      "Pickling array (shape=(559,), dtype=int64).\n",
      "Pickling array (shape=(2000,), dtype=float64).\n",
      "Pickling array (shape=(1600,), dtype=int64).\n",
      "Pickling array (shape=(400,), dtype=int64).\n",
      "Pickling array (shape=(559,), dtype=int64).\n",
      "Memmaping (shape=(559, 2000), dtype=float64) to old file /var/folders/xs/py6_f0f11_d4vvgct3h4zp280000gn/T/joblib_memmaping_pool_44572_4681978768/44572-4792661944-565ad64fe25933183111a39484eb289d.pkl\n",
      "Pickling array (shape=(559,), dtype=int64).\n",
      "Pickling array (shape=(2000,), dtype=float64).\n",
      "Pickling array (shape=(1600,), dtype=int64).\n",
      "Pickling array (shape=(400,), dtype=int64).\n",
      "[CV] ........................ reg_alpha=0.011, score=0.878975 -   2.4s\n",
      "[CV] reg_alpha=0.012 .................................................\n",
      "[CV] ........................ reg_alpha=0.011, score=0.915500 -   2.4s\n",
      "[CV] reg_alpha=0.012 .................................................\n",
      "Pickling array (shape=(559,), dtype=int64).[Parallel(n_jobs=4)]: Done  17 tasks      | elapsed:   11.2s\n",
      "\n",
      "Memmaping (shape=(559, 2000), dtype=float64) to old file /var/folders/xs/py6_f0f11_d4vvgct3h4zp280000gn/T/joblib_memmaping_pool_44572_4681978768/44572-4792661944-565ad64fe25933183111a39484eb289d.pkl\n",
      "Pickling array (shape=(559,), dtype=int64).\n",
      "Pickling array (shape=(2000,), dtype=float64).\n",
      "Pickling array (shape=(1600,), dtype=int64).\n",
      "Pickling array (shape=(400,), dtype=int64).\n",
      "[Parallel(n_jobs=4)]: Done  18 tasks      | elapsed:   11.3s\n",
      "Pickling array (shape=(559,), dtype=int64).\n",
      "Memmaping (shape=(559, 2000), dtype=float64) to old file /var/folders/xs/py6_f0f11_d4vvgct3h4zp280000gn/T/joblib_memmaping_pool_44572_4681978768/44572-4792661944-565ad64fe25933183111a39484eb289d.pkl\n",
      "Pickling array (shape=(559,), dtype=int64).\n",
      "Pickling array (shape=(2000,), dtype=float64).\n",
      "Pickling array (shape=(1600,), dtype=int64).\n",
      "Pickling array (shape=(400,), dtype=int64).\n",
      "[CV] ........................ reg_alpha=0.011, score=0.881037 -   2.4s\n",
      "[CV] reg_alpha=0.012 .................................................\n",
      "[CV] ........................ reg_alpha=0.011, score=0.871787 -   2.5s\n",
      "[CV] reg_alpha=0.012 .................................................\n",
      "[Parallel(n_jobs=4)]: Done  19 out of  25 | elapsed:   11.5s remaining:    3.6s\n",
      "Pickling array (shape=(559,), dtype=int64).\n",
      "Memmaping (shape=(559, 2000), dtype=float64) to old file /var/folders/xs/py6_f0f11_d4vvgct3h4zp280000gn/T/joblib_memmaping_pool_44572_4681978768/44572-4792661944-565ad64fe25933183111a39484eb289d.pkl\n",
      "Pickling array (shape=(559,), dtype=int64).\n",
      "Pickling array (shape=(2000,), dtype=float64).\n",
      "Pickling array (shape=(1600,), dtype=int64).\n",
      "Pickling array (shape=(400,), dtype=int64).\n",
      "[Parallel(n_jobs=4)]: Done  20 out of  25 | elapsed:   11.6s remaining:    2.9s\n",
      "[CV] ........................ reg_alpha=0.012, score=0.893225 -   2.5s\n",
      "[CV] ........................ reg_alpha=0.012, score=0.915500 -   2.4s\n",
      "[CV] reg_alpha=0.012 .................................................\n",
      "[Parallel(n_jobs=4)]: Done  21 out of  25 | elapsed:   13.8s remaining:    2.6s\n",
      "[Parallel(n_jobs=4)]: Done  22 out of  25 | elapsed:   13.8s remaining:    1.9s\n",
      "[CV] ........................ reg_alpha=0.012, score=0.878975 -   2.5s\n",
      "[CV] ........................ reg_alpha=0.012, score=0.871787 -   2.5s\n",
      "[Parallel(n_jobs=4)]: Done  23 out of  25 | elapsed:   14.0s remaining:    1.2s\n",
      "[CV] ........................ reg_alpha=0.012, score=0.881037 -   1.3s\n",
      "[Parallel(n_jobs=4)]: Done  25 out of  25 | elapsed:   15.0s remaining:    0.0s\n",
      "[Parallel(n_jobs=4)]: Done  25 out of  25 | elapsed:   15.0s finished\n",
      "{'reg_alpha': 0.011}\n",
      "0.8881049999999998\n"
     ]
    }
   ],
   "source": [
    "model.set_params(subsample=1.0)\n",
    "model.set_params(colsample_bytree=0.6)\n",
    "model.set_params(n_estimators = 21)\n",
    "model.set_params(learning_rate=0.01)\n",
    "model.set_params(max_depth = 5)\n",
    "model.set_params(min_child_weight = 3)\n",
    "model.set_params(gamma = 0.4)\n",
    "\n",
    "param_test5 = {\n",
    "'reg_alpha':[i/1000.0 for i in range(8,13)]\n",
    "}\n",
    "gsearch5 = GridSearchCV(estimator = model, param_grid = param_test5, scoring = 'roc_auc',n_jobs = 4, iid = False, cv = cv_folds, verbose = 100)\n",
    "gsearch5.fit(X,y)\n",
    "print (gsearch5.best_params_)\n",
    "print (gsearch5.best_score_)"
   ]
  },
  {
   "cell_type": "code",
   "execution_count": 151,
   "metadata": {
    "scrolled": true
   },
   "outputs": [
    {
     "name": "stdout",
     "output_type": "stream",
     "text": [
      "Fitting 5 folds for each of 6 candidates, totalling 30 fits\n",
      "[CV] learning_rate=0.04492 ...........................................\n",
      "[CV] learning_rate=0.04492 ...........................................\n",
      "[CV] learning_rate=0.04492 ...........................................\n",
      "[CV] learning_rate=0.04492 ...........................................\n",
      "Pickling array (shape=(559,), dtype=int64).\n",
      "Memmaping (shape=(559, 2000), dtype=float64) to new file /var/folders/xs/py6_f0f11_d4vvgct3h4zp280000gn/T/joblib_memmaping_pool_44572_4695616536/44572-4583030512-565ad64fe25933183111a39484eb289d.pkl\n",
      "Pickling array (shape=(559,), dtype=int64).\n",
      "Pickling array (shape=(2000,), dtype=float64).\n",
      "Pickling array (shape=(1600,), dtype=int64).\n",
      "Pickling array (shape=(400,), dtype=int64).\n",
      "Pickling array (shape=(559,), dtype=int64).\n",
      "Memmaping (shape=(559, 2000), dtype=float64) to old file /var/folders/xs/py6_f0f11_d4vvgct3h4zp280000gn/T/joblib_memmaping_pool_44572_4695616536/44572-4583030512-565ad64fe25933183111a39484eb289d.pkl\n",
      "Pickling array (shape=(559,), dtype=int64).\n",
      "Pickling array (shape=(2000,), dtype=float64).\n",
      "Pickling array (shape=(1600,), dtype=int64).\n",
      "Pickling array (shape=(400,), dtype=int64).\n",
      "Pickling array (shape=(559,), dtype=int64).\n",
      "Memmaping (shape=(559, 2000), dtype=float64) to old file /var/folders/xs/py6_f0f11_d4vvgct3h4zp280000gn/T/joblib_memmaping_pool_44572_4695616536/44572-4583030512-565ad64fe25933183111a39484eb289d.pkl\n",
      "Pickling array (shape=(559,), dtype=int64).\n",
      "Pickling array (shape=(2000,), dtype=float64).\n",
      "Pickling array (shape=(1600,), dtype=int64).\n",
      "Pickling array (shape=(400,), dtype=int64).\n",
      "Pickling array (shape=(559,), dtype=int64).\n",
      "Memmaping (shape=(559, 2000), dtype=float64) to old file /var/folders/xs/py6_f0f11_d4vvgct3h4zp280000gn/T/joblib_memmaping_pool_44572_4695616536/44572-4583030512-565ad64fe25933183111a39484eb289d.pkl\n",
      "Pickling array (shape=(559,), dtype=int64).\n",
      "Pickling array (shape=(2000,), dtype=float64).\n",
      "Pickling array (shape=(1600,), dtype=int64).\n",
      "Pickling array (shape=(400,), dtype=int64).\n",
      "Pickling array (shape=(559,), dtype=int64).\n",
      "Memmaping (shape=(559, 2000), dtype=float64) to old file /var/folders/xs/py6_f0f11_d4vvgct3h4zp280000gn/T/joblib_memmaping_pool_44572_4695616536/44572-4583030512-565ad64fe25933183111a39484eb289d.pkl\n",
      "Pickling array (shape=(559,), dtype=int64).\n",
      "Pickling array (shape=(2000,), dtype=float64).\n",
      "Pickling array (shape=(1600,), dtype=int64).\n",
      "Pickling array (shape=(400,), dtype=int64).\n",
      "Pickling array (shape=(559,), dtype=int64).\n",
      "Memmaping (shape=(559, 2000), dtype=float64) to old file /var/folders/xs/py6_f0f11_d4vvgct3h4zp280000gn/T/joblib_memmaping_pool_44572_4695616536/44572-4583030512-565ad64fe25933183111a39484eb289d.pkl\n",
      "Pickling array (shape=(559,), dtype=int64).\n",
      "Pickling array (shape=(2000,), dtype=float64).\n",
      "Pickling array (shape=(1600,), dtype=int64).\n",
      "Pickling array (shape=(400,), dtype=int64).\n",
      "[CV] .................. learning_rate=0.04492, score=0.910725 -   1.9s\n",
      "[CV] learning_rate=0.04492 ...........................................\n",
      "[CV] .................. learning_rate=0.04492, score=0.893975 -   1.9s\n",
      "[CV] learning_rate=0.04493 ...........................................\n",
      "[CV] .................. learning_rate=0.04492, score=0.893750 -   1.9s\n",
      "[CV] .................. learning_rate=0.04492, score=0.881362 -   1.9s\n",
      "[CV] learning_rate=0.04493 ...........................................\n",
      "[CV] learning_rate=0.04493 ...........................................\n",
      "[Parallel(n_jobs=4)]: Done   1 tasks      | elapsed:    1.9s\n",
      "Pickling array (shape=(559,), dtype=int64).\n",
      "Memmaping (shape=(559, 2000), dtype=float64) to old file /var/folders/xs/py6_f0f11_d4vvgct3h4zp280000gn/T/joblib_memmaping_pool_44572_4695616536/44572-4583030512-565ad64fe25933183111a39484eb289d.pkl\n",
      "Pickling array (shape=(559,), dtype=int64).\n",
      "Pickling array (shape=(2000,), dtype=float64).\n",
      "Pickling array (shape=(1600,), dtype=int64).\n",
      "Pickling array (shape=(400,), dtype=int64).\n",
      "[Parallel(n_jobs=4)]: Done   2 tasks      | elapsed:    2.0s\n",
      "Pickling array (shape=(559,), dtype=int64).\n",
      "Memmaping (shape=(559, 2000), dtype=float64) to old file /var/folders/xs/py6_f0f11_d4vvgct3h4zp280000gn/T/joblib_memmaping_pool_44572_4695616536/44572-4583030512-565ad64fe25933183111a39484eb289d.pkl\n",
      "Pickling array (shape=(559,), dtype=int64).\n",
      "Pickling array (shape=(2000,), dtype=float64).\n",
      "Pickling array (shape=(1600,), dtype=int64).\n",
      "Pickling array (shape=(400,), dtype=int64).\n",
      "[Parallel(n_jobs=4)]: Done   3 tasks      | elapsed:    2.0s\n",
      "Pickling array (shape=(559,), dtype=int64).\n",
      "[Parallel(n_jobs=4)]: Done   4 tasks      | elapsed:    2.0s\n",
      "Memmaping (shape=(559, 2000), dtype=float64) to old file /var/folders/xs/py6_f0f11_d4vvgct3h4zp280000gn/T/joblib_memmaping_pool_44572_4695616536/44572-4583030512-565ad64fe25933183111a39484eb289d.pkl\n",
      "Pickling array (shape=(559,), dtype=int64).\n",
      "Pickling array (shape=(2000,), dtype=float64).\n",
      "Pickling array (shape=(1600,), dtype=int64).\n",
      "Pickling array (shape=(400,), dtype=int64).\n",
      "Pickling array (shape=(559,), dtype=int64).\n",
      "Memmaping (shape=(559, 2000), dtype=float64) to old file /var/folders/xs/py6_f0f11_d4vvgct3h4zp280000gn/T/joblib_memmaping_pool_44572_4695616536/44572-4583030512-565ad64fe25933183111a39484eb289d.pkl\n",
      "Pickling array (shape=(559,), dtype=int64).\n",
      "Pickling array (shape=(2000,), dtype=float64).\n",
      "Pickling array (shape=(1600,), dtype=int64).\n",
      "Pickling array (shape=(400,), dtype=int64).\n",
      "[CV] .................. learning_rate=0.04492, score=0.885362 -   2.2s\n",
      "[CV] .................. learning_rate=0.04493, score=0.893975 -   2.1s\n",
      "[CV] learning_rate=0.04493 ...........................................\n",
      "[CV] learning_rate=0.04493 ...........................................\n",
      "[CV] .................. learning_rate=0.04493, score=0.893750 -   2.1s\n",
      "[CV] learning_rate=0.04494 ...........................................\n",
      "[CV] .................. learning_rate=0.04493, score=0.910725 -   2.1s\n",
      "[CV] learning_rate=0.04494 ...........................................\n",
      "[Parallel(n_jobs=4)]: Done   5 tasks      | elapsed:    4.1s\n",
      "Pickling array (shape=(559,), dtype=int64).\n",
      "Memmaping (shape=(559, 2000), dtype=float64) to old file /var/folders/xs/py6_f0f11_d4vvgct3h4zp280000gn/T/joblib_memmaping_pool_44572_4695616536/44572-4583030512-565ad64fe25933183111a39484eb289d.pkl[Parallel(n_jobs=4)]: Done   6 tasks      | elapsed:    4.1s\n",
      "\n",
      "Pickling array (shape=(559,), dtype=int64).\n",
      "Pickling array (shape=(2000,), dtype=float64).\n",
      "Pickling array (shape=(1600,), dtype=int64).\n",
      "Pickling array (shape=(400,), dtype=int64).\n",
      "Pickling array (shape=(559,), dtype=int64).\n",
      "Memmaping (shape=(559, 2000), dtype=float64) to old file /var/folders/xs/py6_f0f11_d4vvgct3h4zp280000gn/T/joblib_memmaping_pool_44572_4695616536/44572-4583030512-565ad64fe25933183111a39484eb289d.pkl\n",
      "Pickling array (shape=(559,), dtype=int64).\n",
      "Pickling array (shape=(2000,), dtype=float64).\n",
      "Pickling array (shape=(1600,), dtype=int64).\n",
      "Pickling array (shape=(400,), dtype=int64).\n",
      "[Parallel(n_jobs=4)]: Done   7 tasks      | elapsed:    4.2s\n",
      "Pickling array (shape=(559,), dtype=int64).\n",
      "Memmaping (shape=(559, 2000), dtype=float64) to old file /var/folders/xs/py6_f0f11_d4vvgct3h4zp280000gn/T/joblib_memmaping_pool_44572_4695616536/44572-4583030512-565ad64fe25933183111a39484eb289d.pkl\n",
      "Pickling array (shape=(559,), dtype=int64).\n",
      "Pickling array (shape=(2000,), dtype=float64).\n",
      "Pickling array (shape=(1600,), dtype=int64).\n",
      "Pickling array (shape=(400,), dtype=int64).\n",
      "[Parallel(n_jobs=4)]: Done   8 tasks      | elapsed:    4.2s\n",
      "Pickling array (shape=(559,), dtype=int64).\n",
      "Memmaping (shape=(559, 2000), dtype=float64) to old file /var/folders/xs/py6_f0f11_d4vvgct3h4zp280000gn/T/joblib_memmaping_pool_44572_4695616536/44572-4583030512-565ad64fe25933183111a39484eb289d.pkl\n",
      "Pickling array (shape=(559,), dtype=int64).\n",
      "Pickling array (shape=(2000,), dtype=float64).\n",
      "Pickling array (shape=(1600,), dtype=int64).\n",
      "Pickling array (shape=(400,), dtype=int64).\n",
      "[CV] .................. learning_rate=0.04494, score=0.894500 -   2.1s\n",
      "[CV] learning_rate=0.04494 ...........................................\n",
      "[CV] .................. learning_rate=0.04493, score=0.881362 -   2.1s\n",
      "[CV] learning_rate=0.04494 ...........................................\n",
      "[CV] .................. learning_rate=0.04493, score=0.885362 -   2.2s\n"
     ]
    },
    {
     "name": "stdout",
     "output_type": "stream",
     "text": [
      "[CV] .................. learning_rate=0.04494, score=0.910725 -   2.1s\n",
      "[CV] learning_rate=0.04494 ...........................................\n",
      "[CV] learning_rate=0.04495 ...........................................\n",
      "[Parallel(n_jobs=4)]: Done   9 tasks      | elapsed:    6.3s\n",
      "Pickling array (shape=(559,), dtype=int64).\n",
      "Memmaping (shape=(559, 2000), dtype=float64) to old file /var/folders/xs/py6_f0f11_d4vvgct3h4zp280000gn/T/joblib_memmaping_pool_44572_4695616536/44572-4583030512-565ad64fe25933183111a39484eb289d.pkl\n",
      "Pickling array (shape=(559,), dtype=int64).\n",
      "Pickling array (shape=(2000,), dtype=float64).\n",
      "Pickling array (shape=(1600,), dtype=int64).\n",
      "Pickling array (shape=(400,), dtype=int64).\n",
      "[Parallel(n_jobs=4)]: Done  10 tasks      | elapsed:    6.3s\n",
      "Pickling array (shape=(559,), dtype=int64).\n",
      "Memmaping (shape=(559, 2000), dtype=float64) to old file /var/folders/xs/py6_f0f11_d4vvgct3h4zp280000gn/T/joblib_memmaping_pool_44572_4695616536/44572-4583030512-565ad64fe25933183111a39484eb289d.pkl\n",
      "Pickling array (shape=(559,), dtype=int64).\n",
      "Pickling array (shape=(2000,), dtype=float64).\n",
      "Pickling array (shape=(1600,), dtype=int64).\n",
      "Pickling array (shape=(400,), dtype=int64).\n",
      "[Parallel(n_jobs=4)]: Done  11 tasks      | elapsed:    6.3s\n",
      "Pickling array (shape=(559,), dtype=int64).\n",
      "[Parallel(n_jobs=4)]: Done  12 tasks      | elapsed:    6.3s\n",
      "Memmaping (shape=(559, 2000), dtype=float64) to old file /var/folders/xs/py6_f0f11_d4vvgct3h4zp280000gn/T/joblib_memmaping_pool_44572_4695616536/44572-4583030512-565ad64fe25933183111a39484eb289d.pkl\n",
      "Pickling array (shape=(559,), dtype=int64).\n",
      "Pickling array (shape=(2000,), dtype=float64).\n",
      "Pickling array (shape=(1600,), dtype=int64).\n",
      "Pickling array (shape=(400,), dtype=int64).\n",
      "Pickling array (shape=(559,), dtype=int64).\n",
      "Memmaping (shape=(559, 2000), dtype=float64) to old file /var/folders/xs/py6_f0f11_d4vvgct3h4zp280000gn/T/joblib_memmaping_pool_44572_4695616536/44572-4583030512-565ad64fe25933183111a39484eb289d.pkl\n",
      "Pickling array (shape=(559,), dtype=int64).\n",
      "Pickling array (shape=(2000,), dtype=float64).\n",
      "Pickling array (shape=(1600,), dtype=int64).\n",
      "Pickling array (shape=(400,), dtype=int64).\n",
      "[CV] .................. learning_rate=0.04494, score=0.881362 -   2.0s\n",
      "[CV] .................. learning_rate=0.04494, score=0.895050 -   2.0s\n",
      "[CV] learning_rate=0.04495 ...........................................\n",
      "[CV] learning_rate=0.04495 ...........................................\n",
      "[CV] .................. learning_rate=0.04495, score=0.894500 -   2.0s\n",
      "[CV] learning_rate=0.04495 ...........................................\n",
      "[CV] .................. learning_rate=0.04494, score=0.885362 -   2.1s\n",
      "[CV] learning_rate=0.04495 ...........................................\n",
      "[Parallel(n_jobs=4)]: Done  13 tasks      | elapsed:    8.3s\n",
      "Pickling array (shape=(559,), dtype=int64).\n",
      "[Parallel(n_jobs=4)]: Done  14 tasks      | elapsed:    8.3s\n",
      "Memmaping (shape=(559, 2000), dtype=float64) to old file /var/folders/xs/py6_f0f11_d4vvgct3h4zp280000gn/T/joblib_memmaping_pool_44572_4695616536/44572-4583030512-565ad64fe25933183111a39484eb289d.pkl\n",
      "Pickling array (shape=(559,), dtype=int64).\n",
      "Pickling array (shape=(2000,), dtype=float64).\n",
      "Pickling array (shape=(1600,), dtype=int64).\n",
      "Pickling array (shape=(400,), dtype=int64).\n",
      "Pickling array (shape=(559,), dtype=int64).\n",
      "Memmaping (shape=(559, 2000), dtype=float64) to old file /var/folders/xs/py6_f0f11_d4vvgct3h4zp280000gn/T/joblib_memmaping_pool_44572_4695616536/44572-4583030512-565ad64fe25933183111a39484eb289d.pkl\n",
      "Pickling array (shape=(559,), dtype=int64).\n",
      "Pickling array (shape=(2000,), dtype=float64).\n",
      "Pickling array (shape=(1600,), dtype=int64).\n",
      "Pickling array (shape=(400,), dtype=int64).\n",
      "[Parallel(n_jobs=4)]: Done  15 tasks      | elapsed:    8.4s\n",
      "Pickling array (shape=(559,), dtype=int64).\n",
      "Memmaping (shape=(559, 2000), dtype=float64) to old file /var/folders/xs/py6_f0f11_d4vvgct3h4zp280000gn/T/joblib_memmaping_pool_44572_4695616536/44572-4583030512-565ad64fe25933183111a39484eb289d.pkl\n",
      "Pickling array (shape=(559,), dtype=int64).\n",
      "Pickling array (shape=(2000,), dtype=float64).\n",
      "Pickling array (shape=(1600,), dtype=int64).\n",
      "Pickling array (shape=(400,), dtype=int64).\n",
      "[Parallel(n_jobs=4)]: Done  16 tasks      | elapsed:    8.5s\n",
      "Pickling array (shape=(559,), dtype=int64).\n",
      "Memmaping (shape=(559, 2000), dtype=float64) to old file /var/folders/xs/py6_f0f11_d4vvgct3h4zp280000gn/T/joblib_memmaping_pool_44572_4695616536/44572-4583030512-565ad64fe25933183111a39484eb289d.pkl\n",
      "Pickling array (shape=(559,), dtype=int64).\n",
      "Pickling array (shape=(2000,), dtype=float64).\n",
      "Pickling array (shape=(1600,), dtype=int64).\n",
      "Pickling array (shape=(400,), dtype=int64).\n",
      "[CV] .................. learning_rate=0.04495, score=0.881362 -   1.9s\n",
      "[CV] learning_rate=0.04496 ...........................................\n",
      "[CV] .................. learning_rate=0.04495, score=0.895050 -   2.0s\n",
      "[CV] learning_rate=0.04496 ...........................................\n",
      "[CV] .................. learning_rate=0.04495, score=0.910750 -   2.1s\n",
      "[CV] learning_rate=0.04496 ...........................................\n",
      "[Parallel(n_jobs=4)]: Done  17 tasks      | elapsed:   10.3s\n",
      "Pickling array (shape=(559,), dtype=int64).\n",
      "Memmaping (shape=(559, 2000), dtype=float64) to old file /var/folders/xs/py6_f0f11_d4vvgct3h4zp280000gn/T/joblib_memmaping_pool_44572_4695616536/44572-4583030512-565ad64fe25933183111a39484eb289d.pkl\n",
      "Pickling array (shape=(559,), dtype=int64).\n",
      "Pickling array (shape=(2000,), dtype=float64).\n",
      "Pickling array (shape=(1600,), dtype=int64).\n",
      "Pickling array (shape=(400,), dtype=int64).\n",
      "[Parallel(n_jobs=4)]: Done  18 tasks      | elapsed:   10.4s\n",
      "Pickling array (shape=(559,), dtype=int64).\n",
      "Memmaping (shape=(559, 2000), dtype=float64) to old file /var/folders/xs/py6_f0f11_d4vvgct3h4zp280000gn/T/joblib_memmaping_pool_44572_4695616536/44572-4583030512-565ad64fe25933183111a39484eb289d.pkl\n",
      "Pickling array (shape=(559,), dtype=int64).\n",
      "Pickling array (shape=(2000,), dtype=float64).\n",
      "Pickling array (shape=(1600,), dtype=int64).\n",
      "Pickling array (shape=(400,), dtype=int64).\n",
      "[Parallel(n_jobs=4)]: Done  19 tasks      | elapsed:   10.4s\n",
      "Pickling array (shape=(559,), dtype=int64).\n",
      "Memmaping (shape=(559, 2000), dtype=float64) to old file /var/folders/xs/py6_f0f11_d4vvgct3h4zp280000gn/T/joblib_memmaping_pool_44572_4695616536/44572-4583030512-565ad64fe25933183111a39484eb289d.pkl\n",
      "Pickling array (shape=(559,), dtype=int64).\n",
      "Pickling array (shape=(2000,), dtype=float64).\n",
      "Pickling array (shape=(1600,), dtype=int64).\n",
      "Pickling array (shape=(400,), dtype=int64).\n",
      "[CV] .................. learning_rate=0.04495, score=0.885362 -   2.0s\n",
      "[CV] learning_rate=0.04496 ...........................................\n",
      "[Parallel(n_jobs=4)]: Done  20 tasks      | elapsed:   10.5s\n",
      "Pickling array (shape=(559,), dtype=int64).\n",
      "Memmaping (shape=(559, 2000), dtype=float64) to old file /var/folders/xs/py6_f0f11_d4vvgct3h4zp280000gn/T/joblib_memmaping_pool_44572_4695616536/44572-4583030512-565ad64fe25933183111a39484eb289d.pkl\n",
      "Pickling array (shape=(559,), dtype=int64).\n",
      "Pickling array (shape=(2000,), dtype=float64).\n",
      "Pickling array (shape=(1600,), dtype=int64).\n",
      "Pickling array (shape=(400,), dtype=int64).\n",
      "[CV] .................. learning_rate=0.04496, score=0.894500 -   1.9s\n",
      "[CV] learning_rate=0.04496 ...........................................\n",
      "[CV] .................. learning_rate=0.04496, score=0.910800 -   1.9s\n",
      "[CV] learning_rate=0.04497 ...........................................\n",
      "[CV] .................. learning_rate=0.04496, score=0.895050 -   1.9s\n",
      "[CV] learning_rate=0.04497 ...........................................\n",
      "[CV] .................. learning_rate=0.04496, score=0.881362 -   1.9s\n",
      "[CV] learning_rate=0.04497 ...........................................\n",
      "[Parallel(n_jobs=4)]: Done  21 tasks      | elapsed:   12.2s\n",
      "Pickling array (shape=(559,), dtype=int64).\n",
      "Memmaping (shape=(559, 2000), dtype=float64) to old file /var/folders/xs/py6_f0f11_d4vvgct3h4zp280000gn/T/joblib_memmaping_pool_44572_4695616536/44572-4583030512-565ad64fe25933183111a39484eb289d.pkl\n",
      "Pickling array (shape=(559,), dtype=int64).\n",
      "Pickling array (shape=(2000,), dtype=float64).\n",
      "Pickling array (shape=(1600,), dtype=int64).\n",
      "Pickling array (shape=(400,), dtype=int64).\n",
      "Pickling array (shape=(559,), dtype=int64).[Parallel(n_jobs=4)]: Done  22 tasks      | elapsed:   12.3s\n",
      "\n",
      "Memmaping (shape=(559, 2000), dtype=float64) to old file /var/folders/xs/py6_f0f11_d4vvgct3h4zp280000gn/T/joblib_memmaping_pool_44572_4695616536/44572-4583030512-565ad64fe25933183111a39484eb289d.pkl\n",
      "Pickling array (shape=(559,), dtype=int64).\n",
      "Pickling array (shape=(2000,), dtype=float64).\n",
      "Pickling array (shape=(1600,), dtype=int64).\n",
      "Pickling array (shape=(400,), dtype=int64).\n",
      "[Parallel(n_jobs=4)]: Done  23 tasks      | elapsed:   12.4s\n",
      "Pickling array (shape=(559,), dtype=int64).\n",
      "Memmaping (shape=(559, 2000), dtype=float64) to old file /var/folders/xs/py6_f0f11_d4vvgct3h4zp280000gn/T/joblib_memmaping_pool_44572_4695616536/44572-4583030512-565ad64fe25933183111a39484eb289d.pkl\n",
      "Pickling array (shape=(559,), dtype=int64).\n",
      "Pickling array (shape=(2000,), dtype=float64).\n",
      "Pickling array (shape=(1600,), dtype=int64).\n",
      "Pickling array (shape=(400,), dtype=int64).\n",
      "[Parallel(n_jobs=4)]: Done  24 out of  30 | elapsed:   12.4s remaining:    3.1s\n",
      "Pickling array (shape=(559,), dtype=int64).\n",
      "Memmaping (shape=(559, 2000), dtype=float64) to old file /var/folders/xs/py6_f0f11_d4vvgct3h4zp280000gn/T/joblib_memmaping_pool_44572_4695616536/44572-4583030512-565ad64fe25933183111a39484eb289d.pkl\n",
      "Pickling array (shape=(559,), dtype=int64).\n",
      "Pickling array (shape=(2000,), dtype=float64).\n",
      "Pickling array (shape=(1600,), dtype=int64).\n",
      "Pickling array (shape=(400,), dtype=int64).\n"
     ]
    },
    {
     "name": "stdout",
     "output_type": "stream",
     "text": [
      "[CV] .................. learning_rate=0.04496, score=0.885362 -   1.9s\n",
      "[CV] .................. learning_rate=0.04497, score=0.894500 -   1.9s\n",
      "[CV] learning_rate=0.04497 ...........................................\n",
      "[CV] learning_rate=0.04497 ...........................................\n",
      "[CV] .................. learning_rate=0.04497, score=0.910800 -   1.9s\n",
      "[CV] .................. learning_rate=0.04497, score=0.895050 -   1.9s\n",
      "[Parallel(n_jobs=4)]: Done  25 out of  30 | elapsed:   14.2s remaining:    2.8s\n",
      "[Parallel(n_jobs=4)]: Done  26 out of  30 | elapsed:   14.2s remaining:    2.2s\n",
      "[Parallel(n_jobs=4)]: Done  27 out of  30 | elapsed:   14.3s remaining:    1.6s\n",
      "[Parallel(n_jobs=4)]: Done  28 out of  30 | elapsed:   14.3s remaining:    1.0s\n",
      "[CV] .................. learning_rate=0.04497, score=0.881362 -   1.2s\n",
      "[CV] .................. learning_rate=0.04497, score=0.885188 -   1.2s\n",
      "[Parallel(n_jobs=4)]: Done  30 out of  30 | elapsed:   15.5s remaining:    0.0s\n",
      "[Parallel(n_jobs=4)]: Done  30 out of  30 | elapsed:   15.5s finished\n",
      "{'learning_rate': 0.04496}\n",
      "0.8934149999999998\n"
     ]
    }
   ],
   "source": [
    "model.set_params(subsample=1.0)\n",
    "model.set_params(colsample_bytree=0.6)\n",
    "model.set_params(n_estimators = 21)\n",
    "model.set_params(reg_alpha=0.011)\n",
    "model.set_params(max_depth = 5)\n",
    "model.set_params(min_child_weight = 3)\n",
    "model.set_params(gamma = 0.4)\n",
    "\n",
    "param_test6 = {\n",
    "'learning_rate':[i/100000.0 for i in range(4492,4498,1)]\n",
    "}\n",
    "gsearch6 = GridSearchCV(estimator = model, param_grid = param_test6, scoring = 'roc_auc',n_jobs = 4, iid = False, cv = cv_folds, verbose = 200)\n",
    "gsearch6.fit(X,y)\n",
    "print (gsearch6.best_params_)\n",
    "print (gsearch6.best_score_)"
   ]
  },
  {
   "cell_type": "code",
   "execution_count": 157,
   "metadata": {
    "scrolled": true
   },
   "outputs": [
    {
     "name": "stdout",
     "output_type": "stream",
     "text": [
      "Fitting 5 folds for each of 5 candidates, totalling 25 fits\n",
      "[CV] reg_lambda=0.001 ................................................\n",
      "[CV] reg_lambda=0.001 ................................................\n",
      "[CV] reg_lambda=0.001 ................................................\n",
      "[CV] reg_lambda=0.001 ................................................\n",
      "Pickling array (shape=(559,), dtype=int64).\n",
      "Memmaping (shape=(559, 2000), dtype=float64) to new file /var/folders/xs/py6_f0f11_d4vvgct3h4zp280000gn/T/joblib_memmaping_pool_44572_4682703144/44572-4744992080-565ad64fe25933183111a39484eb289d.pkl\n",
      "Pickling array (shape=(559,), dtype=int64).\n",
      "Pickling array (shape=(2000,), dtype=float64).\n",
      "Pickling array (shape=(1600,), dtype=int64).\n",
      "Pickling array (shape=(400,), dtype=int64).\n",
      "Pickling array (shape=(559,), dtype=int64).\n",
      "Memmaping (shape=(559, 2000), dtype=float64) to old file /var/folders/xs/py6_f0f11_d4vvgct3h4zp280000gn/T/joblib_memmaping_pool_44572_4682703144/44572-4744992080-565ad64fe25933183111a39484eb289d.pkl\n",
      "Pickling array (shape=(559,), dtype=int64).\n",
      "Pickling array (shape=(2000,), dtype=float64).\n",
      "Pickling array (shape=(1600,), dtype=int64).\n",
      "Pickling array (shape=(400,), dtype=int64).\n",
      "Pickling array (shape=(559,), dtype=int64).\n",
      "Memmaping (shape=(559, 2000), dtype=float64) to old file /var/folders/xs/py6_f0f11_d4vvgct3h4zp280000gn/T/joblib_memmaping_pool_44572_4682703144/44572-4744992080-565ad64fe25933183111a39484eb289d.pkl\n",
      "Pickling array (shape=(559,), dtype=int64).\n",
      "Pickling array (shape=(2000,), dtype=float64).\n",
      "Pickling array (shape=(1600,), dtype=int64).\n",
      "Pickling array (shape=(400,), dtype=int64).\n",
      "Pickling array (shape=(559,), dtype=int64).\n",
      "Memmaping (shape=(559, 2000), dtype=float64) to old file /var/folders/xs/py6_f0f11_d4vvgct3h4zp280000gn/T/joblib_memmaping_pool_44572_4682703144/44572-4744992080-565ad64fe25933183111a39484eb289d.pkl\n",
      "Pickling array (shape=(559,), dtype=int64).\n",
      "Pickling array (shape=(2000,), dtype=float64).\n",
      "Pickling array (shape=(1600,), dtype=int64).\n",
      "Pickling array (shape=(400,), dtype=int64).\n",
      "Pickling array (shape=(559,), dtype=int64).\n",
      "Memmaping (shape=(559, 2000), dtype=float64) to old file /var/folders/xs/py6_f0f11_d4vvgct3h4zp280000gn/T/joblib_memmaping_pool_44572_4682703144/44572-4744992080-565ad64fe25933183111a39484eb289d.pkl\n",
      "Pickling array (shape=(559,), dtype=int64).\n",
      "Pickling array (shape=(2000,), dtype=float64).\n",
      "Pickling array (shape=(1600,), dtype=int64).\n",
      "Pickling array (shape=(400,), dtype=int64).\n",
      "Pickling array (shape=(559,), dtype=int64).\n",
      "Memmaping (shape=(559, 2000), dtype=float64) to old file /var/folders/xs/py6_f0f11_d4vvgct3h4zp280000gn/T/joblib_memmaping_pool_44572_4682703144/44572-4744992080-565ad64fe25933183111a39484eb289d.pkl\n",
      "Pickling array (shape=(559,), dtype=int64).\n",
      "Pickling array (shape=(2000,), dtype=float64).\n",
      "Pickling array (shape=(1600,), dtype=int64).\n",
      "Pickling array (shape=(400,), dtype=int64).\n",
      "[CV] ....................... reg_lambda=0.001, score=0.913288 -   2.0s\n",
      "[CV] reg_lambda=0.001 ................................................\n",
      "[CV] ....................... reg_lambda=0.001, score=0.893250 -   2.0s\n",
      "[CV] reg_lambda=0.005 ................................................\n",
      "[CV] ....................... reg_lambda=0.001, score=0.878200 -   2.0s\n",
      "[CV] ....................... reg_lambda=0.001, score=0.893625 -   2.0s\n",
      "[CV] reg_lambda=0.005 ................................................\n",
      "[CV] reg_lambda=0.005 ................................................\n",
      "[Parallel(n_jobs=4)]: Done   1 tasks      | elapsed:    2.1s\n",
      "Pickling array (shape=(559,), dtype=int64).\n",
      "Memmaping (shape=(559, 2000), dtype=float64) to old file /var/folders/xs/py6_f0f11_d4vvgct3h4zp280000gn/T/joblib_memmaping_pool_44572_4682703144/44572-4744992080-565ad64fe25933183111a39484eb289d.pkl\n",
      "Pickling array (shape=(559,), dtype=int64).\n",
      "Pickling array (shape=(2000,), dtype=float64).\n",
      "Pickling array (shape=(1600,), dtype=int64).\n",
      "Pickling array (shape=(400,), dtype=int64).\n",
      "Pickling array (shape=(559,), dtype=int64).\n",
      "[Parallel(n_jobs=4)]: Done   2 tasks      | elapsed:    2.1s\n",
      "Memmaping (shape=(559, 2000), dtype=float64) to old file /var/folders/xs/py6_f0f11_d4vvgct3h4zp280000gn/T/joblib_memmaping_pool_44572_4682703144/44572-4744992080-565ad64fe25933183111a39484eb289d.pkl\n",
      "Pickling array (shape=(559,), dtype=int64).\n",
      "Pickling array (shape=(2000,), dtype=float64).\n",
      "Pickling array (shape=(1600,), dtype=int64).\n",
      "Pickling array (shape=(400,), dtype=int64).\n",
      "Pickling array (shape=(559,), dtype=int64).[Parallel(n_jobs=4)]: Done   3 tasks      | elapsed:    2.1s\n",
      "\n",
      "Memmaping (shape=(559, 2000), dtype=float64) to old file /var/folders/xs/py6_f0f11_d4vvgct3h4zp280000gn/T/joblib_memmaping_pool_44572_4682703144/44572-4744992080-565ad64fe25933183111a39484eb289d.pkl\n",
      "Pickling array (shape=(559,), dtype=int64).\n",
      "Pickling array (shape=(2000,), dtype=float64).\n",
      "Pickling array (shape=(1600,), dtype=int64).\n",
      "Pickling array (shape=(400,), dtype=int64).\n",
      "[Parallel(n_jobs=4)]: Done   4 tasks      | elapsed:    2.1s\n",
      "Pickling array (shape=(559,), dtype=int64).\n",
      "Memmaping (shape=(559, 2000), dtype=float64) to old file /var/folders/xs/py6_f0f11_d4vvgct3h4zp280000gn/T/joblib_memmaping_pool_44572_4682703144/44572-4744992080-565ad64fe25933183111a39484eb289d.pkl\n",
      "Pickling array (shape=(559,), dtype=int64).\n",
      "Pickling array (shape=(2000,), dtype=float64).\n",
      "Pickling array (shape=(1600,), dtype=int64).\n",
      "Pickling array (shape=(400,), dtype=int64).\n",
      "[CV] ....................... reg_lambda=0.005, score=0.893250 -   1.8s\n",
      "[CV] reg_lambda=0.005 ................................................\n",
      "[CV] ....................... reg_lambda=0.001, score=0.885750 -   1.8s\n",
      "[CV] ....................... reg_lambda=0.005, score=0.913288 -   1.8s\n",
      "[CV] reg_lambda=0.005 ................................................\n",
      "[CV] reg_lambda=0.009 ................................................\n",
      "[CV] ....................... reg_lambda=0.005, score=0.893625 -   1.8s\n",
      "[CV] reg_lambda=0.009 ................................................\n",
      "[Parallel(n_jobs=4)]: Done   5 tasks      | elapsed:    3.9s\n",
      "Pickling array (shape=(559,), dtype=int64).\n",
      "Memmaping (shape=(559, 2000), dtype=float64) to old file /var/folders/xs/py6_f0f11_d4vvgct3h4zp280000gn/T/joblib_memmaping_pool_44572_4682703144/44572-4744992080-565ad64fe25933183111a39484eb289d.pkl\n",
      "Pickling array (shape=(559,), dtype=int64).\n",
      "Pickling array (shape=(2000,), dtype=float64).\n",
      "Pickling array (shape=(1600,), dtype=int64).\n",
      "Pickling array (shape=(400,), dtype=int64).\n",
      "[Parallel(n_jobs=4)]: Done   6 tasks      | elapsed:    3.9s\n",
      "Pickling array (shape=(559,), dtype=int64).\n",
      "[Parallel(n_jobs=4)]: Done   7 tasks      | elapsed:    3.9s\n",
      "Memmaping (shape=(559, 2000), dtype=float64) to old file /var/folders/xs/py6_f0f11_d4vvgct3h4zp280000gn/T/joblib_memmaping_pool_44572_4682703144/44572-4744992080-565ad64fe25933183111a39484eb289d.pkl\n",
      "Pickling array (shape=(559,), dtype=int64).\n",
      "Pickling array (shape=(2000,), dtype=float64).\n",
      "Pickling array (shape=(1600,), dtype=int64).\n",
      "Pickling array (shape=(400,), dtype=int64).\n",
      "Pickling array (shape=(559,), dtype=int64).\n",
      "Memmaping (shape=(559, 2000), dtype=float64) to old file /var/folders/xs/py6_f0f11_d4vvgct3h4zp280000gn/T/joblib_memmaping_pool_44572_4682703144/44572-4744992080-565ad64fe25933183111a39484eb289d.pkl\n",
      "Pickling array (shape=(559,), dtype=int64).\n",
      "Pickling array (shape=(2000,), dtype=float64).\n",
      "Pickling array (shape=(1600,), dtype=int64).\n",
      "Pickling array (shape=(400,), dtype=int64).\n",
      "Pickling array (shape=(559,), dtype=int64).[Parallel(n_jobs=4)]: Done   8 tasks      | elapsed:    4.0s\n",
      "\n",
      "Memmaping (shape=(559, 2000), dtype=float64) to old file /var/folders/xs/py6_f0f11_d4vvgct3h4zp280000gn/T/joblib_memmaping_pool_44572_4682703144/44572-4744992080-565ad64fe25933183111a39484eb289d.pkl\n",
      "Pickling array (shape=(559,), dtype=int64).\n",
      "Pickling array (shape=(2000,), dtype=float64).\n",
      "Pickling array (shape=(1600,), dtype=int64).\n",
      "Pickling array (shape=(400,), dtype=int64).\n",
      "[CV] ....................... reg_lambda=0.005, score=0.888287 -   1.8s\n",
      "[CV] ....................... reg_lambda=0.005, score=0.878900 -   1.8s\n",
      "[CV] reg_lambda=0.009 ................................................\n",
      "[CV] reg_lambda=0.009 ................................................\n",
      "[CV] ....................... reg_lambda=0.009, score=0.893225 -   1.8s\n"
     ]
    },
    {
     "name": "stdout",
     "output_type": "stream",
     "text": [
      "[CV] reg_lambda=0.009 ................................................\n",
      "[CV] ....................... reg_lambda=0.009, score=0.913288 -   1.8s\n",
      "[CV] reg_lambda=0.013 ................................................\n",
      "[Parallel(n_jobs=4)]: Done   9 tasks      | elapsed:    5.8s\n",
      "Pickling array (shape=(559,), dtype=int64).\n",
      "Memmaping (shape=(559, 2000), dtype=float64) to old file /var/folders/xs/py6_f0f11_d4vvgct3h4zp280000gn/T/joblib_memmaping_pool_44572_4682703144/44572-4744992080-565ad64fe25933183111a39484eb289d.pkl\n",
      "Pickling array (shape=(559,), dtype=int64).\n",
      "Pickling array (shape=(2000,), dtype=float64).\n",
      "Pickling array (shape=(1600,), dtype=int64).\n",
      "Pickling array (shape=(400,), dtype=int64).\n",
      "[Parallel(n_jobs=4)]: Done  10 tasks      | elapsed:    5.8s\n",
      "Pickling array (shape=(559,), dtype=int64).\n",
      "Memmaping (shape=(559, 2000), dtype=float64) to old file /var/folders/xs/py6_f0f11_d4vvgct3h4zp280000gn/T/joblib_memmaping_pool_44572_4682703144/44572-4744992080-565ad64fe25933183111a39484eb289d.pkl\n",
      "Pickling array (shape=(559,), dtype=int64).\n",
      "Pickling array (shape=(2000,), dtype=float64).\n",
      "Pickling array (shape=(1600,), dtype=int64).\n",
      "Pickling array (shape=(400,), dtype=int64).\n",
      "[Parallel(n_jobs=4)]: Done  11 tasks      | elapsed:    5.8s\n",
      "Pickling array (shape=(559,), dtype=int64).\n",
      "Memmaping (shape=(559, 2000), dtype=float64) to old file /var/folders/xs/py6_f0f11_d4vvgct3h4zp280000gn/T/joblib_memmaping_pool_44572_4682703144/44572-4744992080-565ad64fe25933183111a39484eb289d.pkl\n",
      "Pickling array (shape=(559,), dtype=int64).\n",
      "Pickling array (shape=(2000,), dtype=float64).\n",
      "Pickling array (shape=(1600,), dtype=int64).\n",
      "Pickling array (shape=(400,), dtype=int64).\n",
      "[Parallel(n_jobs=4)]: Done  12 tasks      | elapsed:    5.9s\n",
      "Pickling array (shape=(559,), dtype=int64).\n",
      "Memmaping (shape=(559, 2000), dtype=float64) to old file /var/folders/xs/py6_f0f11_d4vvgct3h4zp280000gn/T/joblib_memmaping_pool_44572_4682703144/44572-4744992080-565ad64fe25933183111a39484eb289d.pkl\n",
      "Pickling array (shape=(559,), dtype=int64).\n",
      "Pickling array (shape=(2000,), dtype=float64).\n",
      "Pickling array (shape=(1600,), dtype=int64).\n",
      "Pickling array (shape=(400,), dtype=int64).\n",
      "[CV] ....................... reg_lambda=0.009, score=0.893650 -   1.8s\n",
      "[CV] reg_lambda=0.013 ................................................\n",
      "[CV] ....................... reg_lambda=0.009, score=0.878875 -   1.9s\n",
      "[CV] reg_lambda=0.013 ................................................\n",
      "[CV] ....................... reg_lambda=0.009, score=0.887850 -   1.8s\n",
      "[CV] reg_lambda=0.013 ................................................\n",
      "[CV] ....................... reg_lambda=0.013, score=0.893225 -   1.8s\n",
      "[CV] reg_lambda=0.013 ................................................\n",
      "Pickling array (shape=(559,), dtype=int64).\n",
      "[Parallel(n_jobs=4)]: Done  13 tasks      | elapsed:    7.6s\n",
      "Memmaping (shape=(559, 2000), dtype=float64) to old file /var/folders/xs/py6_f0f11_d4vvgct3h4zp280000gn/T/joblib_memmaping_pool_44572_4682703144/44572-4744992080-565ad64fe25933183111a39484eb289d.pkl\n",
      "Pickling array (shape=(559,), dtype=int64).\n",
      "Pickling array (shape=(2000,), dtype=float64).\n",
      "Pickling array (shape=(1600,), dtype=int64).\n",
      "Pickling array (shape=(400,), dtype=int64).\n",
      "[Parallel(n_jobs=4)]: Done  14 tasks      | elapsed:    7.6s\n",
      "Pickling array (shape=(559,), dtype=int64).\n",
      "Memmaping (shape=(559, 2000), dtype=float64) to old file /var/folders/xs/py6_f0f11_d4vvgct3h4zp280000gn/T/joblib_memmaping_pool_44572_4682703144/44572-4744992080-565ad64fe25933183111a39484eb289d.pkl\n",
      "Pickling array (shape=(559,), dtype=int64).\n",
      "Pickling array (shape=(2000,), dtype=float64).\n",
      "Pickling array (shape=(1600,), dtype=int64).\n",
      "Pickling array (shape=(400,), dtype=int64).\n",
      "[Parallel(n_jobs=4)]: Done  15 tasks      | elapsed:    7.7s\n",
      "Pickling array (shape=(559,), dtype=int64).\n",
      "Memmaping (shape=(559, 2000), dtype=float64) to old file /var/folders/xs/py6_f0f11_d4vvgct3h4zp280000gn/T/joblib_memmaping_pool_44572_4682703144/44572-4744992080-565ad64fe25933183111a39484eb289d.pkl\n",
      "Pickling array (shape=(559,), dtype=int64).\n",
      "Pickling array (shape=(2000,), dtype=float64).\n",
      "Pickling array (shape=(1600,), dtype=int64).\n",
      "Pickling array (shape=(400,), dtype=int64).\n",
      "[Parallel(n_jobs=4)]: Done  16 tasks      | elapsed:    7.7s\n",
      "Pickling array (shape=(559,), dtype=int64).\n",
      "Memmaping (shape=(559, 2000), dtype=float64) to old file /var/folders/xs/py6_f0f11_d4vvgct3h4zp280000gn/T/joblib_memmaping_pool_44572_4682703144/44572-4744992080-565ad64fe25933183111a39484eb289d.pkl\n",
      "Pickling array (shape=(559,), dtype=int64).\n",
      "Pickling array (shape=(2000,), dtype=float64).\n",
      "Pickling array (shape=(1600,), dtype=int64).\n",
      "Pickling array (shape=(400,), dtype=int64).\n",
      "[CV] ....................... reg_lambda=0.013, score=0.913312 -   2.0s\n",
      "[CV] reg_lambda=0.017 ................................................\n",
      "[CV] ....................... reg_lambda=0.013, score=0.878875 -   2.2s\n",
      "[CV] ....................... reg_lambda=0.013, score=0.887825 -   2.1s\n",
      "[CV] reg_lambda=0.017 ................................................\n",
      "[CV] reg_lambda=0.017 ................................................\n",
      "[Parallel(n_jobs=4)]: Done  17 tasks      | elapsed:    9.7s\n",
      "Pickling array (shape=(559,), dtype=int64).\n",
      "Memmaping (shape=(559, 2000), dtype=float64) to old file /var/folders/xs/py6_f0f11_d4vvgct3h4zp280000gn/T/joblib_memmaping_pool_44572_4682703144/44572-4744992080-565ad64fe25933183111a39484eb289d.pkl\n",
      "Pickling array (shape=(559,), dtype=int64).\n",
      "Pickling array (shape=(2000,), dtype=float64).\n",
      "Pickling array (shape=(1600,), dtype=int64).\n",
      "Pickling array (shape=(400,), dtype=int64).\n",
      "[Parallel(n_jobs=4)]: Done  18 tasks      | elapsed:    9.8s\n",
      "Pickling array (shape=(559,), dtype=int64).\n",
      "[Parallel(n_jobs=4)]: Done  19 out of  25 | elapsed:    9.8s remaining:    3.1s\n",
      "Memmaping (shape=(559, 2000), dtype=float64) to old file /var/folders/xs/py6_f0f11_d4vvgct3h4zp280000gn/T/joblib_memmaping_pool_44572_4682703144/44572-4744992080-565ad64fe25933183111a39484eb289d.pkl\n",
      "Pickling array (shape=(559,), dtype=int64).\n",
      "Pickling array (shape=(2000,), dtype=float64).\n",
      "Pickling array (shape=(1600,), dtype=int64).\n",
      "Pickling array (shape=(400,), dtype=int64).\n",
      "Pickling array (shape=(559,), dtype=int64).\n",
      "Memmaping (shape=(559, 2000), dtype=float64) to old file /var/folders/xs/py6_f0f11_d4vvgct3h4zp280000gn/T/joblib_memmaping_pool_44572_4682703144/44572-4744992080-565ad64fe25933183111a39484eb289d.pkl\n",
      "Pickling array (shape=(559,), dtype=int64).\n",
      "Pickling array (shape=(2000,), dtype=float64).\n",
      "Pickling array (shape=(1600,), dtype=int64).\n",
      "Pickling array (shape=(400,), dtype=int64).\n",
      "[CV] ....................... reg_lambda=0.013, score=0.893350 -   2.3s\n",
      "[CV] reg_lambda=0.017 ................................................\n",
      "[Parallel(n_jobs=4)]: Done  20 out of  25 | elapsed:    9.9s remaining:    2.5s\n",
      "[CV] ....................... reg_lambda=0.017, score=0.893225 -   2.0s\n",
      "[CV] reg_lambda=0.017 ................................................\n",
      "[Parallel(n_jobs=4)]: Done  21 out of  25 | elapsed:   11.7s remaining:    2.2s\n",
      "[CV] ....................... reg_lambda=0.017, score=0.893350 -   2.1s\n",
      "[CV] ....................... reg_lambda=0.017, score=0.913312 -   2.1s\n",
      "[CV] ....................... reg_lambda=0.017, score=0.878875 -   2.1s\n",
      "[Parallel(n_jobs=4)]: Done  22 out of  25 | elapsed:   12.0s remaining:    1.6s\n",
      "[Parallel(n_jobs=4)]: Done  23 out of  25 | elapsed:   12.0s remaining:    1.0s\n",
      "[CV] ....................... reg_lambda=0.017, score=0.887825 -   1.2s\n",
      "[Parallel(n_jobs=4)]: Done  25 out of  25 | elapsed:   13.0s remaining:    0.0s\n",
      "[Parallel(n_jobs=4)]: Done  25 out of  25 | elapsed:   13.0s finished\n",
      "{'reg_lambda': 0.005}\n",
      "0.89347\n"
     ]
    }
   ],
   "source": [
    "model.set_params(subsample=1.0)\n",
    "model.set_params(colsample_bytree=0.6)\n",
    "model.set_params(n_estimators = 21)\n",
    "model.set_params(reg_alpha=0.011)\n",
    "model.set_params(max_depth = 5)\n",
    "model.set_params(min_child_weight = 3)\n",
    "model.set_params(gamma = 0.4)\n",
    "model.set_params(learning_rate = 0.04496)\n",
    "\n",
    "\n",
    "param_test7 = {\n",
    "'reg_lambda': [i/1000 for i in range(1,20,4)]\n",
    "}\n",
    "gsearch7 = GridSearchCV(estimator = model, param_grid = param_test7, scoring = 'roc_auc',n_jobs = 4, iid = False, cv = cv_folds, verbose = 200)\n",
    "gsearch7.fit(X,y)\n",
    "print (gsearch7.best_params_)\n",
    "print (gsearch7.best_score_)"
   ]
  },
  {
   "cell_type": "markdown",
   "metadata": {},
   "source": [
    "colsample_bytree=0.6, gamma=0.0468, \n",
    "learning_rate=0.04496, max_depth=5, \n",
    "min_child_weight=3, n_estimators=2000,\n",
    "reg_alpha=0.011, reg_lambda=0.005,\n",
    "subsample=1, silent=1, nthread = -1"
   ]
  },
  {
   "cell_type": "code",
   "execution_count": 158,
   "metadata": {},
   "outputs": [
    {
     "name": "stdout",
     "output_type": "stream",
     "text": [
      "XGBoostClassifier classifier: gini = nan, precision = 0.7520, accuracy = 0.7420, f1 score = 0.7446\n"
     ]
    },
    {
     "name": "stderr",
     "output_type": "stream",
     "text": [
      "/Anaconda/anaconda/lib/python3.6/site-packages/ipykernel_launcher.py:6: RuntimeWarning: divide by zero encountered in double_scalars\n",
      "  \n",
      "/Anaconda/anaconda/lib/python3.6/site-packages/ipykernel_launcher.py:12: RuntimeWarning: invalid value encountered in double_scalars\n",
      "  if sys.path[0] == '':\n"
     ]
    }
   ],
   "source": [
    "xgb10=xgb.XGBClassifier(colsample_bytree=0.6, gamma=0.0468, \n",
    "learning_rate=0.04496, max_depth=5, \n",
    "min_child_weight=3, n_estimators=2000,\n",
    "reg_alpha=0.011, reg_lambda=0.005,\n",
    "subsample=1, silent=1, nthread = -1)\n",
    "\n",
    "xgb10.fit(X_train,y_train)\n",
    "ypred = xgb10.predict(X_test)\n",
    "gini_ = gini_normalized(y_test,ypred)\n",
    "precision_ = precision_score(ypred, y_test)\n",
    "accuracy_ = accuracy_score(ypred,y_test)\n",
    "f1_ = f1_score(ypred,y_test)\n",
    "print('%s classifier: gini = %.4f, precision = %.4f, accuracy = %.4f, f1 score = %.4f' \n",
    "      %(name, gini_, precision_, accuracy_, f1_))\n"
   ]
  },
  {
   "cell_type": "code",
   "execution_count": 166,
   "metadata": {},
   "outputs": [
    {
     "name": "stdout",
     "output_type": "stream",
     "text": [
      "XGBoostClassifier classifier: gini = nan, precision = 0.8280, accuracy = 0.8000, f1 score = 0.8054\n"
     ]
    },
    {
     "name": "stderr",
     "output_type": "stream",
     "text": [
      "/Anaconda/anaconda/lib/python3.6/site-packages/ipykernel_launcher.py:6: RuntimeWarning: divide by zero encountered in double_scalars\n",
      "  \n",
      "/Anaconda/anaconda/lib/python3.6/site-packages/ipykernel_launcher.py:12: RuntimeWarning: invalid value encountered in double_scalars\n",
      "  if sys.path[0] == '':\n"
     ]
    }
   ],
   "source": [
    "xgb11=xgb.XGBClassifier(colsample_bytree=0.6, gamma=0.0468, \n",
    "learning_rate=0.04496, max_depth=5, \n",
    "min_child_weight=3, n_estimators=21,\n",
    "reg_alpha=0.011, reg_lambda=0.005,\n",
    "subsample=1, silent=1)\n",
    "\n",
    "xgb11.fit(X_train,y_train)\n",
    "ypred = xgb11.predict(X_test)\n",
    "gini_ = gini_normalized(y_test,ypred)\n",
    "precision_ = precision_score(ypred, y_test)\n",
    "accuracy_ = accuracy_score(ypred,y_test)\n",
    "f1_ = f1_score(ypred,y_test)\n",
    "print('%s classifier: gini = %.4f, precision = %.4f, accuracy = %.4f, f1 score = %.4f' \n",
    "      %(name, gini_, precision_, accuracy_, f1_))"
   ]
  },
  {
   "cell_type": "code",
   "execution_count": null,
   "metadata": {
    "collapsed": true
   },
   "outputs": [],
   "source": []
  },
  {
   "cell_type": "code",
   "execution_count": null,
   "metadata": {
    "collapsed": true
   },
   "outputs": [],
   "source": []
  },
  {
   "cell_type": "code",
   "execution_count": null,
   "metadata": {
    "collapsed": true
   },
   "outputs": [],
   "source": []
  },
  {
   "cell_type": "code",
   "execution_count": null,
   "metadata": {
    "collapsed": true
   },
   "outputs": [],
   "source": []
  },
  {
   "cell_type": "code",
   "execution_count": null,
   "metadata": {
    "collapsed": true
   },
   "outputs": [],
   "source": []
  },
  {
   "cell_type": "code",
   "execution_count": 102,
   "metadata": {
    "collapsed": true
   },
   "outputs": [
    {
     "name": "stdout",
     "output_type": "stream",
     "text": [
      "XGBoostClassifier classifier: gini = 0.2311, precision = 0.6517, accuracy = 0.6200, f1 score = 0.6042\n"
     ]
    },
    {
     "ename": "ValueError",
     "evalue": "Classification metrics can't handle a mix of continuous and binary targets",
     "output_type": "error",
     "traceback": [
      "\u001b[0;31m---------------------------------------------------------------------------\u001b[0m",
      "\u001b[0;31mValueError\u001b[0m                                Traceback (most recent call last)",
      "\u001b[0;32m<ipython-input-102-363cfab3a69b>\u001b[0m in \u001b[0;36m<module>\u001b[0;34m()\u001b[0m\n\u001b[1;32m     28\u001b[0m     \u001b[0mactuals\u001b[0m \u001b[0;34m=\u001b[0m \u001b[0my\u001b[0m\u001b[0;34m.\u001b[0m\u001b[0mloc\u001b[0m\u001b[0;34m[\u001b[0m\u001b[0mtest\u001b[0m\u001b[0;34m]\u001b[0m\u001b[0;34m\u001b[0m\u001b[0m\n\u001b[1;32m     29\u001b[0m     \u001b[0mgini_\u001b[0m \u001b[0;34m=\u001b[0m \u001b[0mgini_normalized\u001b[0m\u001b[0;34m(\u001b[0m\u001b[0mactuals\u001b[0m\u001b[0;34m,\u001b[0m\u001b[0mypred\u001b[0m\u001b[0;34m)\u001b[0m\u001b[0;34m\u001b[0m\u001b[0m\n\u001b[0;32m---> 30\u001b[0;31m     \u001b[0mprecision_\u001b[0m \u001b[0;34m=\u001b[0m \u001b[0mprecision_score\u001b[0m\u001b[0;34m(\u001b[0m\u001b[0mypred\u001b[0m\u001b[0;34m,\u001b[0m \u001b[0mactuals\u001b[0m\u001b[0;34m)\u001b[0m\u001b[0;34m\u001b[0m\u001b[0m\n\u001b[0m\u001b[1;32m     31\u001b[0m \u001b[0;31m#     accuracy_ = accuracy_score(ypred, actuals)\u001b[0m\u001b[0;34m\u001b[0m\u001b[0;34m\u001b[0m\u001b[0m\n\u001b[1;32m     32\u001b[0m \u001b[0;31m#     f1_ = f1_score(ypred,actuals)\u001b[0m\u001b[0;34m\u001b[0m\u001b[0;34m\u001b[0m\u001b[0m\n",
      "\u001b[0;32m/Anaconda/anaconda/lib/python3.6/site-packages/sklearn/metrics/classification.py\u001b[0m in \u001b[0;36mprecision_score\u001b[0;34m(y_true, y_pred, labels, pos_label, average, sample_weight)\u001b[0m\n\u001b[1;32m   1259\u001b[0m                                                  \u001b[0maverage\u001b[0m\u001b[0;34m=\u001b[0m\u001b[0maverage\u001b[0m\u001b[0;34m,\u001b[0m\u001b[0;34m\u001b[0m\u001b[0m\n\u001b[1;32m   1260\u001b[0m                                                  \u001b[0mwarn_for\u001b[0m\u001b[0;34m=\u001b[0m\u001b[0;34m(\u001b[0m\u001b[0;34m'precision'\u001b[0m\u001b[0;34m,\u001b[0m\u001b[0;34m)\u001b[0m\u001b[0;34m,\u001b[0m\u001b[0;34m\u001b[0m\u001b[0m\n\u001b[0;32m-> 1261\u001b[0;31m                                                  sample_weight=sample_weight)\n\u001b[0m\u001b[1;32m   1262\u001b[0m     \u001b[0;32mreturn\u001b[0m \u001b[0mp\u001b[0m\u001b[0;34m\u001b[0m\u001b[0m\n\u001b[1;32m   1263\u001b[0m \u001b[0;34m\u001b[0m\u001b[0m\n",
      "\u001b[0;32m/Anaconda/anaconda/lib/python3.6/site-packages/sklearn/metrics/classification.py\u001b[0m in \u001b[0;36mprecision_recall_fscore_support\u001b[0;34m(y_true, y_pred, beta, labels, pos_label, average, warn_for, sample_weight)\u001b[0m\n\u001b[1;32m   1023\u001b[0m         \u001b[0;32mraise\u001b[0m \u001b[0mValueError\u001b[0m\u001b[0;34m(\u001b[0m\u001b[0;34m\"beta should be >0 in the F-beta score\"\u001b[0m\u001b[0;34m)\u001b[0m\u001b[0;34m\u001b[0m\u001b[0m\n\u001b[1;32m   1024\u001b[0m \u001b[0;34m\u001b[0m\u001b[0m\n\u001b[0;32m-> 1025\u001b[0;31m     \u001b[0my_type\u001b[0m\u001b[0;34m,\u001b[0m \u001b[0my_true\u001b[0m\u001b[0;34m,\u001b[0m \u001b[0my_pred\u001b[0m \u001b[0;34m=\u001b[0m \u001b[0m_check_targets\u001b[0m\u001b[0;34m(\u001b[0m\u001b[0my_true\u001b[0m\u001b[0;34m,\u001b[0m \u001b[0my_pred\u001b[0m\u001b[0;34m)\u001b[0m\u001b[0;34m\u001b[0m\u001b[0m\n\u001b[0m\u001b[1;32m   1026\u001b[0m     \u001b[0mpresent_labels\u001b[0m \u001b[0;34m=\u001b[0m \u001b[0munique_labels\u001b[0m\u001b[0;34m(\u001b[0m\u001b[0my_true\u001b[0m\u001b[0;34m,\u001b[0m \u001b[0my_pred\u001b[0m\u001b[0;34m)\u001b[0m\u001b[0;34m\u001b[0m\u001b[0m\n\u001b[1;32m   1027\u001b[0m \u001b[0;34m\u001b[0m\u001b[0m\n",
      "\u001b[0;32m/Anaconda/anaconda/lib/python3.6/site-packages/sklearn/metrics/classification.py\u001b[0m in \u001b[0;36m_check_targets\u001b[0;34m(y_true, y_pred)\u001b[0m\n\u001b[1;32m     79\u001b[0m     \u001b[0;32mif\u001b[0m \u001b[0mlen\u001b[0m\u001b[0;34m(\u001b[0m\u001b[0my_type\u001b[0m\u001b[0;34m)\u001b[0m \u001b[0;34m>\u001b[0m \u001b[0;36m1\u001b[0m\u001b[0;34m:\u001b[0m\u001b[0;34m\u001b[0m\u001b[0m\n\u001b[1;32m     80\u001b[0m         raise ValueError(\"Classification metrics can't handle a mix of {0} \"\n\u001b[0;32m---> 81\u001b[0;31m                          \"and {1} targets\".format(type_true, type_pred))\n\u001b[0m\u001b[1;32m     82\u001b[0m \u001b[0;34m\u001b[0m\u001b[0m\n\u001b[1;32m     83\u001b[0m     \u001b[0;31m# We can't have more than one value on y_type => The set is no more needed\u001b[0m\u001b[0;34m\u001b[0m\u001b[0;34m\u001b[0m\u001b[0m\n",
      "\u001b[0;31mValueError\u001b[0m: Classification metrics can't handle a mix of continuous and binary targets"
     ]
    }
   ],
   "source": [
    "from sklearn import datasets, metrics, cross_validation\n",
    "from sklearn import linear_model\n",
    "from sklearn.model_selection import ShuffleSplit\n",
    "rs = ShuffleSplit(n_splits=10, test_size=.1, random_state=0)\n",
    "\n",
    "path1 = 'obtrain-ml.csv'\n",
    "df = pd.read_csv(path1, header=None)\n",
    "y = df[559]\n",
    "X = df.drop(559,axis=1)\n",
    "# y = y.replace([-1.0], 0)\n",
    "\n",
    "cv = rs.split(X)\n",
    "linear_model.LogisticRegression\n",
    "for i, (train, test) in enumerate(cv):\n",
    "    clf = (C=1.)\n",
    "    clf.fit(X.loc[train], y.loc[train])\n",
    "    ypred = clf.predict(X.loc[test])\n",
    "    actuals = y.loc[test]\n",
    "    gini_ = gini_normalized(actuals,ypred)\n",
    "    precision_ = precision_score(ypred, actuals)\n",
    "#     accuracy_ = accuracy_score(ypred, actuals)\n",
    "#     f1_ = f1_score(ypred,actuals)\n",
    "    print('%s classifier: gini = %.4f, precision = %.4f, accuracy = %.4f, f1 score = %.4f'%(name, gini_, precision_, accuracy_, f1_))\n",
    "\n",
    "    clf = linear_model.Ridge(alpha=1.)\n",
    "    clf.fit(X.loc[train], y.loc[train])\n",
    "    ypred = clf.predict(X.loc[test])\n",
    "    actuals = y.loc[test]\n",
    "    gini_ = gini_normalized(actuals,ypred)\n",
    "    precision_ = precision_score(ypred, actuals)\n",
    "#     accuracy_ = accuracy_score(ypred, actuals)\n",
    "#     f1_ = f1_score(ypred,actuals)\n",
    "    print('%s classifier: gini = %.4f, precision = %.4f, accuracy = %.4f, f1 score = %.4f'%(name, gini_, precision_, accuracy_, f1_))\n"
   ]
  },
  {
   "cell_type": "code",
   "execution_count": 82,
   "metadata": {
    "collapsed": true
   },
   "outputs": [
    {
     "name": "stdout",
     "output_type": "stream",
     "text": [
      "RandomForest Fold 1 :\n",
      "0.6\n",
      "RandomForest Fold 2 :\n",
      "0.56\n",
      "RandomForest Fold 3 :\n",
      "0.6\n",
      "RandomForest Fold 4 :\n",
      "0.57\n",
      "RandomForest Fold 5 :\n",
      "0.565\n",
      "RandomForest Fold 6 :\n",
      "0.635\n",
      "RandomForest Fold 7 :\n",
      "0.625\n",
      "RandomForest Fold 8 :\n",
      "0.645\n",
      "RandomForest Fold 9 :\n",
      "0.615\n",
      "RandomForest Fold 10 :\n",
      "0.585\n",
      "RandomForestaccuracy_score： 0.6\n",
      "AdaBoost Fold 1 :\n",
      "0.62\n",
      "AdaBoost Fold 2 :\n",
      "0.61\n",
      "AdaBoost Fold 3 :\n",
      "0.56\n",
      "AdaBoost Fold 4 :\n",
      "0.58\n",
      "AdaBoost Fold 5 :\n",
      "0.605\n",
      "AdaBoost Fold 6 :\n",
      "0.59\n",
      "AdaBoost Fold 7 :\n",
      "0.62\n",
      "AdaBoost Fold 8 :\n",
      "0.53\n",
      "AdaBoost Fold 9 :\n",
      "0.63\n",
      "AdaBoost Fold 10 :\n",
      "0.56\n",
      "AdaBoostaccuracy_score： 0.5905\n",
      "Extra Tree Fold 1 :\n",
      "0.62\n",
      "Extra Tree Fold 2 :\n",
      "0.535\n",
      "Extra Tree Fold 3 :\n",
      "0.525\n",
      "Extra Tree Fold 4 :\n",
      "0.54\n",
      "Extra Tree Fold 5 :\n",
      "0.545\n",
      "Extra Tree Fold 6 :\n",
      "0.485\n",
      "Extra Tree Fold 7 :\n",
      "0.555\n",
      "Extra Tree Fold 8 :\n",
      "0.53\n",
      "Extra Tree Fold 9 :\n",
      "0.555\n",
      "Extra Tree Fold 10 :\n",
      "0.6\n",
      "Extra Treeaccuracy_score： 0.549\n"
     ]
    }
   ],
   "source": [
    "#other models\n",
    "from sklearn.ensemble import RandomForestClassifier\n",
    "from sklearn.ensemble import AdaBoostClassifier\n",
    "from sklearn.ensemble import ExtraTreesClassifier\n",
    "from sklearn.metrics import accuracy_score\n",
    "from sklearn.metrics import f1_score\n",
    "from sklearn.metrics import roc_auc_score\n",
    "from imblearn.metrics import classification_report_imbalanced\n",
    "from collections import defaultdict\n",
    "\n",
    "estimators = {'RandomForest':RandomForestClassifier(),'AdaBoost': AdaBoostClassifier(), 'Extra Tree': ExtraTreesClassifier()}\n",
    "\n",
    "for name,clf in estimators.items():  \n",
    "    clf_err = []\n",
    "    cv = rs.split(X)\n",
    "    for i, (train_index, test_index) in enumerate(cv):\n",
    "#         print(\"%s Fold %s :\"%(name, i+1))\n",
    "        clf.fit(X.loc[train_index], y.loc[train_index])\n",
    "        y_pred = clf.predict(X.loc[test_index])\n",
    "        actuals = y.loc[test_index]\n",
    "        s=metrics.accuracy_score(actuals, y_pred, normalize=True)\n",
    "#         print(s)\n",
    "        clf_err.append(s)\n",
    "    print(name + 'accuracy_score： %s' % np.mean(clf_err))\n"
   ]
  },
  {
   "cell_type": "code",
   "execution_count": null,
   "metadata": {
    "collapsed": true
   },
   "outputs": [],
   "source": []
  }
 ],
 "metadata": {
  "kernelspec": {
   "display_name": "Python 3",
   "language": "python",
   "name": "python3"
  },
  "language_info": {
   "codemirror_mode": {
    "name": "ipython",
    "version": 3
   },
   "file_extension": ".py",
   "mimetype": "text/x-python",
   "name": "python",
   "nbconvert_exporter": "python",
   "pygments_lexer": "ipython3",
   "version": "3.6.1"
  }
 },
 "nbformat": 4,
 "nbformat_minor": 2
}
